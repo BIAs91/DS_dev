{
 "cells": [
  {
   "cell_type": "markdown",
   "metadata": {},
   "source": [
    "# Загрузка библиотек и датасета"
   ]
  },
  {
   "cell_type": "code",
   "execution_count": 254,
   "metadata": {
    "ExecuteTime": {
     "end_time": "2020-09-13T08:48:29.450158Z",
     "start_time": "2020-09-13T08:48:29.437970Z"
    }
   },
   "outputs": [],
   "source": [
    "import pandas as pd\n",
    "import numpy as np\n",
    "import seaborn as sns\n",
    "import matplotlib.pyplot as plt\n",
    "import re\n",
    "import math\n",
    "from sklearn.preprocessing import MinMaxScaler\n",
    "from itertools import combinations\n",
    "from scipy.stats import ttest_ind\n",
    "from datetime import datetime, timedelta\n",
    "\n",
    "pd.set_option('display.max_rows', 50)\n",
    "pd.set_option('display.max_columns', 50)"
   ]
  },
  {
   "cell_type": "code",
   "execution_count": 255,
   "metadata": {
    "ExecuteTime": {
     "end_time": "2020-09-13T08:48:29.735103Z",
     "start_time": "2020-09-13T08:48:29.521477Z"
    }
   },
   "outputs": [],
   "source": [
    "df = pd.read_csv('main_task.csv')"
   ]
  },
  {
   "cell_type": "markdown",
   "metadata": {},
   "source": [
    "# Определение функций"
   ]
  },
  {
   "cell_type": "code",
   "execution_count": 256,
   "metadata": {
    "ExecuteTime": {
     "end_time": "2020-09-13T08:48:29.792615Z",
     "start_time": "2020-09-13T08:48:29.750442Z"
    }
   },
   "outputs": [],
   "source": [
    "def get_nan():\n",
    "    ''' Создание датафрейма со всеми пропусками\n",
    "    '''\n",
    "    return(pd.DataFrame(df.isna().sum(), columns=['NaN']))\n",
    "\n",
    "\n",
    "def reviews_clear(num):\n",
    "    ''' Замена [[], []] на None, для очистки пустых пропусков\n",
    "    '''\n",
    "    if df.reviews == '[[], []]':\n",
    "        return None\n",
    "    return df.reviews\n",
    "\n",
    "\n",
    "def get_price_range(city):\n",
    "    ''' Равномерное заполнение пропусков признака price range\n",
    "    '''\n",
    "    range_sum = df[df.city == city].price_range.value_counts().sum()\n",
    "    range_1 = df[(df.city == city) &\n",
    "                 (df.price_range == '$')].price_range.value_counts()[0]\n",
    "    range_2 = df[(df.city == city) &\n",
    "                 (df.price_range == '$$ - $$$')].price_range.value_counts()[0]\n",
    "    range_3 = df[(df.city == city) &\n",
    "                 (df.price_range == '$$$$')].price_range.value_counts()[0]\n",
    "    zero_data = df[df.city == city].price_range.isna().sum()\n",
    "    lim_1 = int(round(zero_data*range_1/range_sum))\n",
    "    lim_2 = int(round(zero_data*range_2/range_sum))\n",
    "    lim_3 = int(round(zero_data*range_3/range_sum))\n",
    "    mask = df.city == city\n",
    "    df.loc[mask, 'price_range'] = df.loc[mask,\n",
    "                                         'price_range'].fillna('$', limit=lim_1)\n",
    "    df.loc[mask, 'price_range'] = df.loc[mask,\n",
    "                                         'price_range'].fillna('$$ - $$$', limit=lim_2)\n",
    "    df.loc[mask, 'price_range'] = df.loc[mask,\n",
    "                                         'price_range'].fillna('$$$$', limit=lim_3)\n",
    "    df.loc[mask, 'price_range'] = df.loc[mask,\n",
    "                                         'price_range'].fillna('$$ - $$$')\n",
    "\n",
    "\n",
    "def get_cuisin(country):\n",
    "    dfc = df[df.country == country]\n",
    "    cuisines_country_all = []\n",
    "    for data in dfc.cuisines.dropna():\n",
    "        for cuisines in data[1:-1].split(', '):\n",
    "            cuisines_country_all.append(cuisines[1:-1])\n",
    "    cuisines_country = set()\n",
    "    for cuisin in cuisines_country_all:\n",
    "        cuisines_country.add(cuisin)\n",
    "    cuisines_country_num = {}\n",
    "    for item in cuisines_country:\n",
    "        cuisines_country_num[item] = 0\n",
    "    for cuisin in cuisines_country_all:\n",
    "        cuisines_country_num[cuisin] += 1\n",
    "    df_c_c_num = pd.DataFrame.from_dict(cuisines_country_num,\n",
    "                                        orient='index', columns=['num'])\n",
    "    df_c_c_num.reset_index(inplace=True)\n",
    "    df_c_c_num['index'] = df_c_c_num['index'].apply(\n",
    "        lambda x: 'zero' if x.strip() == '' else x)\n",
    "    df_c_c_num = df_c_c_num.loc[df_c_c_num['index'] != 'zero']\n",
    "    index_cuis = df_c_c_num.num.sort_values(ascending=False).index[0]\n",
    "    cuis = df_c_c_num['index'][index_cuis]\n",
    "    return cuis\n",
    "\n",
    "\n",
    "def get_country(city):\n",
    "    for key, value in country.items():\n",
    "        if key == city:\n",
    "            return value\n",
    "    return 'other'\n",
    "\n",
    "\n",
    "def get_mood(scroll):\n",
    "    i = 0\n",
    "    for word in scroll:\n",
    "        for mood in good:\n",
    "            if mood == word.lower():\n",
    "                i += 1\n",
    "    return i\n",
    "\n",
    "\n",
    "def categorical_check(col):\n",
    "    '''Unique data counter output and basic statistics\n",
    "    '''\n",
    "    display(pd.DataFrame(df[col].value_counts()))\n",
    "    display(df[col].describe())\n",
    "\n",
    "\n",
    "def numerical_check(col):\n",
    "    '''Histogram output and basic statistics\n",
    "    '''\n",
    "    display(df[col].hist(bins=100))\n",
    "    display(df[col].describe())\n",
    "\n",
    "    \n",
    "def outliers(col):\n",
    "    '''Plotting Outliers and Calculating Outlier Boundaries\n",
    "    '''\n",
    "    median = df[col].median()\n",
    "    IQR = df[col].quantile(0.75) - df[col].quantile(0.25)\n",
    "    perc25 = df[col].quantile(0.25)\n",
    "    perc75 = df[col].quantile(0.75)\n",
    "    l_side = perc25 - 1.5*IQR\n",
    "    r_side = perc75 + 1.5*IQR\n",
    "    print('25 percentile: {}'.format(perc25),\n",
    "          '\\n75 percentile: {}'.format(perc75),\n",
    "          '\\nData Outlier Boundaries:',\n",
    "          '\\nleft: {}'.format(l_side),\n",
    "          '\\nright: {}'.format(r_side))\n",
    "    df[col].loc[df[col].between(perc25 - 1.5*IQR, perc75 + 1.5*IQR)]\\\n",
    "    .hist(bins=100, range=(0, 10000), label='values')\n",
    "    df[col].loc[df[col] >= r_side].hist(alpha=0.5, bins=100, range=(0, 10000),\n",
    "                                        label='Data Outlier')\n",
    "    plt.legend()\n",
    "    \n",
    "    \n",
    "def get_norm(column, rank, city):\n",
    "    x_min = df[df.city == city][column].min()\n",
    "    x_max = df[df.city == city][column].max()\n",
    "    x = (rank - x_min)/(x_max - x_min)\n",
    "    return x\n",
    "\n",
    "\n",
    "def get_price(price):\n",
    "    if price == '$':\n",
    "        return 1\n",
    "    if price == '$$ - $$$':\n",
    "        return 2\n",
    "    if price == '$$$$':\n",
    "        return 3\n",
    "    \n",
    "\n",
    "def get_vegan(cuisines):\n",
    "    if (cuisines.lower().find('vegan') != -1) or\\\n",
    "    (cuisines.lower().find('vegetarian') != -1):\n",
    "        return 1\n",
    "    return 0\n",
    "\n",
    "\n",
    "def get_norm_col(column):\n",
    "    scaler = MinMaxScaler()\n",
    "    get_column = pd.DataFrame(df[column])\n",
    "    get_column_norm = scaler.fit_transform(get_column)\n",
    "    return get_column_norm\n",
    "\n",
    "def get_corr(dataframe):\n",
    "    '''Building a heatmap of correlated data\n",
    "    '''\n",
    "    df = dataframe\n",
    "    plt.figure(figsize=(12, 10), dpi=300)\n",
    "    sns.heatmap(df.corr(), xticklabels=df.corr().columns,\n",
    "                yticklabels=df.corr().columns, cmap='RdYlGn',\n",
    "                center=0, annot=True)\n",
    "    plt.title('Correlation', fontsize=16)\n",
    "    plt.xticks(fontsize=10)\n",
    "    plt.yticks(fontsize=10)\n",
    "    plt.show()\n",
    "\n",
    "\n",
    "def get_top_cuisin(cuisines):\n",
    "    for data in cuisines[1:-1].split(', '):\n",
    "        for cuis in top_cuisines:\n",
    "            if cuis == data[1:-1]:\n",
    "                return 1\n",
    "    return 0\n",
    "\n",
    "def MAE_mean_count(DF, count):\n",
    "    X = DF.drop('rating', axis=1)\n",
    "    y = DF['rating']\n",
    "    X_train, X_test, y_train, y_test = train_test_split(X, y, test_size=0.25)\n",
    "    MAE_mean = 0\n",
    "    for i in range(count):\n",
    "        regr = RandomForestRegressor(n_estimators=100)\n",
    "        regr.fit(X_train, y_train)\n",
    "        y_pred = regr.predict(X_test)\n",
    "        for i in range(len(y_pred)):\n",
    "            y_pred[i] = fine_rating_pred(y_pred[i])\n",
    "        MAE = metrics.mean_absolute_error(y_test, y_pred)\n",
    "        MAE_mean += MAE\n",
    "        print('MAE:', MAE)\n",
    "    print('MAE_mean:', round(MAE_mean/count, 5))\n",
    "    \n",
    "\n",
    "def fine_rating_pred(rating_pred):\n",
    "    if rating_pred <= 0.5:\n",
    "        return 0.0\n",
    "    if rating_pred <= 1.5:\n",
    "        return 1.0\n",
    "    if rating_pred <= 1.75:\n",
    "        return 1.5\n",
    "    if rating_pred <= 2.25:\n",
    "        return 2.0\n",
    "    if rating_pred <= 2.75:\n",
    "        return 2.5\n",
    "    if rating_pred <= 3.25:\n",
    "        return 3.0\n",
    "    if rating_pred <= 3.75:\n",
    "        return 3.5\n",
    "    if rating_pred <= 4.25:\n",
    "        return 4.0\n",
    "    if rating_pred <= 4.75:\n",
    "        return 4.5\n",
    "    return 5.0"
   ]
  },
  {
   "cell_type": "markdown",
   "metadata": {},
   "source": [
    "# Очистка и дополнение данных"
   ]
  },
  {
   "cell_type": "code",
   "execution_count": 257,
   "metadata": {
    "ExecuteTime": {
     "end_time": "2020-09-13T08:48:29.906731Z",
     "start_time": "2020-09-13T08:48:29.861328Z"
    }
   },
   "outputs": [
    {
     "name": "stdout",
     "output_type": "stream",
     "text": [
      "<class 'pandas.core.frame.DataFrame'>\n",
      "RangeIndex: 40000 entries, 0 to 39999\n",
      "Data columns (total 10 columns):\n",
      " #   Column             Non-Null Count  Dtype  \n",
      "---  ------             --------------  -----  \n",
      " 0   Restaurant_id      40000 non-null  object \n",
      " 1   City               40000 non-null  object \n",
      " 2   Cuisine Style      30717 non-null  object \n",
      " 3   Ranking            40000 non-null  float64\n",
      " 4   Rating             40000 non-null  float64\n",
      " 5   Price Range        26114 non-null  object \n",
      " 6   Number of Reviews  37457 non-null  float64\n",
      " 7   Reviews            40000 non-null  object \n",
      " 8   URL_TA             40000 non-null  object \n",
      " 9   ID_TA              40000 non-null  object \n",
      "dtypes: float64(3), object(7)\n",
      "memory usage: 3.1+ MB\n"
     ]
    }
   ],
   "source": [
    "df.info()"
   ]
  },
  {
   "cell_type": "code",
   "execution_count": 258,
   "metadata": {
    "ExecuteTime": {
     "end_time": "2020-09-13T08:48:29.958665Z",
     "start_time": "2020-09-13T08:48:29.941995Z"
    }
   },
   "outputs": [
    {
     "data": {
      "text/html": [
       "<div>\n",
       "<style scoped>\n",
       "    .dataframe tbody tr th:only-of-type {\n",
       "        vertical-align: middle;\n",
       "    }\n",
       "\n",
       "    .dataframe tbody tr th {\n",
       "        vertical-align: top;\n",
       "    }\n",
       "\n",
       "    .dataframe thead th {\n",
       "        text-align: right;\n",
       "    }\n",
       "</style>\n",
       "<table border=\"1\" class=\"dataframe\">\n",
       "  <thead>\n",
       "    <tr style=\"text-align: right;\">\n",
       "      <th></th>\n",
       "      <th>Restaurant_id</th>\n",
       "      <th>City</th>\n",
       "      <th>Cuisine Style</th>\n",
       "      <th>Ranking</th>\n",
       "      <th>Rating</th>\n",
       "      <th>Price Range</th>\n",
       "      <th>Number of Reviews</th>\n",
       "      <th>Reviews</th>\n",
       "      <th>URL_TA</th>\n",
       "      <th>ID_TA</th>\n",
       "    </tr>\n",
       "  </thead>\n",
       "  <tbody>\n",
       "    <tr>\n",
       "      <th>0</th>\n",
       "      <td>id_5569</td>\n",
       "      <td>Paris</td>\n",
       "      <td>['European', 'French', 'International']</td>\n",
       "      <td>5570.0</td>\n",
       "      <td>3.5</td>\n",
       "      <td>$$ - $$$</td>\n",
       "      <td>194.0</td>\n",
       "      <td>[['Good food at your doorstep', 'A good hotel ...</td>\n",
       "      <td>/Restaurant_Review-g187147-d1912643-Reviews-R_...</td>\n",
       "      <td>d1912643</td>\n",
       "    </tr>\n",
       "    <tr>\n",
       "      <th>1</th>\n",
       "      <td>id_1535</td>\n",
       "      <td>Stockholm</td>\n",
       "      <td>NaN</td>\n",
       "      <td>1537.0</td>\n",
       "      <td>4.0</td>\n",
       "      <td>NaN</td>\n",
       "      <td>10.0</td>\n",
       "      <td>[['Unique cuisine', 'Delicious Nepalese food']...</td>\n",
       "      <td>/Restaurant_Review-g189852-d7992032-Reviews-Bu...</td>\n",
       "      <td>d7992032</td>\n",
       "    </tr>\n",
       "    <tr>\n",
       "      <th>2</th>\n",
       "      <td>id_352</td>\n",
       "      <td>London</td>\n",
       "      <td>['Japanese', 'Sushi', 'Asian', 'Grill', 'Veget...</td>\n",
       "      <td>353.0</td>\n",
       "      <td>4.5</td>\n",
       "      <td>$$$$</td>\n",
       "      <td>688.0</td>\n",
       "      <td>[['Catch up with friends', 'Not exceptional'],...</td>\n",
       "      <td>/Restaurant_Review-g186338-d8632781-Reviews-RO...</td>\n",
       "      <td>d8632781</td>\n",
       "    </tr>\n",
       "    <tr>\n",
       "      <th>3</th>\n",
       "      <td>id_3456</td>\n",
       "      <td>Berlin</td>\n",
       "      <td>NaN</td>\n",
       "      <td>3458.0</td>\n",
       "      <td>5.0</td>\n",
       "      <td>NaN</td>\n",
       "      <td>3.0</td>\n",
       "      <td>[[], []]</td>\n",
       "      <td>/Restaurant_Review-g187323-d1358776-Reviews-Es...</td>\n",
       "      <td>d1358776</td>\n",
       "    </tr>\n",
       "    <tr>\n",
       "      <th>4</th>\n",
       "      <td>id_615</td>\n",
       "      <td>Munich</td>\n",
       "      <td>['German', 'Central European', 'Vegetarian Fri...</td>\n",
       "      <td>621.0</td>\n",
       "      <td>4.0</td>\n",
       "      <td>$$ - $$$</td>\n",
       "      <td>84.0</td>\n",
       "      <td>[['Best place to try a Bavarian food', 'Nice b...</td>\n",
       "      <td>/Restaurant_Review-g187309-d6864963-Reviews-Au...</td>\n",
       "      <td>d6864963</td>\n",
       "    </tr>\n",
       "  </tbody>\n",
       "</table>\n",
       "</div>"
      ],
      "text/plain": [
       "  Restaurant_id       City                                      Cuisine Style  \\\n",
       "0       id_5569      Paris            ['European', 'French', 'International']   \n",
       "1       id_1535  Stockholm                                                NaN   \n",
       "2        id_352     London  ['Japanese', 'Sushi', 'Asian', 'Grill', 'Veget...   \n",
       "3       id_3456     Berlin                                                NaN   \n",
       "4        id_615     Munich  ['German', 'Central European', 'Vegetarian Fri...   \n",
       "\n",
       "   Ranking  Rating Price Range  Number of Reviews  \\\n",
       "0   5570.0     3.5    $$ - $$$              194.0   \n",
       "1   1537.0     4.0         NaN               10.0   \n",
       "2    353.0     4.5        $$$$              688.0   \n",
       "3   3458.0     5.0         NaN                3.0   \n",
       "4    621.0     4.0    $$ - $$$               84.0   \n",
       "\n",
       "                                             Reviews  \\\n",
       "0  [['Good food at your doorstep', 'A good hotel ...   \n",
       "1  [['Unique cuisine', 'Delicious Nepalese food']...   \n",
       "2  [['Catch up with friends', 'Not exceptional'],...   \n",
       "3                                           [[], []]   \n",
       "4  [['Best place to try a Bavarian food', 'Nice b...   \n",
       "\n",
       "                                              URL_TA     ID_TA  \n",
       "0  /Restaurant_Review-g187147-d1912643-Reviews-R_...  d1912643  \n",
       "1  /Restaurant_Review-g189852-d7992032-Reviews-Bu...  d7992032  \n",
       "2  /Restaurant_Review-g186338-d8632781-Reviews-RO...  d8632781  \n",
       "3  /Restaurant_Review-g187323-d1358776-Reviews-Es...  d1358776  \n",
       "4  /Restaurant_Review-g187309-d6864963-Reviews-Au...  d6864963  "
      ]
     },
     "execution_count": 258,
     "metadata": {},
     "output_type": "execute_result"
    }
   ],
   "source": [
    "df.head()"
   ]
  },
  {
   "cell_type": "code",
   "execution_count": 259,
   "metadata": {
    "ExecuteTime": {
     "end_time": "2020-09-13T08:48:30.105516Z",
     "start_time": "2020-09-13T08:48:30.064260Z"
    }
   },
   "outputs": [
    {
     "data": {
      "text/html": [
       "<div>\n",
       "<style scoped>\n",
       "    .dataframe tbody tr th:only-of-type {\n",
       "        vertical-align: middle;\n",
       "    }\n",
       "\n",
       "    .dataframe tbody tr th {\n",
       "        vertical-align: top;\n",
       "    }\n",
       "\n",
       "    .dataframe thead th {\n",
       "        text-align: right;\n",
       "    }\n",
       "</style>\n",
       "<table border=\"1\" class=\"dataframe\">\n",
       "  <thead>\n",
       "    <tr style=\"text-align: right;\">\n",
       "      <th></th>\n",
       "      <th>NaN</th>\n",
       "    </tr>\n",
       "  </thead>\n",
       "  <tbody>\n",
       "    <tr>\n",
       "      <th>Restaurant_id</th>\n",
       "      <td>0</td>\n",
       "    </tr>\n",
       "    <tr>\n",
       "      <th>City</th>\n",
       "      <td>0</td>\n",
       "    </tr>\n",
       "    <tr>\n",
       "      <th>Cuisine Style</th>\n",
       "      <td>9283</td>\n",
       "    </tr>\n",
       "    <tr>\n",
       "      <th>Ranking</th>\n",
       "      <td>0</td>\n",
       "    </tr>\n",
       "    <tr>\n",
       "      <th>Rating</th>\n",
       "      <td>0</td>\n",
       "    </tr>\n",
       "    <tr>\n",
       "      <th>Price Range</th>\n",
       "      <td>13886</td>\n",
       "    </tr>\n",
       "    <tr>\n",
       "      <th>Number of Reviews</th>\n",
       "      <td>2543</td>\n",
       "    </tr>\n",
       "    <tr>\n",
       "      <th>Reviews</th>\n",
       "      <td>0</td>\n",
       "    </tr>\n",
       "    <tr>\n",
       "      <th>URL_TA</th>\n",
       "      <td>0</td>\n",
       "    </tr>\n",
       "    <tr>\n",
       "      <th>ID_TA</th>\n",
       "      <td>0</td>\n",
       "    </tr>\n",
       "  </tbody>\n",
       "</table>\n",
       "</div>"
      ],
      "text/plain": [
       "                     NaN\n",
       "Restaurant_id          0\n",
       "City                   0\n",
       "Cuisine Style       9283\n",
       "Ranking                0\n",
       "Rating                 0\n",
       "Price Range        13886\n",
       "Number of Reviews   2543\n",
       "Reviews                0\n",
       "URL_TA                 0\n",
       "ID_TA                  0"
      ]
     },
     "execution_count": 259,
     "metadata": {},
     "output_type": "execute_result"
    }
   ],
   "source": [
    "get_nan()"
   ]
  },
  {
   "cell_type": "code",
   "execution_count": 260,
   "metadata": {
    "ExecuteTime": {
     "end_time": "2020-09-13T08:48:30.158251Z",
     "start_time": "2020-09-13T08:48:30.146346Z"
    }
   },
   "outputs": [],
   "source": [
    "df.rename(columns={'Restaurant_id': 'rest_id', 'City': 'city',\n",
    "                   'Cuisine Style': 'cuisines', 'Ranking': 'ranking',\n",
    "                   'Rating': 'rating', 'Price Range': 'price_range',\n",
    "                   'Number of Reviews': 'number_reviews', 'Reviews': 'reviews',\n",
    "                   'URL_TA': 'url_ta', 'ID_TA': 'id_ta'}, inplace=True)"
   ]
  },
  {
   "cell_type": "markdown",
   "metadata": {},
   "source": [
    "## rest_id"
   ]
  },
  {
   "cell_type": "markdown",
   "metadata": {},
   "source": [
    "Данный признак отображает id точки, и не несет ценности"
   ]
  },
  {
   "cell_type": "code",
   "execution_count": 261,
   "metadata": {
    "ExecuteTime": {
     "end_time": "2020-09-13T08:48:30.392244Z",
     "start_time": "2020-09-13T08:48:30.356449Z"
    }
   },
   "outputs": [
    {
     "data": {
      "text/html": [
       "<div>\n",
       "<style scoped>\n",
       "    .dataframe tbody tr th:only-of-type {\n",
       "        vertical-align: middle;\n",
       "    }\n",
       "\n",
       "    .dataframe tbody tr th {\n",
       "        vertical-align: top;\n",
       "    }\n",
       "\n",
       "    .dataframe thead th {\n",
       "        text-align: right;\n",
       "    }\n",
       "</style>\n",
       "<table border=\"1\" class=\"dataframe\">\n",
       "  <thead>\n",
       "    <tr style=\"text-align: right;\">\n",
       "      <th></th>\n",
       "      <th>rest_id</th>\n",
       "    </tr>\n",
       "  </thead>\n",
       "  <tbody>\n",
       "    <tr>\n",
       "      <th>id_227</th>\n",
       "      <td>18</td>\n",
       "    </tr>\n",
       "    <tr>\n",
       "      <th>id_633</th>\n",
       "      <td>18</td>\n",
       "    </tr>\n",
       "    <tr>\n",
       "      <th>id_871</th>\n",
       "      <td>18</td>\n",
       "    </tr>\n",
       "    <tr>\n",
       "      <th>id_436</th>\n",
       "      <td>18</td>\n",
       "    </tr>\n",
       "    <tr>\n",
       "      <th>id_585</th>\n",
       "      <td>17</td>\n",
       "    </tr>\n",
       "    <tr>\n",
       "      <th>...</th>\n",
       "      <td>...</td>\n",
       "    </tr>\n",
       "    <tr>\n",
       "      <th>id_7852</th>\n",
       "      <td>1</td>\n",
       "    </tr>\n",
       "    <tr>\n",
       "      <th>id_13636</th>\n",
       "      <td>1</td>\n",
       "    </tr>\n",
       "    <tr>\n",
       "      <th>id_9687</th>\n",
       "      <td>1</td>\n",
       "    </tr>\n",
       "    <tr>\n",
       "      <th>id_12924</th>\n",
       "      <td>1</td>\n",
       "    </tr>\n",
       "    <tr>\n",
       "      <th>id_12652</th>\n",
       "      <td>1</td>\n",
       "    </tr>\n",
       "  </tbody>\n",
       "</table>\n",
       "<p>11909 rows × 1 columns</p>\n",
       "</div>"
      ],
      "text/plain": [
       "          rest_id\n",
       "id_227         18\n",
       "id_633         18\n",
       "id_871         18\n",
       "id_436         18\n",
       "id_585         17\n",
       "...           ...\n",
       "id_7852         1\n",
       "id_13636        1\n",
       "id_9687         1\n",
       "id_12924        1\n",
       "id_12652        1\n",
       "\n",
       "[11909 rows x 1 columns]"
      ]
     },
     "metadata": {},
     "output_type": "display_data"
    },
    {
     "data": {
      "text/plain": [
       "count      40000\n",
       "unique     11909\n",
       "top       id_227\n",
       "freq          18\n",
       "Name: rest_id, dtype: object"
      ]
     },
     "metadata": {},
     "output_type": "display_data"
    }
   ],
   "source": [
    "categorical_check('rest_id')"
   ]
  },
  {
   "cell_type": "code",
   "execution_count": 262,
   "metadata": {
    "ExecuteTime": {
     "end_time": "2020-09-13T08:48:30.536839Z",
     "start_time": "2020-09-13T08:48:30.466912Z"
    }
   },
   "outputs": [],
   "source": [
    "df['rest_id'] = df.rest_id.apply(lambda x: int(x[3:]))"
   ]
  },
  {
   "cell_type": "code",
   "execution_count": 263,
   "metadata": {
    "ExecuteTime": {
     "end_time": "2020-09-13T08:48:31.365820Z",
     "start_time": "2020-09-13T08:48:30.568477Z"
    }
   },
   "outputs": [
    {
     "data": {
      "text/plain": [
       "<matplotlib.axes._subplots.AxesSubplot at 0x7ff369ff5ed0>"
      ]
     },
     "metadata": {},
     "output_type": "display_data"
    },
    {
     "data": {
      "text/plain": [
       "count    40000.000000\n",
       "mean      3672.940725\n",
       "std       3707.045382\n",
       "min          0.000000\n",
       "25%        971.000000\n",
       "50%       2281.000000\n",
       "75%       5256.250000\n",
       "max      16422.000000\n",
       "Name: rest_id, dtype: float64"
      ]
     },
     "metadata": {},
     "output_type": "display_data"
    },
    {
     "data": {
      "image/png": "[encoded data removed]",
      "text/plain": [
       "<Figure size 720x720 with 1 Axes>"
      ]
     },
     "metadata": {
      "needs_background": "light"
     },
     "output_type": "display_data"
    }
   ],
   "source": [
    "numerical_check('rest_id')"
   ]
  },
  {
   "cell_type": "code",
   "execution_count": 264,
   "metadata": {
    "ExecuteTime": {
     "end_time": "2020-09-13T08:48:31.380277Z",
     "start_time": "2020-09-13T08:48:31.370259Z"
    }
   },
   "outputs": [],
   "source": [
    "df.drop('rest_id', axis=1, inplace=True)"
   ]
  },
  {
   "cell_type": "markdown",
   "metadata": {},
   "source": [
    "## city"
   ]
  },
  {
   "cell_type": "markdown",
   "metadata": {},
   "source": [
    "Пропусков нет, посмотрим сколько всего городов в датасете"
   ]
  },
  {
   "cell_type": "code",
   "execution_count": 265,
   "metadata": {
    "ExecuteTime": {
     "end_time": "2020-09-13T08:48:31.409528Z",
     "start_time": "2020-09-13T08:48:31.385206Z"
    }
   },
   "outputs": [
    {
     "data": {
      "text/html": [
       "<div>\n",
       "<style scoped>\n",
       "    .dataframe tbody tr th:only-of-type {\n",
       "        vertical-align: middle;\n",
       "    }\n",
       "\n",
       "    .dataframe tbody tr th {\n",
       "        vertical-align: top;\n",
       "    }\n",
       "\n",
       "    .dataframe thead th {\n",
       "        text-align: right;\n",
       "    }\n",
       "</style>\n",
       "<table border=\"1\" class=\"dataframe\">\n",
       "  <thead>\n",
       "    <tr style=\"text-align: right;\">\n",
       "      <th></th>\n",
       "      <th>city</th>\n",
       "    </tr>\n",
       "  </thead>\n",
       "  <tbody>\n",
       "    <tr>\n",
       "      <th>London</th>\n",
       "      <td>5757</td>\n",
       "    </tr>\n",
       "    <tr>\n",
       "      <th>Paris</th>\n",
       "      <td>4897</td>\n",
       "    </tr>\n",
       "    <tr>\n",
       "      <th>Madrid</th>\n",
       "      <td>3108</td>\n",
       "    </tr>\n",
       "    <tr>\n",
       "      <th>Barcelona</th>\n",
       "      <td>2734</td>\n",
       "    </tr>\n",
       "    <tr>\n",
       "      <th>Berlin</th>\n",
       "      <td>2155</td>\n",
       "    </tr>\n",
       "    <tr>\n",
       "      <th>Milan</th>\n",
       "      <td>2133</td>\n",
       "    </tr>\n",
       "    <tr>\n",
       "      <th>Rome</th>\n",
       "      <td>2078</td>\n",
       "    </tr>\n",
       "    <tr>\n",
       "      <th>Prague</th>\n",
       "      <td>1443</td>\n",
       "    </tr>\n",
       "    <tr>\n",
       "      <th>Lisbon</th>\n",
       "      <td>1300</td>\n",
       "    </tr>\n",
       "    <tr>\n",
       "      <th>Vienna</th>\n",
       "      <td>1166</td>\n",
       "    </tr>\n",
       "    <tr>\n",
       "      <th>Amsterdam</th>\n",
       "      <td>1086</td>\n",
       "    </tr>\n",
       "    <tr>\n",
       "      <th>Brussels</th>\n",
       "      <td>1060</td>\n",
       "    </tr>\n",
       "    <tr>\n",
       "      <th>Hamburg</th>\n",
       "      <td>949</td>\n",
       "    </tr>\n",
       "    <tr>\n",
       "      <th>Munich</th>\n",
       "      <td>893</td>\n",
       "    </tr>\n",
       "    <tr>\n",
       "      <th>Lyon</th>\n",
       "      <td>892</td>\n",
       "    </tr>\n",
       "    <tr>\n",
       "      <th>Stockholm</th>\n",
       "      <td>820</td>\n",
       "    </tr>\n",
       "    <tr>\n",
       "      <th>Budapest</th>\n",
       "      <td>816</td>\n",
       "    </tr>\n",
       "    <tr>\n",
       "      <th>Warsaw</th>\n",
       "      <td>727</td>\n",
       "    </tr>\n",
       "    <tr>\n",
       "      <th>Dublin</th>\n",
       "      <td>673</td>\n",
       "    </tr>\n",
       "    <tr>\n",
       "      <th>Copenhagen</th>\n",
       "      <td>659</td>\n",
       "    </tr>\n",
       "    <tr>\n",
       "      <th>Athens</th>\n",
       "      <td>628</td>\n",
       "    </tr>\n",
       "    <tr>\n",
       "      <th>Edinburgh</th>\n",
       "      <td>596</td>\n",
       "    </tr>\n",
       "    <tr>\n",
       "      <th>Zurich</th>\n",
       "      <td>538</td>\n",
       "    </tr>\n",
       "    <tr>\n",
       "      <th>Oporto</th>\n",
       "      <td>513</td>\n",
       "    </tr>\n",
       "    <tr>\n",
       "      <th>Geneva</th>\n",
       "      <td>481</td>\n",
       "    </tr>\n",
       "    <tr>\n",
       "      <th>Krakow</th>\n",
       "      <td>443</td>\n",
       "    </tr>\n",
       "    <tr>\n",
       "      <th>Oslo</th>\n",
       "      <td>385</td>\n",
       "    </tr>\n",
       "    <tr>\n",
       "      <th>Helsinki</th>\n",
       "      <td>376</td>\n",
       "    </tr>\n",
       "    <tr>\n",
       "      <th>Bratislava</th>\n",
       "      <td>301</td>\n",
       "    </tr>\n",
       "    <tr>\n",
       "      <th>Luxembourg</th>\n",
       "      <td>210</td>\n",
       "    </tr>\n",
       "    <tr>\n",
       "      <th>Ljubljana</th>\n",
       "      <td>183</td>\n",
       "    </tr>\n",
       "  </tbody>\n",
       "</table>\n",
       "</div>"
      ],
      "text/plain": [
       "            city\n",
       "London      5757\n",
       "Paris       4897\n",
       "Madrid      3108\n",
       "Barcelona   2734\n",
       "Berlin      2155\n",
       "Milan       2133\n",
       "Rome        2078\n",
       "Prague      1443\n",
       "Lisbon      1300\n",
       "Vienna      1166\n",
       "Amsterdam   1086\n",
       "Brussels    1060\n",
       "Hamburg      949\n",
       "Munich       893\n",
       "Lyon         892\n",
       "Stockholm    820\n",
       "Budapest     816\n",
       "Warsaw       727\n",
       "Dublin       673\n",
       "Copenhagen   659\n",
       "Athens       628\n",
       "Edinburgh    596\n",
       "Zurich       538\n",
       "Oporto       513\n",
       "Geneva       481\n",
       "Krakow       443\n",
       "Oslo         385\n",
       "Helsinki     376\n",
       "Bratislava   301\n",
       "Luxembourg   210\n",
       "Ljubljana    183"
      ]
     },
     "metadata": {},
     "output_type": "display_data"
    },
    {
     "data": {
      "text/plain": [
       "count      40000\n",
       "unique        31\n",
       "top       London\n",
       "freq        5757\n",
       "Name: city, dtype: object"
      ]
     },
     "metadata": {},
     "output_type": "display_data"
    }
   ],
   "source": [
    "categorical_check('city')"
   ]
  },
  {
   "cell_type": "markdown",
   "metadata": {},
   "source": [
    "## cuisines"
   ]
  },
  {
   "cell_type": "markdown",
   "metadata": {},
   "source": [
    "Есть 9283 пропусков, посмотрим на данные"
   ]
  },
  {
   "cell_type": "code",
   "execution_count": 266,
   "metadata": {
    "ExecuteTime": {
     "end_time": "2020-09-13T08:48:31.526001Z",
     "start_time": "2020-09-13T08:48:31.413363Z"
    }
   },
   "outputs": [
    {
     "data": {
      "text/plain": [
       "125"
      ]
     },
     "execution_count": 266,
     "metadata": {},
     "output_type": "execute_result"
    }
   ],
   "source": [
    "# Найдем общее количество типов кухни\n",
    "cuisines_all = []\n",
    "for data in df.cuisines.dropna():\n",
    "    for cuisines in data[1:-1].split(', '):\n",
    "        cuisines_all.append(cuisines[1:-1])\n",
    "\n",
    "cuisines = set()\n",
    "for cuisin in cuisines_all:\n",
    "    cuisines.add(cuisin)\n",
    "len(cuisines)"
   ]
  },
  {
   "cell_type": "code",
   "execution_count": 267,
   "metadata": {
    "ExecuteTime": {
     "end_time": "2020-09-13T08:48:31.601748Z",
     "start_time": "2020-09-13T08:48:31.539696Z"
    }
   },
   "outputs": [
    {
     "data": {
      "text/plain": [
       "Vegetarian Friendly    11189\n",
       "European               10060\n",
       "Mediterranean           6277\n",
       "Italian                 5964\n",
       "Vegan Options           4486\n",
       "                       ...  \n",
       "Yunnan                     1\n",
       "Salvadoran                 1\n",
       "Burmese                    1\n",
       "Latvian                    1\n",
       "Xinjiang                   1\n",
       "Name: num, Length: 125, dtype: int64"
      ]
     },
     "execution_count": 267,
     "metadata": {},
     "output_type": "execute_result"
    }
   ],
   "source": [
    "# Посмотрим на самый популярный тип кухни\n",
    "cuisines_num = {}\n",
    "for item in cuisines:\n",
    "    cuisines_num[item] = 0\n",
    "for cuisin in cuisines_all:\n",
    "    cuisines_num[cuisin] += 1\n",
    "\n",
    "df_cuisines_num = pd.DataFrame.from_dict(cuisines_num,\n",
    "                                         orient='index', columns=['num'])\n",
    "df_cuisines_num.num.sort_values(ascending=False)"
   ]
  },
  {
   "cell_type": "code",
   "execution_count": 268,
   "metadata": {
    "ExecuteTime": {
     "end_time": "2020-09-13T08:48:31.654298Z",
     "start_time": "2020-09-13T08:48:31.604459Z"
    }
   },
   "outputs": [],
   "source": [
    "country = {'London': 'United Kingdom', \n",
    "           'Edinburgh': 'United Kingdom', \n",
    "           'Paris': 'France', \n",
    "           'Lyon': 'France',\n",
    "           'Madrid': 'Spain',\n",
    "           'Barcelona': 'Spain', \n",
    "           'Hamburg': 'Germany',\n",
    "           'Berlin': 'Germany', \n",
    "           'Munich': 'Germany',\n",
    "           'Milan': 'Italy',\n",
    "           'Rome': 'Italy',\n",
    "           'Prague': 'Czech',  \n",
    "           'Lisbon':'Portugal', \n",
    "           'Oporto': 'Portugal',\n",
    "           'Vienna': 'Austria', \n",
    "           'Amsterdam': 'Netherlands', \n",
    "           'Brussels': 'Belgium', \n",
    "           'Stockholm': 'Sweden', \n",
    "           'Budapest': 'Hungary',  \n",
    "           'Warsaw': 'Poland',\n",
    "           'Krakow': 'Poland',  \n",
    "           'Dublin': 'Ireland', \n",
    "           'Copenhagen': 'Denmark', \n",
    "           'Athens': 'Greece', \n",
    "           'Zurich': 'Switzerland',\n",
    "           'Geneva': 'Switzerland',  \n",
    "           'Oslo': 'Norway', \n",
    "           'Helsinki': 'Finland', \n",
    "           'Bratislava': 'Slovakia', \n",
    "           'Luxembourg': 'Luxembourg', \n",
    "           'Ljubljana':'Slovenia'}\n",
    "df['country'] = df.city.apply(get_country)"
   ]
  },
  {
   "cell_type": "code",
   "execution_count": 269,
   "metadata": {
    "ExecuteTime": {
     "end_time": "2020-09-13T08:48:31.681322Z",
     "start_time": "2020-09-13T08:48:31.656324Z"
    }
   },
   "outputs": [],
   "source": [
    "df['cuisines'].fillna('none_cuisin', inplace=True)"
   ]
  },
  {
   "cell_type": "code",
   "execution_count": 270,
   "metadata": {
    "ExecuteTime": {
     "end_time": "2020-09-13T08:48:31.696298Z",
     "start_time": "2020-09-13T08:48:31.686225Z"
    }
   },
   "outputs": [],
   "source": [
    "# Заполним пропуски в точках двумя самыми популярными типами кухни по стране\n",
    "#df['cuisines'].fillna('zero', inplace=True)\n",
    "#df['cuisines'] = df.apply(lambda x: get_cuisin(\n",
    "#    x['country']) if x['cuisines'] == 'zero' else x['cuisines'], axis=1)"
   ]
  },
  {
   "cell_type": "markdown",
   "metadata": {},
   "source": [
    "## ranking"
   ]
  },
  {
   "cell_type": "markdown",
   "metadata": {},
   "source": [
    " Пропусков нет"
   ]
  },
  {
   "cell_type": "code",
   "execution_count": 271,
   "metadata": {
    "ExecuteTime": {
     "end_time": "2020-09-13T08:48:32.148212Z",
     "start_time": "2020-09-13T08:48:31.727591Z"
    },
    "scrolled": false
   },
   "outputs": [
    {
     "data": {
      "text/plain": [
       "<matplotlib.axes._subplots.AxesSubplot at 0x7ff37a011850>"
      ]
     },
     "metadata": {},
     "output_type": "display_data"
    },
    {
     "data": {
      "text/plain": [
       "count    40000.000000\n",
       "mean      3676.028525\n",
       "std       3708.749567\n",
       "min          1.000000\n",
       "25%        973.000000\n",
       "50%       2285.000000\n",
       "75%       5260.000000\n",
       "max      16444.000000\n",
       "Name: ranking, dtype: float64"
      ]
     },
     "metadata": {},
     "output_type": "display_data"
    },
    {
     "data": {
      "image/png": "[encoded data removed]",
      "text/plain": [
       "<Figure size 720x720 with 1 Axes>"
      ]
     },
     "metadata": {
      "needs_background": "light"
     },
     "output_type": "display_data"
    }
   ],
   "source": [
    "numerical_check('ranking')"
   ]
  },
  {
   "cell_type": "code",
   "execution_count": 272,
   "metadata": {
    "ExecuteTime": {
     "end_time": "2020-09-13T08:48:34.474532Z",
     "start_time": "2020-09-13T08:48:32.151770Z"
    }
   },
   "outputs": [
    {
     "data": {
      "image/png": "[encoded data removed]",
      "text/plain": [
       "<Figure size 720x720 with 1 Axes>"
      ]
     },
     "metadata": {
      "needs_background": "light"
     },
     "output_type": "display_data"
    }
   ],
   "source": [
    "for x in (df['city'].value_counts())[0:10].index:\n",
    "    df['ranking'][df['city'] == x].hist(bins=100)\n",
    "plt.show()"
   ]
  },
  {
   "cell_type": "markdown",
   "metadata": {},
   "source": [
    "## rating"
   ]
  },
  {
   "cell_type": "markdown",
   "metadata": {
    "ExecuteTime": {
     "end_time": "2020-09-10T09:20:06.308094Z",
     "start_time": "2020-09-10T09:20:06.290806Z"
    }
   },
   "source": [
    "Пропусков нет"
   ]
  },
  {
   "cell_type": "code",
   "execution_count": 273,
   "metadata": {
    "ExecuteTime": {
     "end_time": "2020-09-13T08:48:34.926280Z",
     "start_time": "2020-09-13T08:48:34.479047Z"
    }
   },
   "outputs": [
    {
     "data": {
      "text/plain": [
       "<matplotlib.axes._subplots.AxesSubplot at 0x7ff3675fcc10>"
      ]
     },
     "metadata": {},
     "output_type": "display_data"
    },
    {
     "data": {
      "text/plain": [
       "count    40000.000000\n",
       "mean         3.993037\n",
       "std          0.668417\n",
       "min          1.000000\n",
       "25%          3.500000\n",
       "50%          4.000000\n",
       "75%          4.500000\n",
       "max          5.000000\n",
       "Name: rating, dtype: float64"
      ]
     },
     "metadata": {},
     "output_type": "display_data"
    },
    {
     "data": {
      "image/png": "[encoded data removed]",
      "text/plain": [
       "<Figure size 720x720 with 1 Axes>"
      ]
     },
     "metadata": {
      "needs_background": "light"
     },
     "output_type": "display_data"
    }
   ],
   "source": [
    "numerical_check('rating')"
   ]
  },
  {
   "cell_type": "markdown",
   "metadata": {},
   "source": [
    "## price_range"
   ]
  },
  {
   "cell_type": "markdown",
   "metadata": {
    "ExecuteTime": {
     "end_time": "2020-09-10T09:21:55.158053Z",
     "start_time": "2020-09-10T09:21:55.145259Z"
    }
   },
   "source": [
    "Есть 13886 пропусков, посмотрим на данные"
   ]
  },
  {
   "cell_type": "code",
   "execution_count": 274,
   "metadata": {
    "ExecuteTime": {
     "end_time": "2020-09-13T08:48:34.953007Z",
     "start_time": "2020-09-13T08:48:34.930508Z"
    }
   },
   "outputs": [
    {
     "data": {
      "text/html": [
       "<div>\n",
       "<style scoped>\n",
       "    .dataframe tbody tr th:only-of-type {\n",
       "        vertical-align: middle;\n",
       "    }\n",
       "\n",
       "    .dataframe tbody tr th {\n",
       "        vertical-align: top;\n",
       "    }\n",
       "\n",
       "    .dataframe thead th {\n",
       "        text-align: right;\n",
       "    }\n",
       "</style>\n",
       "<table border=\"1\" class=\"dataframe\">\n",
       "  <thead>\n",
       "    <tr style=\"text-align: right;\">\n",
       "      <th></th>\n",
       "      <th>price_range</th>\n",
       "    </tr>\n",
       "  </thead>\n",
       "  <tbody>\n",
       "    <tr>\n",
       "      <th>$$ - $$$</th>\n",
       "      <td>18412</td>\n",
       "    </tr>\n",
       "    <tr>\n",
       "      <th>$</th>\n",
       "      <td>6279</td>\n",
       "    </tr>\n",
       "    <tr>\n",
       "      <th>$$$$</th>\n",
       "      <td>1423</td>\n",
       "    </tr>\n",
       "  </tbody>\n",
       "</table>\n",
       "</div>"
      ],
      "text/plain": [
       "          price_range\n",
       "$$ - $$$        18412\n",
       "$                6279\n",
       "$$$$             1423"
      ]
     },
     "metadata": {},
     "output_type": "display_data"
    },
    {
     "data": {
      "text/plain": [
       "count        26114\n",
       "unique           3\n",
       "top       $$ - $$$\n",
       "freq         18412\n",
       "Name: price_range, dtype: object"
      ]
     },
     "metadata": {},
     "output_type": "display_data"
    }
   ],
   "source": [
    "categorical_check('price_range')"
   ]
  },
  {
   "cell_type": "code",
   "execution_count": 275,
   "metadata": {
    "ExecuteTime": {
     "end_time": "2020-09-13T08:48:34.992837Z",
     "start_time": "2020-09-13T08:48:34.955008Z"
    }
   },
   "outputs": [
    {
     "data": {
      "text/html": [
       "<div>\n",
       "<style scoped>\n",
       "    .dataframe tbody tr th:only-of-type {\n",
       "        vertical-align: middle;\n",
       "    }\n",
       "\n",
       "    .dataframe tbody tr th {\n",
       "        vertical-align: top;\n",
       "    }\n",
       "\n",
       "    .dataframe thead th {\n",
       "        text-align: right;\n",
       "    }\n",
       "</style>\n",
       "<table border=\"1\" class=\"dataframe\">\n",
       "  <thead>\n",
       "    <tr style=\"text-align: right;\">\n",
       "      <th>price_range</th>\n",
       "      <th>$</th>\n",
       "      <th>$$ - $$$</th>\n",
       "      <th>$$$$</th>\n",
       "    </tr>\n",
       "    <tr>\n",
       "      <th>city</th>\n",
       "      <th></th>\n",
       "      <th></th>\n",
       "      <th></th>\n",
       "    </tr>\n",
       "  </thead>\n",
       "  <tbody>\n",
       "    <tr>\n",
       "      <th>Amsterdam</th>\n",
       "      <td>163</td>\n",
       "      <td>644</td>\n",
       "      <td>31</td>\n",
       "    </tr>\n",
       "    <tr>\n",
       "      <th>Athens</th>\n",
       "      <td>137</td>\n",
       "      <td>275</td>\n",
       "      <td>18</td>\n",
       "    </tr>\n",
       "    <tr>\n",
       "      <th>Barcelona</th>\n",
       "      <td>480</td>\n",
       "      <td>1229</td>\n",
       "      <td>89</td>\n",
       "    </tr>\n",
       "    <tr>\n",
       "      <th>Berlin</th>\n",
       "      <td>330</td>\n",
       "      <td>767</td>\n",
       "      <td>49</td>\n",
       "    </tr>\n",
       "    <tr>\n",
       "      <th>Bratislava</th>\n",
       "      <td>33</td>\n",
       "      <td>97</td>\n",
       "      <td>10</td>\n",
       "    </tr>\n",
       "    <tr>\n",
       "      <th>Brussels</th>\n",
       "      <td>136</td>\n",
       "      <td>513</td>\n",
       "      <td>38</td>\n",
       "    </tr>\n",
       "    <tr>\n",
       "      <th>Budapest</th>\n",
       "      <td>184</td>\n",
       "      <td>353</td>\n",
       "      <td>22</td>\n",
       "    </tr>\n",
       "    <tr>\n",
       "      <th>Copenhagen</th>\n",
       "      <td>72</td>\n",
       "      <td>330</td>\n",
       "      <td>30</td>\n",
       "    </tr>\n",
       "    <tr>\n",
       "      <th>Dublin</th>\n",
       "      <td>126</td>\n",
       "      <td>369</td>\n",
       "      <td>11</td>\n",
       "    </tr>\n",
       "    <tr>\n",
       "      <th>Edinburgh</th>\n",
       "      <td>158</td>\n",
       "      <td>319</td>\n",
       "      <td>16</td>\n",
       "    </tr>\n",
       "    <tr>\n",
       "      <th>Geneva</th>\n",
       "      <td>23</td>\n",
       "      <td>263</td>\n",
       "      <td>39</td>\n",
       "    </tr>\n",
       "    <tr>\n",
       "      <th>Hamburg</th>\n",
       "      <td>85</td>\n",
       "      <td>320</td>\n",
       "      <td>27</td>\n",
       "    </tr>\n",
       "    <tr>\n",
       "      <th>Helsinki</th>\n",
       "      <td>51</td>\n",
       "      <td>184</td>\n",
       "      <td>10</td>\n",
       "    </tr>\n",
       "    <tr>\n",
       "      <th>Krakow</th>\n",
       "      <td>116</td>\n",
       "      <td>178</td>\n",
       "      <td>10</td>\n",
       "    </tr>\n",
       "    <tr>\n",
       "      <th>Lisbon</th>\n",
       "      <td>266</td>\n",
       "      <td>562</td>\n",
       "      <td>32</td>\n",
       "    </tr>\n",
       "    <tr>\n",
       "      <th>Ljubljana</th>\n",
       "      <td>35</td>\n",
       "      <td>86</td>\n",
       "      <td>7</td>\n",
       "    </tr>\n",
       "    <tr>\n",
       "      <th>London</th>\n",
       "      <td>1025</td>\n",
       "      <td>2908</td>\n",
       "      <td>214</td>\n",
       "    </tr>\n",
       "    <tr>\n",
       "      <th>Luxembourg</th>\n",
       "      <td>11</td>\n",
       "      <td>128</td>\n",
       "      <td>9</td>\n",
       "    </tr>\n",
       "    <tr>\n",
       "      <th>Lyon</th>\n",
       "      <td>76</td>\n",
       "      <td>372</td>\n",
       "      <td>23</td>\n",
       "    </tr>\n",
       "    <tr>\n",
       "      <th>Madrid</th>\n",
       "      <td>362</td>\n",
       "      <td>1275</td>\n",
       "      <td>101</td>\n",
       "    </tr>\n",
       "    <tr>\n",
       "      <th>Milan</th>\n",
       "      <td>420</td>\n",
       "      <td>777</td>\n",
       "      <td>85</td>\n",
       "    </tr>\n",
       "    <tr>\n",
       "      <th>Munich</th>\n",
       "      <td>91</td>\n",
       "      <td>432</td>\n",
       "      <td>41</td>\n",
       "    </tr>\n",
       "    <tr>\n",
       "      <th>Oporto</th>\n",
       "      <td>130</td>\n",
       "      <td>208</td>\n",
       "      <td>17</td>\n",
       "    </tr>\n",
       "    <tr>\n",
       "      <th>Oslo</th>\n",
       "      <td>42</td>\n",
       "      <td>196</td>\n",
       "      <td>27</td>\n",
       "    </tr>\n",
       "    <tr>\n",
       "      <th>Paris</th>\n",
       "      <td>579</td>\n",
       "      <td>2501</td>\n",
       "      <td>238</td>\n",
       "    </tr>\n",
       "    <tr>\n",
       "      <th>Prague</th>\n",
       "      <td>268</td>\n",
       "      <td>590</td>\n",
       "      <td>30</td>\n",
       "    </tr>\n",
       "    <tr>\n",
       "      <th>Rome</th>\n",
       "      <td>533</td>\n",
       "      <td>1041</td>\n",
       "      <td>77</td>\n",
       "    </tr>\n",
       "    <tr>\n",
       "      <th>Stockholm</th>\n",
       "      <td>50</td>\n",
       "      <td>365</td>\n",
       "      <td>25</td>\n",
       "    </tr>\n",
       "    <tr>\n",
       "      <th>Vienna</th>\n",
       "      <td>139</td>\n",
       "      <td>538</td>\n",
       "      <td>35</td>\n",
       "    </tr>\n",
       "    <tr>\n",
       "      <th>Warsaw</th>\n",
       "      <td>111</td>\n",
       "      <td>299</td>\n",
       "      <td>28</td>\n",
       "    </tr>\n",
       "    <tr>\n",
       "      <th>Zurich</th>\n",
       "      <td>47</td>\n",
       "      <td>293</td>\n",
       "      <td>34</td>\n",
       "    </tr>\n",
       "  </tbody>\n",
       "</table>\n",
       "</div>"
      ],
      "text/plain": [
       "price_range     $  $$ - $$$  $$$$\n",
       "city                             \n",
       "Amsterdam     163       644    31\n",
       "Athens        137       275    18\n",
       "Barcelona     480      1229    89\n",
       "Berlin        330       767    49\n",
       "Bratislava     33        97    10\n",
       "Brussels      136       513    38\n",
       "Budapest      184       353    22\n",
       "Copenhagen     72       330    30\n",
       "Dublin        126       369    11\n",
       "Edinburgh     158       319    16\n",
       "Geneva         23       263    39\n",
       "Hamburg        85       320    27\n",
       "Helsinki       51       184    10\n",
       "Krakow        116       178    10\n",
       "Lisbon        266       562    32\n",
       "Ljubljana      35        86     7\n",
       "London       1025      2908   214\n",
       "Luxembourg     11       128     9\n",
       "Lyon           76       372    23\n",
       "Madrid        362      1275   101\n",
       "Milan         420       777    85\n",
       "Munich         91       432    41\n",
       "Oporto        130       208    17\n",
       "Oslo           42       196    27\n",
       "Paris         579      2501   238\n",
       "Prague        268       590    30\n",
       "Rome          533      1041    77\n",
       "Stockholm      50       365    25\n",
       "Vienna        139       538    35\n",
       "Warsaw        111       299    28\n",
       "Zurich         47       293    34"
      ]
     },
     "execution_count": 275,
     "metadata": {},
     "output_type": "execute_result"
    }
   ],
   "source": [
    "# Посмотрим на распределение цены по городам\n",
    "price_city = df.pivot_table(columns='price_range',\n",
    "                            index='city', values='id_ta', aggfunc='count')\n",
    "price_city"
   ]
  },
  {
   "cell_type": "markdown",
   "metadata": {
    "ExecuteTime": {
     "end_time": "2020-09-10T09:30:58.001582Z",
     "start_time": "2020-09-10T09:30:57.969074Z"
    }
   },
   "source": [
    "Распределение довольно равномерное, поэтому заполним пропуски также равномерно, опираясь на распределение в городе"
   ]
  },
  {
   "cell_type": "code",
   "execution_count": 276,
   "metadata": {
    "ExecuteTime": {
     "end_time": "2020-09-13T08:48:35.001737Z",
     "start_time": "2020-09-13T08:48:34.997148Z"
    }
   },
   "outputs": [],
   "source": [
    "#city_all = set()\n",
    "#for data in df.city:\n",
    "#    city_all.add(data)\n",
    "#\n",
    "#for city in city_all:\n",
    "#    get_price_range(city)"
   ]
  },
  {
   "cell_type": "code",
   "execution_count": 277,
   "metadata": {
    "ExecuteTime": {
     "end_time": "2020-09-13T08:48:35.012013Z",
     "start_time": "2020-09-13T08:48:35.003862Z"
    }
   },
   "outputs": [],
   "source": [
    "df.price_range.fillna('$$ - $$$', inplace=True)"
   ]
  },
  {
   "cell_type": "markdown",
   "metadata": {},
   "source": [
    "## reviews"
   ]
  },
  {
   "cell_type": "markdown",
   "metadata": {
    "ExecuteTime": {
     "end_time": "2020-09-10T10:09:39.119795Z",
     "start_time": "2020-09-10T10:09:39.099236Z"
    }
   },
   "source": [
    "Очистим отзывы и распределим их в индивидуальные колонки"
   ]
  },
  {
   "cell_type": "code",
   "execution_count": 278,
   "metadata": {
    "ExecuteTime": {
     "end_time": "2020-09-13T08:48:36.316358Z",
     "start_time": "2020-09-13T08:48:35.016335Z"
    }
   },
   "outputs": [],
   "source": [
    "df['reviews_temp'] = df.reviews.apply(\n",
    "    lambda x: np.nan if x == '[[], []]' else x.split(', [')[0])\n",
    "df['review_temp_count'] = df['reviews_temp'].str.replace(\n",
    "    '\"', \"'\").str.split(\", '\").str.len()\n",
    "\n",
    "df['dates_temp'] = df.reviews.apply(\n",
    "    lambda x: np.nan if x == '[[], []]' else x.split(', [')[1])\n",
    "df.loc[df.dates_temp == \"59], ju...']\", 'dates_temp'] = \"'05/10/2015', '07/05/2014']]\"\n",
    "\n",
    "df['dates_temp_count'] = df['dates_temp'].str.split(\", '\").str.len()\n",
    "\n",
    "df['review_1_temp'] = df.reviews_temp.dropna().str.replace('\"', \"'\").apply(\n",
    "    lambda x: x[3:-3].split(\", '\")[0])\n",
    "df['review_1'] = df.review_1_temp.dropna().apply(lambda x: x[:-1])\n",
    "\n",
    "df['date_1_temp'] = df.dates_temp.dropna().apply(\n",
    "    lambda x: x[1:-2].split(\", '\")[0])\n",
    "df['date_1_s'] = df.date_1_temp.dropna().apply(lambda x: x[:-1])\n",
    "#df['date_1'] = pd.to_datetime(df.dropna().date_1_s)\n",
    "df['date_1'] = df.date_1_s.dropna().apply(lambda x: datetime.strptime(x, '%m/%d/%Y'))\n",
    "\n",
    "df['review_2'] = df[df.review_temp_count > 1].reviews_temp.dropna(\n",
    ").str.replace('\"', \"'\").apply(lambda x: x[3:-3].split(\", '\")[1])\n",
    "df['date_2_s'] = df[df.dates_temp_count > 1].dates_temp.dropna().apply(\n",
    "    lambda x: x[1:-3].split(\", '\")[1])\n",
    "#df['date_2'] = pd.to_datetime(df.dropna().date_2_s)\n",
    "df['date_2'] = df.date_2_s.dropna().apply(lambda x: datetime.strptime(x, '%m/%d/%Y'))\n",
    "\n",
    "df.drop(['reviews_temp', 'review_temp_count', 'dates_temp', 'dates_temp_count',\n",
    "         'review_1_temp', 'date_1_temp', 'date_1_s',\n",
    "         'date_2_s'], axis=1, inplace=True)"
   ]
  },
  {
   "cell_type": "markdown",
   "metadata": {
    "ExecuteTime": {
     "end_time": "2020-09-10T10:11:04.390775Z",
     "start_time": "2020-09-10T10:11:04.385374Z"
    }
   },
   "source": [
    "## number_reviews"
   ]
  },
  {
   "cell_type": "markdown",
   "metadata": {
    "ExecuteTime": {
     "end_time": "2020-09-10T10:11:34.789010Z",
     "start_time": "2020-09-10T10:11:34.753979Z"
    }
   },
   "source": [
    "Есть 2543 пропуска, в основном их нет у новых точек, а также есть ошибки парсинга. Заполним пропуски"
   ]
  },
  {
   "cell_type": "code",
   "execution_count": 279,
   "metadata": {
    "ExecuteTime": {
     "end_time": "2020-09-13T08:48:36.420703Z",
     "start_time": "2020-09-13T08:48:36.320661Z"
    }
   },
   "outputs": [],
   "source": [
    "df['dates_temp'] = df.reviews.apply(\n",
    "    lambda x: np.nan if x == '[[], []]' else x.split(', [')[1])\n",
    "df['dates_temp_count'] = df['dates_temp'].str.split(\", '\").str.len()\n",
    "\n",
    "mask_rev = (df.number_reviews.isna()) & (df.dates_temp_count == 1)\n",
    "df.loc[mask_rev, 'number_reviews'] = df.loc[mask_rev,\n",
    "                                            'number_reviews'].fillna(1)\n",
    "df.number_reviews.fillna(0, inplace=True)\n",
    "\n",
    "df.drop(['dates_temp', 'dates_temp_count'], axis=1, inplace=True)"
   ]
  },
  {
   "cell_type": "code",
   "execution_count": 280,
   "metadata": {
    "ExecuteTime": {
     "end_time": "2020-09-13T08:48:36.814300Z",
     "start_time": "2020-09-13T08:48:36.423380Z"
    }
   },
   "outputs": [
    {
     "data": {
      "text/plain": [
       "<matplotlib.axes._subplots.AxesSubplot at 0x7ff3662390d0>"
      ]
     },
     "metadata": {},
     "output_type": "display_data"
    },
    {
     "data": {
      "text/plain": [
       "count    40000.000000\n",
       "mean       116.913350\n",
       "std        287.720253\n",
       "min          0.000000\n",
       "25%          7.000000\n",
       "50%         28.000000\n",
       "75%        105.000000\n",
       "max       9660.000000\n",
       "Name: number_reviews, dtype: float64"
      ]
     },
     "metadata": {},
     "output_type": "display_data"
    },
    {
     "data": {
      "image/png": "[encoded data removed]",
      "text/plain": [
       "<Figure size 720x720 with 1 Axes>"
      ]
     },
     "metadata": {
      "needs_background": "light"
     },
     "output_type": "display_data"
    }
   ],
   "source": [
    "numerical_check('number_reviews')"
   ]
  },
  {
   "cell_type": "code",
   "execution_count": 281,
   "metadata": {
    "ExecuteTime": {
     "end_time": "2020-09-13T08:48:37.520214Z",
     "start_time": "2020-09-13T08:48:36.816698Z"
    }
   },
   "outputs": [
    {
     "name": "stdout",
     "output_type": "stream",
     "text": [
      "25 percentile: 7.0 \n",
      "75 percentile: 105.0 \n",
      "Data Outlier Boundaries: \n",
      "left: -140.0 \n",
      "right: 252.0\n"
     ]
    },
    {
     "data": {
      "image/png": "[encoded data removed]",
      "text/plain": [
       "<Figure size 720x720 with 1 Axes>"
      ]
     },
     "metadata": {
      "needs_background": "light"
     },
     "output_type": "display_data"
    }
   ],
   "source": [
    "outliers('number_reviews')"
   ]
  },
  {
   "cell_type": "code",
   "execution_count": 282,
   "metadata": {
    "ExecuteTime": {
     "end_time": "2020-09-13T08:48:37.539383Z",
     "start_time": "2020-09-13T08:48:37.523567Z"
    }
   },
   "outputs": [],
   "source": [
    "# ВЫБРОСЫ!!!!\n",
    "df = df.loc[df.number_reviews <= 1000]"
   ]
  },
  {
   "cell_type": "markdown",
   "metadata": {},
   "source": [
    "## url_ta"
   ]
  },
  {
   "cell_type": "markdown",
   "metadata": {},
   "source": [
    "В данном столбце находится ссылка на точку, но т.к. я не использую парсинг, то можно удалить"
   ]
  },
  {
   "cell_type": "code",
   "execution_count": 283,
   "metadata": {
    "ExecuteTime": {
     "end_time": "2020-09-13T08:48:37.559789Z",
     "start_time": "2020-09-13T08:48:37.544197Z"
    }
   },
   "outputs": [],
   "source": [
    "df.drop('url_ta', axis=1, inplace=True)"
   ]
  },
  {
   "cell_type": "markdown",
   "metadata": {},
   "source": [
    "## id_ta"
   ]
  },
  {
   "cell_type": "code",
   "execution_count": 284,
   "metadata": {
    "ExecuteTime": {
     "end_time": "2020-09-13T08:48:37.626190Z",
     "start_time": "2020-09-13T08:48:37.563125Z"
    }
   },
   "outputs": [
    {
     "data": {
      "text/html": [
       "<div>\n",
       "<style scoped>\n",
       "    .dataframe tbody tr th:only-of-type {\n",
       "        vertical-align: middle;\n",
       "    }\n",
       "\n",
       "    .dataframe tbody tr th {\n",
       "        vertical-align: top;\n",
       "    }\n",
       "\n",
       "    .dataframe thead th {\n",
       "        text-align: right;\n",
       "    }\n",
       "</style>\n",
       "<table border=\"1\" class=\"dataframe\">\n",
       "  <thead>\n",
       "    <tr style=\"text-align: right;\">\n",
       "      <th></th>\n",
       "      <th>id_ta</th>\n",
       "    </tr>\n",
       "  </thead>\n",
       "  <tbody>\n",
       "    <tr>\n",
       "      <th>d793170</th>\n",
       "      <td>2</td>\n",
       "    </tr>\n",
       "    <tr>\n",
       "      <th>d7342803</th>\n",
       "      <td>2</td>\n",
       "    </tr>\n",
       "    <tr>\n",
       "      <th>d4600226</th>\n",
       "      <td>2</td>\n",
       "    </tr>\n",
       "    <tr>\n",
       "      <th>d1315077</th>\n",
       "      <td>2</td>\n",
       "    </tr>\n",
       "    <tr>\n",
       "      <th>d3685055</th>\n",
       "      <td>2</td>\n",
       "    </tr>\n",
       "    <tr>\n",
       "      <th>...</th>\n",
       "      <td>...</td>\n",
       "    </tr>\n",
       "    <tr>\n",
       "      <th>d11070553</th>\n",
       "      <td>1</td>\n",
       "    </tr>\n",
       "    <tr>\n",
       "      <th>d6360325</th>\n",
       "      <td>1</td>\n",
       "    </tr>\n",
       "    <tr>\n",
       "      <th>d11722200</th>\n",
       "      <td>1</td>\n",
       "    </tr>\n",
       "    <tr>\n",
       "      <th>d2239906</th>\n",
       "      <td>1</td>\n",
       "    </tr>\n",
       "    <tr>\n",
       "      <th>d5984008</th>\n",
       "      <td>1</td>\n",
       "    </tr>\n",
       "  </tbody>\n",
       "</table>\n",
       "<p>39307 rows × 1 columns</p>\n",
       "</div>"
      ],
      "text/plain": [
       "           id_ta\n",
       "d793170        2\n",
       "d7342803       2\n",
       "d4600226       2\n",
       "d1315077       2\n",
       "d3685055       2\n",
       "...          ...\n",
       "d11070553      1\n",
       "d6360325       1\n",
       "d11722200      1\n",
       "d2239906       1\n",
       "d5984008       1\n",
       "\n",
       "[39307 rows x 1 columns]"
      ]
     },
     "metadata": {},
     "output_type": "display_data"
    },
    {
     "data": {
      "text/plain": [
       "count       39327\n",
       "unique      39307\n",
       "top       d793170\n",
       "freq            2\n",
       "Name: id_ta, dtype: object"
      ]
     },
     "metadata": {},
     "output_type": "display_data"
    }
   ],
   "source": [
    "categorical_check('id_ta')"
   ]
  },
  {
   "cell_type": "code",
   "execution_count": 285,
   "metadata": {
    "ExecuteTime": {
     "end_time": "2020-09-13T08:48:37.689047Z",
     "start_time": "2020-09-13T08:48:37.631761Z"
    }
   },
   "outputs": [],
   "source": [
    "df['id_ta'] = df.id_ta.apply(lambda x: int(x[1:]))"
   ]
  },
  {
   "cell_type": "code",
   "execution_count": 286,
   "metadata": {
    "ExecuteTime": {
     "end_time": "2020-09-13T08:48:38.179719Z",
     "start_time": "2020-09-13T08:48:37.693379Z"
    }
   },
   "outputs": [
    {
     "data": {
      "text/plain": [
       "<matplotlib.axes._subplots.AxesSubplot at 0x7ff366687f90>"
      ]
     },
     "metadata": {},
     "output_type": "display_data"
    },
    {
     "data": {
      "text/plain": [
       "count    3.932700e+04\n",
       "mean     6.360572e+06\n",
       "std      3.927155e+06\n",
       "min      6.803150e+05\n",
       "25%      2.578603e+06\n",
       "50%      6.114865e+06\n",
       "75%      9.853748e+06\n",
       "max      1.350735e+07\n",
       "Name: id_ta, dtype: float64"
      ]
     },
     "metadata": {},
     "output_type": "display_data"
    },
    {
     "data": {
      "image/png": "[encoded data removed]",
      "text/plain": [
       "<Figure size 720x720 with 1 Axes>"
      ]
     },
     "metadata": {
      "needs_background": "light"
     },
     "output_type": "display_data"
    }
   ],
   "source": [
    "numerical_check('id_ta')"
   ]
  },
  {
   "cell_type": "markdown",
   "metadata": {},
   "source": [
    "# Новые признаки"
   ]
  },
  {
   "cell_type": "markdown",
   "metadata": {
    "ExecuteTime": {
     "end_time": "2020-09-10T14:26:23.177272Z",
     "start_time": "2020-09-10T14:26:23.145800Z"
    }
   },
   "source": [
    "## cuisin_count"
   ]
  },
  {
   "cell_type": "markdown",
   "metadata": {},
   "source": [
    "Добавим количество типов кухни"
   ]
  },
  {
   "cell_type": "code",
   "execution_count": 287,
   "metadata": {
    "ExecuteTime": {
     "end_time": "2020-09-13T08:48:38.249099Z",
     "start_time": "2020-09-13T08:48:38.182860Z"
    }
   },
   "outputs": [],
   "source": [
    "df['cuisin_count'] = df['cuisines'].str.split(', ').str.len()"
   ]
  },
  {
   "cell_type": "markdown",
   "metadata": {},
   "source": [
    "## top_cuisines"
   ]
  },
  {
   "cell_type": "code",
   "execution_count": 288,
   "metadata": {
    "ExecuteTime": {
     "end_time": "2020-09-13T08:48:38.265129Z",
     "start_time": "2020-09-13T08:48:38.252005Z"
    }
   },
   "outputs": [],
   "source": [
    "top_cuisines = []\n",
    "for i in range(15):\n",
    "    top_cuisines.append(df_cuisines_num.num.sort_values(ascending=False).index[i])"
   ]
  },
  {
   "cell_type": "code",
   "execution_count": 289,
   "metadata": {
    "ExecuteTime": {
     "end_time": "2020-09-13T08:48:38.405721Z",
     "start_time": "2020-09-13T08:48:38.268469Z"
    }
   },
   "outputs": [],
   "source": [
    "df['top_cuisines'] = df.cuisines.apply(get_top_cuisin)"
   ]
  },
  {
   "cell_type": "markdown",
   "metadata": {},
   "source": [
    "## delta_d_norm"
   ]
  },
  {
   "cell_type": "markdown",
   "metadata": {},
   "source": [
    "Добавим разницу между отзывами"
   ]
  },
  {
   "cell_type": "code",
   "execution_count": 290,
   "metadata": {
    "ExecuteTime": {
     "end_time": "2020-09-13T08:48:40.321979Z",
     "start_time": "2020-09-13T08:48:38.407684Z"
    }
   },
   "outputs": [],
   "source": [
    "df['delta_day'] = df.apply(lambda x: math.fabs(\n",
    "    (x['date_1'] - x['date_2']).days), axis=1)\n",
    "df.delta_day.fillna(0, inplace=True)"
   ]
  },
  {
   "cell_type": "code",
   "execution_count": 291,
   "metadata": {
    "ExecuteTime": {
     "end_time": "2020-09-13T08:48:40.720599Z",
     "start_time": "2020-09-13T08:48:40.324110Z"
    }
   },
   "outputs": [
    {
     "data": {
      "text/plain": [
       "<matplotlib.axes._subplots.AxesSubplot at 0x7ff3669b8650>"
      ]
     },
     "metadata": {},
     "output_type": "display_data"
    },
    {
     "data": {
      "text/plain": [
       "count    39327.000000\n",
       "mean       104.082539\n",
       "std        199.890726\n",
       "min          0.000000\n",
       "25%          0.000000\n",
       "50%         30.000000\n",
       "75%        122.000000\n",
       "max       3207.000000\n",
       "Name: delta_day, dtype: float64"
      ]
     },
     "metadata": {},
     "output_type": "display_data"
    },
    {
     "data": {
      "image/png": "[encoded data removed]",
      "text/plain": [
       "<Figure size 720x720 with 1 Axes>"
      ]
     },
     "metadata": {
      "needs_background": "light"
     },
     "output_type": "display_data"
    }
   ],
   "source": [
    "numerical_check('delta_day')"
   ]
  },
  {
   "cell_type": "code",
   "execution_count": 292,
   "metadata": {
    "ExecuteTime": {
     "end_time": "2020-09-13T08:48:41.350610Z",
     "start_time": "2020-09-13T08:48:40.723917Z"
    }
   },
   "outputs": [
    {
     "name": "stdout",
     "output_type": "stream",
     "text": [
      "25 percentile: 0.0 \n",
      "75 percentile: 122.0 \n",
      "Data Outlier Boundaries: \n",
      "left: -183.0 \n",
      "right: 305.0\n"
     ]
    },
    {
     "data": {
      "image/png": "[encoded data removed]",
      "text/plain": [
       "<Figure size 720x720 with 1 Axes>"
      ]
     },
     "metadata": {
      "needs_background": "light"
     },
     "output_type": "display_data"
    }
   ],
   "source": [
    "outliers('delta_day')"
   ]
  },
  {
   "cell_type": "code",
   "execution_count": 293,
   "metadata": {
    "ExecuteTime": {
     "end_time": "2020-09-13T08:48:41.366230Z",
     "start_time": "2020-09-13T08:48:41.357452Z"
    }
   },
   "outputs": [
    {
     "data": {
      "text/plain": [
       "304"
      ]
     },
     "execution_count": 293,
     "metadata": {},
     "output_type": "execute_result"
    }
   ],
   "source": [
    "len(df[df.delta_day > 1095])"
   ]
  },
  {
   "cell_type": "code",
   "execution_count": 294,
   "metadata": {
    "ExecuteTime": {
     "end_time": "2020-09-13T08:48:41.382429Z",
     "start_time": "2020-09-13T08:48:41.371574Z"
    }
   },
   "outputs": [],
   "source": [
    "## ВЫБРОСЫ!!!\n",
    "df = df.loc[df.delta_day <= 1095]"
   ]
  },
  {
   "cell_type": "code",
   "execution_count": 295,
   "metadata": {
    "ExecuteTime": {
     "end_time": "2020-09-13T08:48:41.400960Z",
     "start_time": "2020-09-13T08:48:41.386350Z"
    }
   },
   "outputs": [],
   "source": [
    "df['delta_day_norm'] = get_norm_col('delta_day')"
   ]
  },
  {
   "cell_type": "markdown",
   "metadata": {
    "ExecuteTime": {
     "end_time": "2020-09-10T14:42:55.134125Z",
     "start_time": "2020-09-10T14:42:55.131470Z"
    }
   },
   "source": [
    "## review_mood"
   ]
  },
  {
   "cell_type": "markdown",
   "metadata": {},
   "source": [
    "Найдем рестораны, где есть положительные слова в отзывах"
   ]
  },
  {
   "cell_type": "code",
   "execution_count": 296,
   "metadata": {
    "ExecuteTime": {
     "end_time": "2020-09-13T08:48:42.799090Z",
     "start_time": "2020-09-13T08:48:41.403762Z"
    }
   },
   "outputs": [],
   "source": [
    "good = ['good', 'great', 'nice', 'best', 'excellent', 'delicious', 'friendly',\n",
    "        'lovely', 'amazing', 'tasty', 'fantastic', 'perfect', 'wonderful',\n",
    "        'super', 'awesome', 'love', 'beautiful', 'superb', 'interesting',\n",
    "        'yummy', 'fine', 'favourite', 'surprise', 'loved', 'brilliant',\n",
    "        'favorite']\n",
    "\n",
    "df['words'] = df.reviews.str.findall(r\"(\\w+)\")\n",
    "df['review_mood'] = df.words.apply(get_mood)"
   ]
  },
  {
   "cell_type": "markdown",
   "metadata": {},
   "source": [
    "## notoriety"
   ]
  },
  {
   "cell_type": "markdown",
   "metadata": {},
   "source": [
    "Вычислим косвенный параметр как известность в городе, будем считать как отношение отзывов к общемку количеству отзывов в городе"
   ]
  },
  {
   "cell_type": "code",
   "execution_count": 297,
   "metadata": {
    "ExecuteTime": {
     "end_time": "2020-09-13T08:48:42.834833Z",
     "start_time": "2020-09-13T08:48:42.802721Z"
    }
   },
   "outputs": [],
   "source": [
    "all_reviews = df.groupby('city')['number_reviews'].sum().to_dict()\n",
    "df['all_reviews'] = df.city.map(all_reviews)\n",
    "df['notoriety'] = np.array(df.number_reviews)/np.array(df.all_reviews)"
   ]
  },
  {
   "cell_type": "markdown",
   "metadata": {},
   "source": [
    "## abs_rank"
   ]
  },
  {
   "cell_type": "code",
   "execution_count": 298,
   "metadata": {
    "ExecuteTime": {
     "end_time": "2020-09-13T08:48:42.850544Z",
     "start_time": "2020-09-13T08:48:42.840159Z"
    }
   },
   "outputs": [],
   "source": [
    "rest_count = {'London': 22793,\n",
    "              'Edinburgh': 2297, \n",
    "              'Paris': 17902, \n",
    "              'Lyon': 2891,\n",
    "              'Madrid': 11766,\n",
    "              'Barcelona': 10247,\n",
    "              'Hamburg': 3631,\n",
    "              'Berlin': 7650,\n",
    "              'Munich': 3488,\n",
    "              'Milan': 8224,\n",
    "              'Rome': 12378,\n",
    "              'Prague': 6037,\n",
    "              'Lisbon': 5141, \n",
    "              'Oporto': 2130,\n",
    "              'Vienna': 4545, \n",
    "              'Amsterdam': 4322, \n",
    "              'Brussels': 3775, \n",
    "              'Stockholm': 3219, \n",
    "              'Budapest': 3561,  \n",
    "              'Warsaw': 3396,\n",
    "              'Krakow': 1987,  \n",
    "              'Dublin': 2726, \n",
    "              'Copenhagen': 2694, \n",
    "              'Athens': 2924, \n",
    "              'Zurich': 1955,\n",
    "              'Geneva': 1777,  \n",
    "              'Oslo': 1495, \n",
    "              'Helsinki': 1741, \n",
    "              'Bratislava': 1379, \n",
    "              'Luxembourg': 772, \n",
    "              'Ljubljana': 663}"
   ]
  },
  {
   "cell_type": "code",
   "execution_count": 299,
   "metadata": {
    "ExecuteTime": {
     "end_time": "2020-09-13T08:48:44.047027Z",
     "start_time": "2020-09-13T08:48:42.853050Z"
    }
   },
   "outputs": [],
   "source": [
    "df['city_count_rest'] = df.city.map(rest_count)\n",
    "df['abs_rank'] = df.apply(lambda x: x['ranking']/x['city_count_rest'], axis=1)"
   ]
  },
  {
   "cell_type": "markdown",
   "metadata": {},
   "source": [
    "## rank_norm"
   ]
  },
  {
   "cell_type": "code",
   "execution_count": 300,
   "metadata": {
    "ExecuteTime": {
     "end_time": "2020-09-13T08:48:44.054325Z",
     "start_time": "2020-09-13T08:48:44.049353Z"
    }
   },
   "outputs": [],
   "source": [
    "#df['rank_norm'] = df.apply(lambda x: get_norm('ranking', x['ranking'], x['city']), axis=1)\n",
    "#for x in (df['city'].value_counts())[0:10].index:\n",
    "#    df['rank_norm'][df['city'] == x].hist(bins=100)\n",
    "#plt.show()"
   ]
  },
  {
   "cell_type": "code",
   "execution_count": 301,
   "metadata": {
    "ExecuteTime": {
     "end_time": "2020-09-13T08:48:44.069663Z",
     "start_time": "2020-09-13T08:48:44.061719Z"
    }
   },
   "outputs": [],
   "source": [
    "df['rank_norm'] = get_norm_col('ranking')"
   ]
  },
  {
   "cell_type": "markdown",
   "metadata": {},
   "source": [
    "## num_rev_norm"
   ]
  },
  {
   "cell_type": "code",
   "execution_count": 302,
   "metadata": {
    "ExecuteTime": {
     "end_time": "2020-09-13T08:48:44.081483Z",
     "start_time": "2020-09-13T08:48:44.075873Z"
    }
   },
   "outputs": [],
   "source": [
    "#df['num_rev_norm'] = df.apply(lambda x: get_norm('number_reviews', x['number_reviews'], x['city']), axis=1)"
   ]
  },
  {
   "cell_type": "code",
   "execution_count": 303,
   "metadata": {
    "ExecuteTime": {
     "end_time": "2020-09-13T08:48:44.105149Z",
     "start_time": "2020-09-13T08:48:44.083998Z"
    }
   },
   "outputs": [],
   "source": [
    "df['num_rev_norm'] = get_norm_col('number_reviews')"
   ]
  },
  {
   "cell_type": "markdown",
   "metadata": {},
   "source": [
    "## id_ta_norm"
   ]
  },
  {
   "cell_type": "code",
   "execution_count": 304,
   "metadata": {
    "ExecuteTime": {
     "end_time": "2020-09-13T08:48:44.120454Z",
     "start_time": "2020-09-13T08:48:44.109413Z"
    }
   },
   "outputs": [],
   "source": [
    "df['id_ta_norm'] = get_norm_col('id_ta')"
   ]
  },
  {
   "cell_type": "markdown",
   "metadata": {},
   "source": [
    "## price"
   ]
  },
  {
   "cell_type": "code",
   "execution_count": 305,
   "metadata": {
    "ExecuteTime": {
     "end_time": "2020-09-13T08:48:44.150830Z",
     "start_time": "2020-09-13T08:48:44.126210Z"
    }
   },
   "outputs": [],
   "source": [
    "df['price'] = df.price_range.apply(get_price)"
   ]
  },
  {
   "cell_type": "markdown",
   "metadata": {
    "ExecuteTime": {
     "end_time": "2020-09-12T11:56:00.524190Z",
     "start_time": "2020-09-12T11:56:00.517026Z"
    }
   },
   "source": [
    "## price_city"
   ]
  },
  {
   "cell_type": "code",
   "execution_count": 306,
   "metadata": {
    "ExecuteTime": {
     "end_time": "2020-09-13T08:48:44.173245Z",
     "start_time": "2020-09-13T08:48:44.153204Z"
    }
   },
   "outputs": [],
   "source": [
    "price_city = df.groupby('city').price.mean().to_dict()\n",
    "df['price_city'] = df.city.map(price_city)"
   ]
  },
  {
   "cell_type": "markdown",
   "metadata": {},
   "source": [
    "## vegan"
   ]
  },
  {
   "cell_type": "code",
   "execution_count": 307,
   "metadata": {
    "ExecuteTime": {
     "end_time": "2020-09-13T08:48:44.219907Z",
     "start_time": "2020-09-13T08:48:44.175852Z"
    }
   },
   "outputs": [],
   "source": [
    "df['vegan'] = df.cuisines.apply(get_vegan)"
   ]
  },
  {
   "cell_type": "markdown",
   "metadata": {
    "ExecuteTime": {
     "end_time": "2020-09-12T12:48:27.144292Z",
     "start_time": "2020-09-12T12:48:27.141428Z"
    }
   },
   "source": [
    "## norm"
   ]
  },
  {
   "cell_type": "code",
   "execution_count": 308,
   "metadata": {
    "ExecuteTime": {
     "end_time": "2020-09-13T08:48:44.225291Z",
     "start_time": "2020-09-13T08:48:44.222653Z"
    }
   },
   "outputs": [],
   "source": [
    "#df['abs_rank_norm'] = df.apply(lambda x: get_norm('abs_rank', x['abs_rank'], x['city']), axis=1)"
   ]
  },
  {
   "cell_type": "code",
   "execution_count": 309,
   "metadata": {
    "ExecuteTime": {
     "end_time": "2020-09-13T08:48:44.244261Z",
     "start_time": "2020-09-13T08:48:44.227992Z"
    }
   },
   "outputs": [],
   "source": [
    "df['cuis_count_norm'] = get_norm_col('cuisin_count')\n",
    "df['review_mood_norm'] = get_norm_col('review_mood')\n",
    "df['price_norm'] = get_norm_col('price')"
   ]
  },
  {
   "cell_type": "markdown",
   "metadata": {
    "ExecuteTime": {
     "end_time": "2020-09-12T13:07:23.213634Z",
     "start_time": "2020-09-12T13:07:23.209193Z"
    }
   },
   "source": [
    "## dummy"
   ]
  },
  {
   "cell_type": "code",
   "execution_count": 310,
   "metadata": {
    "ExecuteTime": {
     "end_time": "2020-09-13T08:48:44.288813Z",
     "start_time": "2020-09-13T08:48:44.247284Z"
    }
   },
   "outputs": [],
   "source": [
    "df = pd.get_dummies(df, columns=['city', ], dummy_na=True)"
   ]
  },
  {
   "cell_type": "markdown",
   "metadata": {},
   "source": [
    "# Анализ данных"
   ]
  },
  {
   "cell_type": "code",
   "execution_count": 311,
   "metadata": {
    "ExecuteTime": {
     "end_time": "2020-09-13T08:48:45.541001Z",
     "start_time": "2020-09-13T08:48:44.291586Z"
    }
   },
   "outputs": [
    {
     "data": {
      "text/plain": [
       "<matplotlib.axes._subplots.AxesSubplot at 0x7ff3662b9d50>"
      ]
     },
     "execution_count": 311,
     "metadata": {},
     "output_type": "execute_result"
    },
    {
     "data": {
      "image/png": "[encoded data removed]",
      "text/plain": [
       "<Figure size 1080x720 with 2 Axes>"
      ]
     },
     "metadata": {
      "needs_background": "light"
     },
     "output_type": "display_data"
    }
   ],
   "source": [
    "plt.rcParams['figure.figsize'] = (15,10)\n",
    "sns.heatmap(df.corr(),)"
   ]
  },
  {
   "cell_type": "markdown",
   "metadata": {},
   "source": [
    "# Разбиваем датафрейм на части, необходимые для обучения и тестирования модели"
   ]
  },
  {
   "cell_type": "code",
   "execution_count": 312,
   "metadata": {
    "ExecuteTime": {
     "end_time": "2020-09-13T08:48:45.567793Z",
     "start_time": "2020-09-13T08:48:45.544249Z"
    }
   },
   "outputs": [],
   "source": [
    "df.drop(['cuisines', 'ranking', 'price_range', 'number_reviews',\n",
    "          'reviews', 'id_ta', 'country','review_1', 'date_1', 'review_2',\n",
    "          'date_2', 'delta_day', 'words', 'all_reviews', 'cuisin_count',\n",
    "          'review_mood', 'price', 'city_count_rest'], axis=1, inplace=True)"
   ]
  },
  {
   "cell_type": "code",
   "execution_count": 313,
   "metadata": {
    "ExecuteTime": {
     "end_time": "2020-09-13T08:48:45.642264Z",
     "start_time": "2020-09-13T08:48:45.570073Z"
    }
   },
   "outputs": [
    {
     "data": {
      "text/html": [
       "<div>\n",
       "<style scoped>\n",
       "    .dataframe tbody tr th:only-of-type {\n",
       "        vertical-align: middle;\n",
       "    }\n",
       "\n",
       "    .dataframe tbody tr th {\n",
       "        vertical-align: top;\n",
       "    }\n",
       "\n",
       "    .dataframe thead th {\n",
       "        text-align: right;\n",
       "    }\n",
       "</style>\n",
       "<table border=\"1\" class=\"dataframe\">\n",
       "  <thead>\n",
       "    <tr style=\"text-align: right;\">\n",
       "      <th></th>\n",
       "      <th>rating</th>\n",
       "      <th>top_cuisines</th>\n",
       "      <th>delta_day_norm</th>\n",
       "      <th>notoriety</th>\n",
       "      <th>abs_rank</th>\n",
       "      <th>rank_norm</th>\n",
       "      <th>num_rev_norm</th>\n",
       "      <th>id_ta_norm</th>\n",
       "      <th>price_city</th>\n",
       "      <th>vegan</th>\n",
       "      <th>cuis_count_norm</th>\n",
       "      <th>review_mood_norm</th>\n",
       "      <th>price_norm</th>\n",
       "      <th>city_Amsterdam</th>\n",
       "      <th>city_Athens</th>\n",
       "      <th>city_Barcelona</th>\n",
       "      <th>city_Berlin</th>\n",
       "      <th>city_Bratislava</th>\n",
       "      <th>city_Brussels</th>\n",
       "      <th>city_Budapest</th>\n",
       "      <th>city_Copenhagen</th>\n",
       "      <th>city_Dublin</th>\n",
       "      <th>city_Edinburgh</th>\n",
       "      <th>city_Geneva</th>\n",
       "      <th>city_Hamburg</th>\n",
       "      <th>city_Helsinki</th>\n",
       "      <th>city_Krakow</th>\n",
       "      <th>city_Lisbon</th>\n",
       "      <th>city_Ljubljana</th>\n",
       "      <th>city_London</th>\n",
       "      <th>city_Luxembourg</th>\n",
       "      <th>city_Lyon</th>\n",
       "      <th>city_Madrid</th>\n",
       "      <th>city_Milan</th>\n",
       "      <th>city_Munich</th>\n",
       "      <th>city_Oporto</th>\n",
       "      <th>city_Oslo</th>\n",
       "      <th>city_Paris</th>\n",
       "      <th>city_Prague</th>\n",
       "      <th>city_Rome</th>\n",
       "      <th>city_Stockholm</th>\n",
       "      <th>city_Vienna</th>\n",
       "      <th>city_Warsaw</th>\n",
       "      <th>city_Zurich</th>\n",
       "      <th>city_nan</th>\n",
       "    </tr>\n",
       "  </thead>\n",
       "  <tbody>\n",
       "    <tr>\n",
       "      <th>0</th>\n",
       "      <td>3.5</td>\n",
       "      <td>1</td>\n",
       "      <td>0.037477</td>\n",
       "      <td>0.000411</td>\n",
       "      <td>0.311138</td>\n",
       "      <td>0.338685</td>\n",
       "      <td>0.194194</td>\n",
       "      <td>0.096073</td>\n",
       "      <td>1.925678</td>\n",
       "      <td>0</td>\n",
       "      <td>0.2</td>\n",
       "      <td>0.285714</td>\n",
       "      <td>0.5</td>\n",
       "      <td>0</td>\n",
       "      <td>0</td>\n",
       "      <td>0</td>\n",
       "      <td>0</td>\n",
       "      <td>0</td>\n",
       "      <td>0</td>\n",
       "      <td>0</td>\n",
       "      <td>0</td>\n",
       "      <td>0</td>\n",
       "      <td>0</td>\n",
       "      <td>0</td>\n",
       "      <td>0</td>\n",
       "      <td>0</td>\n",
       "      <td>0</td>\n",
       "      <td>0</td>\n",
       "      <td>0</td>\n",
       "      <td>0</td>\n",
       "      <td>0</td>\n",
       "      <td>0</td>\n",
       "      <td>0</td>\n",
       "      <td>0</td>\n",
       "      <td>0</td>\n",
       "      <td>0</td>\n",
       "      <td>0</td>\n",
       "      <td>1</td>\n",
       "      <td>0</td>\n",
       "      <td>0</td>\n",
       "      <td>0</td>\n",
       "      <td>0</td>\n",
       "      <td>0</td>\n",
       "      <td>0</td>\n",
       "      <td>0</td>\n",
       "    </tr>\n",
       "    <tr>\n",
       "      <th>1</th>\n",
       "      <td>4.0</td>\n",
       "      <td>0</td>\n",
       "      <td>0.349177</td>\n",
       "      <td>0.000204</td>\n",
       "      <td>0.477477</td>\n",
       "      <td>0.093414</td>\n",
       "      <td>0.010010</td>\n",
       "      <td>0.570024</td>\n",
       "      <td>1.965217</td>\n",
       "      <td>0</td>\n",
       "      <td>0.0</td>\n",
       "      <td>0.142857</td>\n",
       "      <td>0.5</td>\n",
       "      <td>0</td>\n",
       "      <td>0</td>\n",
       "      <td>0</td>\n",
       "      <td>0</td>\n",
       "      <td>0</td>\n",
       "      <td>0</td>\n",
       "      <td>0</td>\n",
       "      <td>0</td>\n",
       "      <td>0</td>\n",
       "      <td>0</td>\n",
       "      <td>0</td>\n",
       "      <td>0</td>\n",
       "      <td>0</td>\n",
       "      <td>0</td>\n",
       "      <td>0</td>\n",
       "      <td>0</td>\n",
       "      <td>0</td>\n",
       "      <td>0</td>\n",
       "      <td>0</td>\n",
       "      <td>0</td>\n",
       "      <td>0</td>\n",
       "      <td>0</td>\n",
       "      <td>0</td>\n",
       "      <td>0</td>\n",
       "      <td>0</td>\n",
       "      <td>0</td>\n",
       "      <td>0</td>\n",
       "      <td>1</td>\n",
       "      <td>0</td>\n",
       "      <td>0</td>\n",
       "      <td>0</td>\n",
       "      <td>0</td>\n",
       "    </tr>\n",
       "    <tr>\n",
       "      <th>2</th>\n",
       "      <td>4.5</td>\n",
       "      <td>1</td>\n",
       "      <td>0.001828</td>\n",
       "      <td>0.001271</td>\n",
       "      <td>0.015487</td>\n",
       "      <td>0.021407</td>\n",
       "      <td>0.688689</td>\n",
       "      <td>0.619977</td>\n",
       "      <td>1.849369</td>\n",
       "      <td>1</td>\n",
       "      <td>0.6</td>\n",
       "      <td>0.000000</td>\n",
       "      <td>1.0</td>\n",
       "      <td>0</td>\n",
       "      <td>0</td>\n",
       "      <td>0</td>\n",
       "      <td>0</td>\n",
       "      <td>0</td>\n",
       "      <td>0</td>\n",
       "      <td>0</td>\n",
       "      <td>0</td>\n",
       "      <td>0</td>\n",
       "      <td>0</td>\n",
       "      <td>0</td>\n",
       "      <td>0</td>\n",
       "      <td>0</td>\n",
       "      <td>0</td>\n",
       "      <td>0</td>\n",
       "      <td>0</td>\n",
       "      <td>1</td>\n",
       "      <td>0</td>\n",
       "      <td>0</td>\n",
       "      <td>0</td>\n",
       "      <td>0</td>\n",
       "      <td>0</td>\n",
       "      <td>0</td>\n",
       "      <td>0</td>\n",
       "      <td>0</td>\n",
       "      <td>0</td>\n",
       "      <td>0</td>\n",
       "      <td>0</td>\n",
       "      <td>0</td>\n",
       "      <td>0</td>\n",
       "      <td>0</td>\n",
       "      <td>0</td>\n",
       "    </tr>\n",
       "    <tr>\n",
       "      <th>3</th>\n",
       "      <td>5.0</td>\n",
       "      <td>0</td>\n",
       "      <td>0.000000</td>\n",
       "      <td>0.000030</td>\n",
       "      <td>0.452026</td>\n",
       "      <td>0.210241</td>\n",
       "      <td>0.003003</td>\n",
       "      <td>0.052893</td>\n",
       "      <td>1.867933</td>\n",
       "      <td>0</td>\n",
       "      <td>0.0</td>\n",
       "      <td>0.000000</td>\n",
       "      <td>0.5</td>\n",
       "      <td>0</td>\n",
       "      <td>0</td>\n",
       "      <td>0</td>\n",
       "      <td>1</td>\n",
       "      <td>0</td>\n",
       "      <td>0</td>\n",
       "      <td>0</td>\n",
       "      <td>0</td>\n",
       "      <td>0</td>\n",
       "      <td>0</td>\n",
       "      <td>0</td>\n",
       "      <td>0</td>\n",
       "      <td>0</td>\n",
       "      <td>0</td>\n",
       "      <td>0</td>\n",
       "      <td>0</td>\n",
       "      <td>0</td>\n",
       "      <td>0</td>\n",
       "      <td>0</td>\n",
       "      <td>0</td>\n",
       "      <td>0</td>\n",
       "      <td>0</td>\n",
       "      <td>0</td>\n",
       "      <td>0</td>\n",
       "      <td>0</td>\n",
       "      <td>0</td>\n",
       "      <td>0</td>\n",
       "      <td>0</td>\n",
       "      <td>0</td>\n",
       "      <td>0</td>\n",
       "      <td>0</td>\n",
       "      <td>0</td>\n",
       "    </tr>\n",
       "    <tr>\n",
       "      <th>4</th>\n",
       "      <td>4.0</td>\n",
       "      <td>1</td>\n",
       "      <td>0.248629</td>\n",
       "      <td>0.001583</td>\n",
       "      <td>0.178039</td>\n",
       "      <td>0.037706</td>\n",
       "      <td>0.084084</td>\n",
       "      <td>0.482157</td>\n",
       "      <td>1.945205</td>\n",
       "      <td>1</td>\n",
       "      <td>0.2</td>\n",
       "      <td>0.285714</td>\n",
       "      <td>0.5</td>\n",
       "      <td>0</td>\n",
       "      <td>0</td>\n",
       "      <td>0</td>\n",
       "      <td>0</td>\n",
       "      <td>0</td>\n",
       "      <td>0</td>\n",
       "      <td>0</td>\n",
       "      <td>0</td>\n",
       "      <td>0</td>\n",
       "      <td>0</td>\n",
       "      <td>0</td>\n",
       "      <td>0</td>\n",
       "      <td>0</td>\n",
       "      <td>0</td>\n",
       "      <td>0</td>\n",
       "      <td>0</td>\n",
       "      <td>0</td>\n",
       "      <td>0</td>\n",
       "      <td>0</td>\n",
       "      <td>0</td>\n",
       "      <td>0</td>\n",
       "      <td>1</td>\n",
       "      <td>0</td>\n",
       "      <td>0</td>\n",
       "      <td>0</td>\n",
       "      <td>0</td>\n",
       "      <td>0</td>\n",
       "      <td>0</td>\n",
       "      <td>0</td>\n",
       "      <td>0</td>\n",
       "      <td>0</td>\n",
       "      <td>0</td>\n",
       "    </tr>\n",
       "    <tr>\n",
       "      <th>...</th>\n",
       "      <td>...</td>\n",
       "      <td>...</td>\n",
       "      <td>...</td>\n",
       "      <td>...</td>\n",
       "      <td>...</td>\n",
       "      <td>...</td>\n",
       "      <td>...</td>\n",
       "      <td>...</td>\n",
       "      <td>...</td>\n",
       "      <td>...</td>\n",
       "      <td>...</td>\n",
       "      <td>...</td>\n",
       "      <td>...</td>\n",
       "      <td>...</td>\n",
       "      <td>...</td>\n",
       "      <td>...</td>\n",
       "      <td>...</td>\n",
       "      <td>...</td>\n",
       "      <td>...</td>\n",
       "      <td>...</td>\n",
       "      <td>...</td>\n",
       "      <td>...</td>\n",
       "      <td>...</td>\n",
       "      <td>...</td>\n",
       "      <td>...</td>\n",
       "      <td>...</td>\n",
       "      <td>...</td>\n",
       "      <td>...</td>\n",
       "      <td>...</td>\n",
       "      <td>...</td>\n",
       "      <td>...</td>\n",
       "      <td>...</td>\n",
       "      <td>...</td>\n",
       "      <td>...</td>\n",
       "      <td>...</td>\n",
       "      <td>...</td>\n",
       "      <td>...</td>\n",
       "      <td>...</td>\n",
       "      <td>...</td>\n",
       "      <td>...</td>\n",
       "      <td>...</td>\n",
       "      <td>...</td>\n",
       "      <td>...</td>\n",
       "      <td>...</td>\n",
       "      <td>...</td>\n",
       "    </tr>\n",
       "    <tr>\n",
       "      <th>39993</th>\n",
       "      <td>4.0</td>\n",
       "      <td>0</td>\n",
       "      <td>0.312614</td>\n",
       "      <td>0.000034</td>\n",
       "      <td>0.338398</td>\n",
       "      <td>0.368363</td>\n",
       "      <td>0.016016</td>\n",
       "      <td>0.768081</td>\n",
       "      <td>1.925678</td>\n",
       "      <td>0</td>\n",
       "      <td>0.0</td>\n",
       "      <td>0.142857</td>\n",
       "      <td>0.5</td>\n",
       "      <td>0</td>\n",
       "      <td>0</td>\n",
       "      <td>0</td>\n",
       "      <td>0</td>\n",
       "      <td>0</td>\n",
       "      <td>0</td>\n",
       "      <td>0</td>\n",
       "      <td>0</td>\n",
       "      <td>0</td>\n",
       "      <td>0</td>\n",
       "      <td>0</td>\n",
       "      <td>0</td>\n",
       "      <td>0</td>\n",
       "      <td>0</td>\n",
       "      <td>0</td>\n",
       "      <td>0</td>\n",
       "      <td>0</td>\n",
       "      <td>0</td>\n",
       "      <td>0</td>\n",
       "      <td>0</td>\n",
       "      <td>0</td>\n",
       "      <td>0</td>\n",
       "      <td>0</td>\n",
       "      <td>0</td>\n",
       "      <td>1</td>\n",
       "      <td>0</td>\n",
       "      <td>0</td>\n",
       "      <td>0</td>\n",
       "      <td>0</td>\n",
       "      <td>0</td>\n",
       "      <td>0</td>\n",
       "      <td>0</td>\n",
       "    </tr>\n",
       "    <tr>\n",
       "      <th>39994</th>\n",
       "      <td>4.5</td>\n",
       "      <td>1</td>\n",
       "      <td>0.000000</td>\n",
       "      <td>0.000013</td>\n",
       "      <td>0.395207</td>\n",
       "      <td>0.430213</td>\n",
       "      <td>0.006006</td>\n",
       "      <td>0.930977</td>\n",
       "      <td>1.925678</td>\n",
       "      <td>0</td>\n",
       "      <td>0.3</td>\n",
       "      <td>0.000000</td>\n",
       "      <td>0.5</td>\n",
       "      <td>0</td>\n",
       "      <td>0</td>\n",
       "      <td>0</td>\n",
       "      <td>0</td>\n",
       "      <td>0</td>\n",
       "      <td>0</td>\n",
       "      <td>0</td>\n",
       "      <td>0</td>\n",
       "      <td>0</td>\n",
       "      <td>0</td>\n",
       "      <td>0</td>\n",
       "      <td>0</td>\n",
       "      <td>0</td>\n",
       "      <td>0</td>\n",
       "      <td>0</td>\n",
       "      <td>0</td>\n",
       "      <td>0</td>\n",
       "      <td>0</td>\n",
       "      <td>0</td>\n",
       "      <td>0</td>\n",
       "      <td>0</td>\n",
       "      <td>0</td>\n",
       "      <td>0</td>\n",
       "      <td>0</td>\n",
       "      <td>1</td>\n",
       "      <td>0</td>\n",
       "      <td>0</td>\n",
       "      <td>0</td>\n",
       "      <td>0</td>\n",
       "      <td>0</td>\n",
       "      <td>0</td>\n",
       "      <td>0</td>\n",
       "    </tr>\n",
       "    <tr>\n",
       "      <th>39995</th>\n",
       "      <td>4.5</td>\n",
       "      <td>1</td>\n",
       "      <td>0.031079</td>\n",
       "      <td>0.000297</td>\n",
       "      <td>0.060798</td>\n",
       "      <td>0.030347</td>\n",
       "      <td>0.079079</td>\n",
       "      <td>0.111023</td>\n",
       "      <td>1.835915</td>\n",
       "      <td>1</td>\n",
       "      <td>0.3</td>\n",
       "      <td>0.285714</td>\n",
       "      <td>0.5</td>\n",
       "      <td>0</td>\n",
       "      <td>0</td>\n",
       "      <td>0</td>\n",
       "      <td>0</td>\n",
       "      <td>0</td>\n",
       "      <td>0</td>\n",
       "      <td>0</td>\n",
       "      <td>0</td>\n",
       "      <td>0</td>\n",
       "      <td>0</td>\n",
       "      <td>0</td>\n",
       "      <td>0</td>\n",
       "      <td>0</td>\n",
       "      <td>0</td>\n",
       "      <td>0</td>\n",
       "      <td>0</td>\n",
       "      <td>0</td>\n",
       "      <td>0</td>\n",
       "      <td>0</td>\n",
       "      <td>0</td>\n",
       "      <td>1</td>\n",
       "      <td>0</td>\n",
       "      <td>0</td>\n",
       "      <td>0</td>\n",
       "      <td>0</td>\n",
       "      <td>0</td>\n",
       "      <td>0</td>\n",
       "      <td>0</td>\n",
       "      <td>0</td>\n",
       "      <td>0</td>\n",
       "      <td>0</td>\n",
       "      <td>0</td>\n",
       "    </tr>\n",
       "    <tr>\n",
       "      <th>39996</th>\n",
       "      <td>3.5</td>\n",
       "      <td>1</td>\n",
       "      <td>0.008227</td>\n",
       "      <td>0.001148</td>\n",
       "      <td>0.354206</td>\n",
       "      <td>0.385574</td>\n",
       "      <td>0.542543</td>\n",
       "      <td>0.087294</td>\n",
       "      <td>1.925678</td>\n",
       "      <td>1</td>\n",
       "      <td>0.4</td>\n",
       "      <td>0.285714</td>\n",
       "      <td>0.5</td>\n",
       "      <td>0</td>\n",
       "      <td>0</td>\n",
       "      <td>0</td>\n",
       "      <td>0</td>\n",
       "      <td>0</td>\n",
       "      <td>0</td>\n",
       "      <td>0</td>\n",
       "      <td>0</td>\n",
       "      <td>0</td>\n",
       "      <td>0</td>\n",
       "      <td>0</td>\n",
       "      <td>0</td>\n",
       "      <td>0</td>\n",
       "      <td>0</td>\n",
       "      <td>0</td>\n",
       "      <td>0</td>\n",
       "      <td>0</td>\n",
       "      <td>0</td>\n",
       "      <td>0</td>\n",
       "      <td>0</td>\n",
       "      <td>0</td>\n",
       "      <td>0</td>\n",
       "      <td>0</td>\n",
       "      <td>0</td>\n",
       "      <td>1</td>\n",
       "      <td>0</td>\n",
       "      <td>0</td>\n",
       "      <td>0</td>\n",
       "      <td>0</td>\n",
       "      <td>0</td>\n",
       "      <td>0</td>\n",
       "      <td>0</td>\n",
       "    </tr>\n",
       "    <tr>\n",
       "      <th>39998</th>\n",
       "      <td>4.0</td>\n",
       "      <td>1</td>\n",
       "      <td>0.021024</td>\n",
       "      <td>0.001984</td>\n",
       "      <td>0.188751</td>\n",
       "      <td>0.038922</td>\n",
       "      <td>0.070070</td>\n",
       "      <td>0.032784</td>\n",
       "      <td>1.884562</td>\n",
       "      <td>1</td>\n",
       "      <td>0.4</td>\n",
       "      <td>0.000000</td>\n",
       "      <td>0.5</td>\n",
       "      <td>0</td>\n",
       "      <td>0</td>\n",
       "      <td>0</td>\n",
       "      <td>0</td>\n",
       "      <td>0</td>\n",
       "      <td>0</td>\n",
       "      <td>0</td>\n",
       "      <td>0</td>\n",
       "      <td>0</td>\n",
       "      <td>0</td>\n",
       "      <td>0</td>\n",
       "      <td>0</td>\n",
       "      <td>0</td>\n",
       "      <td>0</td>\n",
       "      <td>0</td>\n",
       "      <td>0</td>\n",
       "      <td>0</td>\n",
       "      <td>0</td>\n",
       "      <td>0</td>\n",
       "      <td>0</td>\n",
       "      <td>0</td>\n",
       "      <td>0</td>\n",
       "      <td>0</td>\n",
       "      <td>0</td>\n",
       "      <td>0</td>\n",
       "      <td>0</td>\n",
       "      <td>0</td>\n",
       "      <td>0</td>\n",
       "      <td>0</td>\n",
       "      <td>1</td>\n",
       "      <td>0</td>\n",
       "      <td>0</td>\n",
       "    </tr>\n",
       "  </tbody>\n",
       "</table>\n",
       "<p>39023 rows × 45 columns</p>\n",
       "</div>"
      ],
      "text/plain": [
       "       rating  top_cuisines  delta_day_norm  notoriety  abs_rank  rank_norm  \\\n",
       "0         3.5             1        0.037477   0.000411  0.311138   0.338685   \n",
       "1         4.0             0        0.349177   0.000204  0.477477   0.093414   \n",
       "2         4.5             1        0.001828   0.001271  0.015487   0.021407   \n",
       "3         5.0             0        0.000000   0.000030  0.452026   0.210241   \n",
       "4         4.0             1        0.248629   0.001583  0.178039   0.037706   \n",
       "...       ...           ...             ...        ...       ...        ...   \n",
       "39993     4.0             0        0.312614   0.000034  0.338398   0.368363   \n",
       "39994     4.5             1        0.000000   0.000013  0.395207   0.430213   \n",
       "39995     4.5             1        0.031079   0.000297  0.060798   0.030347   \n",
       "39996     3.5             1        0.008227   0.001148  0.354206   0.385574   \n",
       "39998     4.0             1        0.021024   0.001984  0.188751   0.038922   \n",
       "\n",
       "       num_rev_norm  id_ta_norm  price_city  vegan  cuis_count_norm  \\\n",
       "0          0.194194    0.096073    1.925678      0              0.2   \n",
       "1          0.010010    0.570024    1.965217      0              0.0   \n",
       "2          0.688689    0.619977    1.849369      1              0.6   \n",
       "3          0.003003    0.052893    1.867933      0              0.0   \n",
       "4          0.084084    0.482157    1.945205      1              0.2   \n",
       "...             ...         ...         ...    ...              ...   \n",
       "39993      0.016016    0.768081    1.925678      0              0.0   \n",
       "39994      0.006006    0.930977    1.925678      0              0.3   \n",
       "39995      0.079079    0.111023    1.835915      1              0.3   \n",
       "39996      0.542543    0.087294    1.925678      1              0.4   \n",
       "39998      0.070070    0.032784    1.884562      1              0.4   \n",
       "\n",
       "       review_mood_norm  price_norm  city_Amsterdam  city_Athens  \\\n",
       "0              0.285714         0.5               0            0   \n",
       "1              0.142857         0.5               0            0   \n",
       "2              0.000000         1.0               0            0   \n",
       "3              0.000000         0.5               0            0   \n",
       "4              0.285714         0.5               0            0   \n",
       "...                 ...         ...             ...          ...   \n",
       "39993          0.142857         0.5               0            0   \n",
       "39994          0.000000         0.5               0            0   \n",
       "39995          0.285714         0.5               0            0   \n",
       "39996          0.285714         0.5               0            0   \n",
       "39998          0.000000         0.5               0            0   \n",
       "\n",
       "       city_Barcelona  city_Berlin  city_Bratislava  city_Brussels  \\\n",
       "0                   0            0                0              0   \n",
       "1                   0            0                0              0   \n",
       "2                   0            0                0              0   \n",
       "3                   0            1                0              0   \n",
       "4                   0            0                0              0   \n",
       "...               ...          ...              ...            ...   \n",
       "39993               0            0                0              0   \n",
       "39994               0            0                0              0   \n",
       "39995               0            0                0              0   \n",
       "39996               0            0                0              0   \n",
       "39998               0            0                0              0   \n",
       "\n",
       "       city_Budapest  city_Copenhagen  city_Dublin  city_Edinburgh  \\\n",
       "0                  0                0            0               0   \n",
       "1                  0                0            0               0   \n",
       "2                  0                0            0               0   \n",
       "3                  0                0            0               0   \n",
       "4                  0                0            0               0   \n",
       "...              ...              ...          ...             ...   \n",
       "39993              0                0            0               0   \n",
       "39994              0                0            0               0   \n",
       "39995              0                0            0               0   \n",
       "39996              0                0            0               0   \n",
       "39998              0                0            0               0   \n",
       "\n",
       "       city_Geneva  city_Hamburg  city_Helsinki  city_Krakow  city_Lisbon  \\\n",
       "0                0             0              0            0            0   \n",
       "1                0             0              0            0            0   \n",
       "2                0             0              0            0            0   \n",
       "3                0             0              0            0            0   \n",
       "4                0             0              0            0            0   \n",
       "...            ...           ...            ...          ...          ...   \n",
       "39993            0             0              0            0            0   \n",
       "39994            0             0              0            0            0   \n",
       "39995            0             0              0            0            0   \n",
       "39996            0             0              0            0            0   \n",
       "39998            0             0              0            0            0   \n",
       "\n",
       "       city_Ljubljana  city_London  city_Luxembourg  city_Lyon  city_Madrid  \\\n",
       "0                   0            0                0          0            0   \n",
       "1                   0            0                0          0            0   \n",
       "2                   0            1                0          0            0   \n",
       "3                   0            0                0          0            0   \n",
       "4                   0            0                0          0            0   \n",
       "...               ...          ...              ...        ...          ...   \n",
       "39993               0            0                0          0            0   \n",
       "39994               0            0                0          0            0   \n",
       "39995               0            0                0          0            0   \n",
       "39996               0            0                0          0            0   \n",
       "39998               0            0                0          0            0   \n",
       "\n",
       "       city_Milan  city_Munich  city_Oporto  city_Oslo  city_Paris  \\\n",
       "0               0            0            0          0           1   \n",
       "1               0            0            0          0           0   \n",
       "2               0            0            0          0           0   \n",
       "3               0            0            0          0           0   \n",
       "4               0            1            0          0           0   \n",
       "...           ...          ...          ...        ...         ...   \n",
       "39993           0            0            0          0           1   \n",
       "39994           0            0            0          0           1   \n",
       "39995           1            0            0          0           0   \n",
       "39996           0            0            0          0           1   \n",
       "39998           0            0            0          0           0   \n",
       "\n",
       "       city_Prague  city_Rome  city_Stockholm  city_Vienna  city_Warsaw  \\\n",
       "0                0          0               0            0            0   \n",
       "1                0          0               1            0            0   \n",
       "2                0          0               0            0            0   \n",
       "3                0          0               0            0            0   \n",
       "4                0          0               0            0            0   \n",
       "...            ...        ...             ...          ...          ...   \n",
       "39993            0          0               0            0            0   \n",
       "39994            0          0               0            0            0   \n",
       "39995            0          0               0            0            0   \n",
       "39996            0          0               0            0            0   \n",
       "39998            0          0               0            0            1   \n",
       "\n",
       "       city_Zurich  city_nan  \n",
       "0                0         0  \n",
       "1                0         0  \n",
       "2                0         0  \n",
       "3                0         0  \n",
       "4                0         0  \n",
       "...            ...       ...  \n",
       "39993            0         0  \n",
       "39994            0         0  \n",
       "39995            0         0  \n",
       "39996            0         0  \n",
       "39998            0         0  \n",
       "\n",
       "[39023 rows x 45 columns]"
      ]
     },
     "execution_count": 313,
     "metadata": {},
     "output_type": "execute_result"
    }
   ],
   "source": [
    "df"
   ]
  },
  {
   "cell_type": "code",
   "execution_count": 314,
   "metadata": {
    "ExecuteTime": {
     "end_time": "2020-09-13T08:48:45.662884Z",
     "start_time": "2020-09-13T08:48:45.648483Z"
    }
   },
   "outputs": [],
   "source": [
    "# Х - данные с информацией о ресторанах, у - целевая переменная (рейтинги ресторанов)\n",
    "X = df.drop('rating', axis = 1)\n",
    "y = df['rating']"
   ]
  },
  {
   "cell_type": "code",
   "execution_count": 315,
   "metadata": {
    "ExecuteTime": {
     "end_time": "2020-09-13T08:48:45.672660Z",
     "start_time": "2020-09-13T08:48:45.668189Z"
    }
   },
   "outputs": [],
   "source": [
    "# Загружаем специальный инструмент для разбивки:\n",
    "from sklearn.model_selection import train_test_split"
   ]
  },
  {
   "cell_type": "code",
   "execution_count": 316,
   "metadata": {
    "ExecuteTime": {
     "end_time": "2020-09-13T08:48:45.691078Z",
     "start_time": "2020-09-13T08:48:45.675921Z"
    }
   },
   "outputs": [],
   "source": [
    "# Наборы данных с меткой \"train\" будут использоваться для обучения модели, \"test\" - для тестирования.\n",
    "# Для тестирования мы будем использовать 25% от исходного датасета.\n",
    "X_train, X_test, y_train, y_test = train_test_split(X, y, test_size=0.25)"
   ]
  },
  {
   "cell_type": "markdown",
   "metadata": {},
   "source": [
    "# Создаём, обучаем и тестируем модель"
   ]
  },
  {
   "cell_type": "code",
   "execution_count": 317,
   "metadata": {
    "ExecuteTime": {
     "end_time": "2020-09-13T08:48:45.697972Z",
     "start_time": "2020-09-13T08:48:45.693358Z"
    }
   },
   "outputs": [],
   "source": [
    "# Импортируем необходимые библиотеки:\n",
    "from sklearn.ensemble import RandomForestRegressor # инструмент для создания и обучения модели\n",
    "from sklearn import metrics # инструменты для оценки точности модели"
   ]
  },
  {
   "cell_type": "code",
   "execution_count": 318,
   "metadata": {
    "ExecuteTime": {
     "end_time": "2020-09-13T08:49:12.732538Z",
     "start_time": "2020-09-13T08:48:45.701009Z"
    }
   },
   "outputs": [],
   "source": [
    "# Создаём модель\n",
    "regr = RandomForestRegressor(n_estimators=100)\n",
    "\n",
    "# Обучаем модель на тестовом наборе данных\n",
    "regr.fit(X_train, y_train)\n",
    "\n",
    "# Используем обученную модель для предсказания рейтинга ресторанов в тестовой выборке.\n",
    "# Предсказанные значения записываем в переменную y_pred\n",
    "y_pred = regr.predict(X_test)"
   ]
  },
  {
   "cell_type": "code",
   "execution_count": 319,
   "metadata": {
    "ExecuteTime": {
     "end_time": "2020-09-13T08:49:12.774907Z",
     "start_time": "2020-09-13T08:49:12.737700Z"
    }
   },
   "outputs": [],
   "source": [
    "for i in range(len(y_pred)):\n",
    "    y_pred[i] = fine_rating_pred(y_pred[i])"
   ]
  },
  {
   "cell_type": "code",
   "execution_count": 320,
   "metadata": {
    "ExecuteTime": {
     "end_time": "2020-09-13T08:49:12.805757Z",
     "start_time": "2020-09-13T08:49:12.791055Z"
    }
   },
   "outputs": [
    {
     "name": "stdout",
     "output_type": "stream",
     "text": [
      "MAE_not_nan: 0.17353423534235343\n"
     ]
    }
   ],
   "source": [
    "# Сравниваем предсказанные значения (y_pred) с реальными (y_test), и смотрим насколько они в среднем отличаются\n",
    "# Метрика называется Mean Absolute Error (MAE) и показывает среднее отклонение предсказанных значений от фактических.\n",
    "print('MAE_not_nan:', metrics.mean_absolute_error(y_test, y_pred))"
   ]
  },
  {
   "cell_type": "code",
   "execution_count": 321,
   "metadata": {
    "ExecuteTime": {
     "end_time": "2020-09-13T08:49:13.165384Z",
     "start_time": "2020-09-13T08:49:12.807961Z"
    }
   },
   "outputs": [
    {
     "data": {
      "text/plain": [
       "<matplotlib.axes._subplots.AxesSubplot at 0x7ff381c92190>"
      ]
     },
     "execution_count": 321,
     "metadata": {},
     "output_type": "execute_result"
    },
    {
     "data": {
      "image/png": "[encoded data removed]",
      "text/plain": [
       "<Figure size 720x720 with 1 Axes>"
      ]
     },
     "metadata": {
      "needs_background": "light"
     },
     "output_type": "display_data"
    }
   ],
   "source": [
    "plt.rcParams['figure.figsize'] = (10,10)\n",
    "feat_importances = pd.Series(regr.feature_importances_, index=X.columns)\n",
    "feat_importances.nlargest(15).plot(kind='barh')"
   ]
  },
  {
   "cell_type": "code",
   "execution_count": 322,
   "metadata": {
    "ExecuteTime": {
     "end_time": "2020-09-13T08:51:37.982884Z",
     "start_time": "2020-09-13T08:49:13.168687Z"
    },
    "scrolled": true
   },
   "outputs": [
    {
     "name": "stdout",
     "output_type": "stream",
     "text": [
      "MAE: 0.1726629766297663\n",
      "MAE: 0.1724579745797458\n",
      "MAE: 0.17358548585485856\n",
      "MAE: 0.17420049200492005\n",
      "MAE: 0.17220172201722017\n",
      "MAE_mean: 0.17302\n"
     ]
    }
   ],
   "source": [
    "MAE_mean_count(df, 5)"
   ]
  },
  {
   "cell_type": "code",
   "execution_count": 213,
   "metadata": {
    "ExecuteTime": {
     "end_time": "2020-09-13T08:30:05.559264Z",
     "start_time": "2020-09-13T08:30:05.553094Z"
    }
   },
   "outputs": [
    {
     "data": {
      "text/plain": [
       "35120.700000000004"
      ]
     },
     "execution_count": 213,
     "metadata": {},
     "output_type": "execute_result"
    }
   ],
   "source": [
    "len(df)*0.9"
   ]
  },
  {
   "cell_type": "code",
   "execution_count": 228,
   "metadata": {
    "ExecuteTime": {
     "end_time": "2020-09-13T08:37:02.511491Z",
     "start_time": "2020-09-13T08:37:02.502343Z"
    }
   },
   "outputs": [
    {
     "data": {
      "text/plain": [
       "35641"
      ]
     },
     "execution_count": 228,
     "metadata": {},
     "output_type": "execute_result"
    }
   ],
   "source": [
    "df.city.value_counts()[:22].sum()"
   ]
  },
  {
   "cell_type": "code",
   "execution_count": 217,
   "metadata": {
    "ExecuteTime": {
     "end_time": "2020-09-13T08:30:34.623074Z",
     "start_time": "2020-09-13T08:30:34.615490Z"
    }
   },
   "outputs": [],
   "source": [
    "pop_city = df.city.value_counts()[:22]"
   ]
  },
  {
   "cell_type": "code",
   "execution_count": 205,
   "metadata": {
    "ExecuteTime": {
     "end_time": "2020-09-13T08:26:59.587436Z",
     "start_time": "2020-09-13T08:26:59.581301Z"
    }
   },
   "outputs": [
    {
     "data": {
      "text/plain": [
       "36000.0"
      ]
     },
     "execution_count": 205,
     "metadata": {},
     "output_type": "execute_result"
    }
   ],
   "source": [
    "40000*0.90"
   ]
  },
  {
   "cell_type": "code",
   "execution_count": 221,
   "metadata": {
    "ExecuteTime": {
     "end_time": "2020-09-13T08:31:04.942590Z",
     "start_time": "2020-09-13T08:31:04.936620Z"
    }
   },
   "outputs": [
    {
     "data": {
      "text/plain": [
       "'London'"
      ]
     },
     "execution_count": 221,
     "metadata": {},
     "output_type": "execute_result"
    }
   ],
   "source": [
    "pop_city.index[0]"
   ]
  },
  {
   "cell_type": "code",
   "execution_count": 235,
   "metadata": {
    "ExecuteTime": {
     "end_time": "2020-09-13T08:39:31.766599Z",
     "start_time": "2020-09-13T08:39:31.761684Z"
    }
   },
   "outputs": [],
   "source": [
    "def pop_city():\n",
    "    pop_city = []\n",
    "    line = len(df)*0.9\n",
    "    k = 0\n",
    "    for i in range(len(df.city.value_counts())):\n",
    "        if df.city.value_counts()[:i].sum() > line:\n",
    "            break\n",
    "        k += 1\n",
    "    for i in range(k):\n",
    "        pop_city.append(df.city.value_counts().index[i])\n",
    "    return pop_city"
   ]
  },
  {
   "cell_type": "code",
   "execution_count": 236,
   "metadata": {
    "ExecuteTime": {
     "end_time": "2020-09-13T08:39:34.178940Z",
     "start_time": "2020-09-13T08:39:34.006269Z"
    }
   },
   "outputs": [],
   "source": [
    "city_new = pop_city()"
   ]
  },
  {
   "cell_type": "code",
   "execution_count": 237,
   "metadata": {
    "ExecuteTime": {
     "end_time": "2020-09-13T08:39:36.972240Z",
     "start_time": "2020-09-13T08:39:36.964404Z"
    }
   },
   "outputs": [
    {
     "data": {
      "text/plain": [
       "['London',\n",
       " 'Paris',\n",
       " 'Madrid',\n",
       " 'Barcelona',\n",
       " 'Berlin',\n",
       " 'Milan',\n",
       " 'Rome',\n",
       " 'Prague',\n",
       " 'Lisbon',\n",
       " 'Vienna',\n",
       " 'Amsterdam',\n",
       " 'Brussels',\n",
       " 'Hamburg',\n",
       " 'Lyon',\n",
       " 'Munich',\n",
       " 'Stockholm',\n",
       " 'Budapest',\n",
       " 'Warsaw',\n",
       " 'Copenhagen',\n",
       " 'Dublin',\n",
       " 'Athens',\n",
       " 'Edinburgh']"
      ]
     },
     "execution_count": 237,
     "metadata": {},
     "output_type": "execute_result"
    }
   ],
   "source": [
    "city_new"
   ]
  },
  {
   "cell_type": "code",
   "execution_count": 238,
   "metadata": {
    "ExecuteTime": {
     "end_time": "2020-09-13T08:41:58.867010Z",
     "start_time": "2020-09-13T08:41:58.864048Z"
    }
   },
   "outputs": [],
   "source": [
    "def update_city(city):\n",
    "    for c in city_new:\n",
    "        if city == c:\n",
    "            return city\n",
    "    return 'other'"
   ]
  },
  {
   "cell_type": "code",
   "execution_count": 239,
   "metadata": {
    "ExecuteTime": {
     "end_time": "2020-09-13T08:42:28.218654Z",
     "start_time": "2020-09-13T08:42:28.194607Z"
    }
   },
   "outputs": [],
   "source": [
    "df['city_up'] = df.city.apply(update_city)"
   ]
  },
  {
   "cell_type": "code",
   "execution_count": 240,
   "metadata": {
    "ExecuteTime": {
     "end_time": "2020-09-13T08:42:29.762607Z",
     "start_time": "2020-09-13T08:42:29.687720Z"
    }
   },
   "outputs": [
    {
     "data": {
      "text/html": [
       "<div>\n",
       "<style scoped>\n",
       "    .dataframe tbody tr th:only-of-type {\n",
       "        vertical-align: middle;\n",
       "    }\n",
       "\n",
       "    .dataframe tbody tr th {\n",
       "        vertical-align: top;\n",
       "    }\n",
       "\n",
       "    .dataframe thead th {\n",
       "        text-align: right;\n",
       "    }\n",
       "</style>\n",
       "<table border=\"1\" class=\"dataframe\">\n",
       "  <thead>\n",
       "    <tr style=\"text-align: right;\">\n",
       "      <th></th>\n",
       "      <th>city</th>\n",
       "      <th>cuisines</th>\n",
       "      <th>ranking</th>\n",
       "      <th>rating</th>\n",
       "      <th>price_range</th>\n",
       "      <th>number_reviews</th>\n",
       "      <th>reviews</th>\n",
       "      <th>id_ta</th>\n",
       "      <th>country</th>\n",
       "      <th>review_1</th>\n",
       "      <th>date_1</th>\n",
       "      <th>review_2</th>\n",
       "      <th>date_2</th>\n",
       "      <th>cuisin_count</th>\n",
       "      <th>top_cuisines</th>\n",
       "      <th>delta_day</th>\n",
       "      <th>delta_day_norm</th>\n",
       "      <th>words</th>\n",
       "      <th>review_mood</th>\n",
       "      <th>all_reviews</th>\n",
       "      <th>notoriety</th>\n",
       "      <th>city_count_rest</th>\n",
       "      <th>abs_rank</th>\n",
       "      <th>rank_norm</th>\n",
       "      <th>num_rev_norm</th>\n",
       "      <th>id_ta_norm</th>\n",
       "      <th>price</th>\n",
       "      <th>price_city</th>\n",
       "      <th>vegan</th>\n",
       "      <th>cuis_count_norm</th>\n",
       "      <th>review_mood_norm</th>\n",
       "      <th>price_norm</th>\n",
       "      <th>city_up</th>\n",
       "    </tr>\n",
       "  </thead>\n",
       "  <tbody>\n",
       "    <tr>\n",
       "      <th>0</th>\n",
       "      <td>Paris</td>\n",
       "      <td>['European', 'French', 'International']</td>\n",
       "      <td>5570.0</td>\n",
       "      <td>3.5</td>\n",
       "      <td>$$ - $$$</td>\n",
       "      <td>194.0</td>\n",
       "      <td>[['Good food at your doorstep', 'A good hotel ...</td>\n",
       "      <td>1912643</td>\n",
       "      <td>France</td>\n",
       "      <td>Good food at your doorstep</td>\n",
       "      <td>2017-12-31</td>\n",
       "      <td>A good hotel restauran</td>\n",
       "      <td>2017-11-20</td>\n",
       "      <td>3</td>\n",
       "      <td>1</td>\n",
       "      <td>41.0</td>\n",
       "      <td>0.037477</td>\n",
       "      <td>[Good, food, at, your, doorstep, A, good, hote...</td>\n",
       "      <td>2</td>\n",
       "      <td>472282.0</td>\n",
       "      <td>0.000411</td>\n",
       "      <td>17902</td>\n",
       "      <td>0.311138</td>\n",
       "      <td>0.338685</td>\n",
       "      <td>0.194194</td>\n",
       "      <td>0.096073</td>\n",
       "      <td>2</td>\n",
       "      <td>1.925678</td>\n",
       "      <td>0</td>\n",
       "      <td>0.2</td>\n",
       "      <td>0.285714</td>\n",
       "      <td>0.5</td>\n",
       "      <td>Paris</td>\n",
       "    </tr>\n",
       "    <tr>\n",
       "      <th>1</th>\n",
       "      <td>Stockholm</td>\n",
       "      <td>none_cuisin</td>\n",
       "      <td>1537.0</td>\n",
       "      <td>4.0</td>\n",
       "      <td>$$ - $$$</td>\n",
       "      <td>10.0</td>\n",
       "      <td>[['Unique cuisine', 'Delicious Nepalese food']...</td>\n",
       "      <td>7992032</td>\n",
       "      <td>Sweden</td>\n",
       "      <td>Unique cuisine</td>\n",
       "      <td>2017-07-06</td>\n",
       "      <td>Delicious Nepalese foo</td>\n",
       "      <td>2016-06-19</td>\n",
       "      <td>1</td>\n",
       "      <td>0</td>\n",
       "      <td>382.0</td>\n",
       "      <td>0.349177</td>\n",
       "      <td>[Unique, cuisine, Delicious, Nepalese, food, 0...</td>\n",
       "      <td>1</td>\n",
       "      <td>49107.0</td>\n",
       "      <td>0.000204</td>\n",
       "      <td>3219</td>\n",
       "      <td>0.477477</td>\n",
       "      <td>0.093414</td>\n",
       "      <td>0.010010</td>\n",
       "      <td>0.570024</td>\n",
       "      <td>2</td>\n",
       "      <td>1.965217</td>\n",
       "      <td>0</td>\n",
       "      <td>0.0</td>\n",
       "      <td>0.142857</td>\n",
       "      <td>0.5</td>\n",
       "      <td>Stockholm</td>\n",
       "    </tr>\n",
       "    <tr>\n",
       "      <th>2</th>\n",
       "      <td>London</td>\n",
       "      <td>['Japanese', 'Sushi', 'Asian', 'Grill', 'Veget...</td>\n",
       "      <td>353.0</td>\n",
       "      <td>4.5</td>\n",
       "      <td>$$$$</td>\n",
       "      <td>688.0</td>\n",
       "      <td>[['Catch up with friends', 'Not exceptional'],...</td>\n",
       "      <td>8632781</td>\n",
       "      <td>United Kingdom</td>\n",
       "      <td>Catch up with friends</td>\n",
       "      <td>2018-01-08</td>\n",
       "      <td>Not exceptiona</td>\n",
       "      <td>2018-01-06</td>\n",
       "      <td>7</td>\n",
       "      <td>1</td>\n",
       "      <td>2.0</td>\n",
       "      <td>0.001828</td>\n",
       "      <td>[Catch, up, with, friends, Not, exceptional, 0...</td>\n",
       "      <td>0</td>\n",
       "      <td>541240.0</td>\n",
       "      <td>0.001271</td>\n",
       "      <td>22793</td>\n",
       "      <td>0.015487</td>\n",
       "      <td>0.021407</td>\n",
       "      <td>0.688689</td>\n",
       "      <td>0.619977</td>\n",
       "      <td>3</td>\n",
       "      <td>1.849369</td>\n",
       "      <td>1</td>\n",
       "      <td>0.6</td>\n",
       "      <td>0.000000</td>\n",
       "      <td>1.0</td>\n",
       "      <td>London</td>\n",
       "    </tr>\n",
       "    <tr>\n",
       "      <th>3</th>\n",
       "      <td>Berlin</td>\n",
       "      <td>none_cuisin</td>\n",
       "      <td>3458.0</td>\n",
       "      <td>5.0</td>\n",
       "      <td>$$ - $$$</td>\n",
       "      <td>3.0</td>\n",
       "      <td>[[], []]</td>\n",
       "      <td>1358776</td>\n",
       "      <td>Germany</td>\n",
       "      <td>NaN</td>\n",
       "      <td>NaT</td>\n",
       "      <td>NaN</td>\n",
       "      <td>NaT</td>\n",
       "      <td>1</td>\n",
       "      <td>0</td>\n",
       "      <td>0.0</td>\n",
       "      <td>0.000000</td>\n",
       "      <td>[]</td>\n",
       "      <td>0</td>\n",
       "      <td>100824.0</td>\n",
       "      <td>0.000030</td>\n",
       "      <td>7650</td>\n",
       "      <td>0.452026</td>\n",
       "      <td>0.210241</td>\n",
       "      <td>0.003003</td>\n",
       "      <td>0.052893</td>\n",
       "      <td>2</td>\n",
       "      <td>1.867933</td>\n",
       "      <td>0</td>\n",
       "      <td>0.0</td>\n",
       "      <td>0.000000</td>\n",
       "      <td>0.5</td>\n",
       "      <td>Berlin</td>\n",
       "    </tr>\n",
       "    <tr>\n",
       "      <th>4</th>\n",
       "      <td>Munich</td>\n",
       "      <td>['German', 'Central European', 'Vegetarian Fri...</td>\n",
       "      <td>621.0</td>\n",
       "      <td>4.0</td>\n",
       "      <td>$$ - $$$</td>\n",
       "      <td>84.0</td>\n",
       "      <td>[['Best place to try a Bavarian food', 'Nice b...</td>\n",
       "      <td>6864963</td>\n",
       "      <td>Germany</td>\n",
       "      <td>Best place to try a Bavarian food</td>\n",
       "      <td>2017-11-18</td>\n",
       "      <td>Nice building but improvements need to be..</td>\n",
       "      <td>2017-02-19</td>\n",
       "      <td>3</td>\n",
       "      <td>1</td>\n",
       "      <td>272.0</td>\n",
       "      <td>0.248629</td>\n",
       "      <td>[Best, place, to, try, a, Bavarian, food, Nice...</td>\n",
       "      <td>2</td>\n",
       "      <td>53068.0</td>\n",
       "      <td>0.001583</td>\n",
       "      <td>3488</td>\n",
       "      <td>0.178039</td>\n",
       "      <td>0.037706</td>\n",
       "      <td>0.084084</td>\n",
       "      <td>0.482157</td>\n",
       "      <td>2</td>\n",
       "      <td>1.945205</td>\n",
       "      <td>1</td>\n",
       "      <td>0.2</td>\n",
       "      <td>0.285714</td>\n",
       "      <td>0.5</td>\n",
       "      <td>Munich</td>\n",
       "    </tr>\n",
       "    <tr>\n",
       "      <th>...</th>\n",
       "      <td>...</td>\n",
       "      <td>...</td>\n",
       "      <td>...</td>\n",
       "      <td>...</td>\n",
       "      <td>...</td>\n",
       "      <td>...</td>\n",
       "      <td>...</td>\n",
       "      <td>...</td>\n",
       "      <td>...</td>\n",
       "      <td>...</td>\n",
       "      <td>...</td>\n",
       "      <td>...</td>\n",
       "      <td>...</td>\n",
       "      <td>...</td>\n",
       "      <td>...</td>\n",
       "      <td>...</td>\n",
       "      <td>...</td>\n",
       "      <td>...</td>\n",
       "      <td>...</td>\n",
       "      <td>...</td>\n",
       "      <td>...</td>\n",
       "      <td>...</td>\n",
       "      <td>...</td>\n",
       "      <td>...</td>\n",
       "      <td>...</td>\n",
       "      <td>...</td>\n",
       "      <td>...</td>\n",
       "      <td>...</td>\n",
       "      <td>...</td>\n",
       "      <td>...</td>\n",
       "      <td>...</td>\n",
       "      <td>...</td>\n",
       "      <td>...</td>\n",
       "    </tr>\n",
       "    <tr>\n",
       "      <th>39993</th>\n",
       "      <td>Paris</td>\n",
       "      <td>none_cuisin</td>\n",
       "      <td>6058.0</td>\n",
       "      <td>4.0</td>\n",
       "      <td>$$ - $$$</td>\n",
       "      <td>16.0</td>\n",
       "      <td>[['Naught but VERY nice', 'Yum'], ['01/23/2017...</td>\n",
       "      <td>10532509</td>\n",
       "      <td>France</td>\n",
       "      <td>Naught but VERY nice</td>\n",
       "      <td>2017-01-23</td>\n",
       "      <td>Yu</td>\n",
       "      <td>2017-12-31</td>\n",
       "      <td>1</td>\n",
       "      <td>0</td>\n",
       "      <td>342.0</td>\n",
       "      <td>0.312614</td>\n",
       "      <td>[Naught, but, VERY, nice, Yum, 01, 23, 2017, 1...</td>\n",
       "      <td>1</td>\n",
       "      <td>472282.0</td>\n",
       "      <td>0.000034</td>\n",
       "      <td>17902</td>\n",
       "      <td>0.338398</td>\n",
       "      <td>0.368363</td>\n",
       "      <td>0.016016</td>\n",
       "      <td>0.768081</td>\n",
       "      <td>2</td>\n",
       "      <td>1.925678</td>\n",
       "      <td>0</td>\n",
       "      <td>0.0</td>\n",
       "      <td>0.142857</td>\n",
       "      <td>0.5</td>\n",
       "      <td>Paris</td>\n",
       "    </tr>\n",
       "    <tr>\n",
       "      <th>39994</th>\n",
       "      <td>Paris</td>\n",
       "      <td>['French', 'Fast Food', 'Mediterranean', 'Heal...</td>\n",
       "      <td>7075.0</td>\n",
       "      <td>4.5</td>\n",
       "      <td>$$ - $$$</td>\n",
       "      <td>6.0</td>\n",
       "      <td>[[], []]</td>\n",
       "      <td>12621988</td>\n",
       "      <td>France</td>\n",
       "      <td>NaN</td>\n",
       "      <td>NaT</td>\n",
       "      <td>NaN</td>\n",
       "      <td>NaT</td>\n",
       "      <td>4</td>\n",
       "      <td>1</td>\n",
       "      <td>0.0</td>\n",
       "      <td>0.000000</td>\n",
       "      <td>[]</td>\n",
       "      <td>0</td>\n",
       "      <td>472282.0</td>\n",
       "      <td>0.000013</td>\n",
       "      <td>17902</td>\n",
       "      <td>0.395207</td>\n",
       "      <td>0.430213</td>\n",
       "      <td>0.006006</td>\n",
       "      <td>0.930977</td>\n",
       "      <td>2</td>\n",
       "      <td>1.925678</td>\n",
       "      <td>0</td>\n",
       "      <td>0.3</td>\n",
       "      <td>0.000000</td>\n",
       "      <td>0.5</td>\n",
       "      <td>Paris</td>\n",
       "    </tr>\n",
       "    <tr>\n",
       "      <th>39995</th>\n",
       "      <td>Milan</td>\n",
       "      <td>['Italian', 'Vegetarian Friendly', 'Vegan Opti...</td>\n",
       "      <td>500.0</td>\n",
       "      <td>4.5</td>\n",
       "      <td>$$ - $$$</td>\n",
       "      <td>79.0</td>\n",
       "      <td>[['The real Italian experience!', 'Wonderful f...</td>\n",
       "      <td>2104414</td>\n",
       "      <td>Italy</td>\n",
       "      <td>The real Italian experience!</td>\n",
       "      <td>2017-12-16</td>\n",
       "      <td>Wonderful food, wonderful experienc</td>\n",
       "      <td>2017-11-12</td>\n",
       "      <td>4</td>\n",
       "      <td>1</td>\n",
       "      <td>34.0</td>\n",
       "      <td>0.031079</td>\n",
       "      <td>[The, real, Italian, experience, Wonderful, fo...</td>\n",
       "      <td>2</td>\n",
       "      <td>266189.0</td>\n",
       "      <td>0.000297</td>\n",
       "      <td>8224</td>\n",
       "      <td>0.060798</td>\n",
       "      <td>0.030347</td>\n",
       "      <td>0.079079</td>\n",
       "      <td>0.111023</td>\n",
       "      <td>2</td>\n",
       "      <td>1.835915</td>\n",
       "      <td>1</td>\n",
       "      <td>0.3</td>\n",
       "      <td>0.285714</td>\n",
       "      <td>0.5</td>\n",
       "      <td>Milan</td>\n",
       "    </tr>\n",
       "    <tr>\n",
       "      <th>39996</th>\n",
       "      <td>Paris</td>\n",
       "      <td>['French', 'American', 'Bar', 'European', 'Veg...</td>\n",
       "      <td>6341.0</td>\n",
       "      <td>3.5</td>\n",
       "      <td>$$ - $$$</td>\n",
       "      <td>542.0</td>\n",
       "      <td>[['Parisian atmosphere', 'Bit pricey but inter...</td>\n",
       "      <td>1800036</td>\n",
       "      <td>France</td>\n",
       "      <td>Parisian atmosphere</td>\n",
       "      <td>2017-12-21</td>\n",
       "      <td>Bit pricey but interesting decor and good..</td>\n",
       "      <td>2017-12-12</td>\n",
       "      <td>5</td>\n",
       "      <td>1</td>\n",
       "      <td>9.0</td>\n",
       "      <td>0.008227</td>\n",
       "      <td>[Parisian, atmosphere, Bit, pricey, but, inter...</td>\n",
       "      <td>2</td>\n",
       "      <td>472282.0</td>\n",
       "      <td>0.001148</td>\n",
       "      <td>17902</td>\n",
       "      <td>0.354206</td>\n",
       "      <td>0.385574</td>\n",
       "      <td>0.542543</td>\n",
       "      <td>0.087294</td>\n",
       "      <td>2</td>\n",
       "      <td>1.925678</td>\n",
       "      <td>1</td>\n",
       "      <td>0.4</td>\n",
       "      <td>0.285714</td>\n",
       "      <td>0.5</td>\n",
       "      <td>Paris</td>\n",
       "    </tr>\n",
       "    <tr>\n",
       "      <th>39998</th>\n",
       "      <td>Warsaw</td>\n",
       "      <td>['Polish', 'European', 'Eastern European', 'Ce...</td>\n",
       "      <td>641.0</td>\n",
       "      <td>4.0</td>\n",
       "      <td>$$ - $$$</td>\n",
       "      <td>70.0</td>\n",
       "      <td>[['Underground restaurant', 'Oldest Restaurant...</td>\n",
       "      <td>1100838</td>\n",
       "      <td>Poland</td>\n",
       "      <td>Underground restaurant</td>\n",
       "      <td>2017-07-11</td>\n",
       "      <td>Oldest Restaurant in Warsa</td>\n",
       "      <td>2017-06-18</td>\n",
       "      <td>5</td>\n",
       "      <td>1</td>\n",
       "      <td>23.0</td>\n",
       "      <td>0.021024</td>\n",
       "      <td>[Underground, restaurant, Oldest, Restaurant, ...</td>\n",
       "      <td>0</td>\n",
       "      <td>35280.0</td>\n",
       "      <td>0.001984</td>\n",
       "      <td>3396</td>\n",
       "      <td>0.188751</td>\n",
       "      <td>0.038922</td>\n",
       "      <td>0.070070</td>\n",
       "      <td>0.032784</td>\n",
       "      <td>2</td>\n",
       "      <td>1.884562</td>\n",
       "      <td>1</td>\n",
       "      <td>0.4</td>\n",
       "      <td>0.000000</td>\n",
       "      <td>0.5</td>\n",
       "      <td>Warsaw</td>\n",
       "    </tr>\n",
       "  </tbody>\n",
       "</table>\n",
       "<p>39023 rows × 33 columns</p>\n",
       "</div>"
      ],
      "text/plain": [
       "            city                                           cuisines  ranking  \\\n",
       "0          Paris            ['European', 'French', 'International']   5570.0   \n",
       "1      Stockholm                                        none_cuisin   1537.0   \n",
       "2         London  ['Japanese', 'Sushi', 'Asian', 'Grill', 'Veget...    353.0   \n",
       "3         Berlin                                        none_cuisin   3458.0   \n",
       "4         Munich  ['German', 'Central European', 'Vegetarian Fri...    621.0   \n",
       "...          ...                                                ...      ...   \n",
       "39993      Paris                                        none_cuisin   6058.0   \n",
       "39994      Paris  ['French', 'Fast Food', 'Mediterranean', 'Heal...   7075.0   \n",
       "39995      Milan  ['Italian', 'Vegetarian Friendly', 'Vegan Opti...    500.0   \n",
       "39996      Paris  ['French', 'American', 'Bar', 'European', 'Veg...   6341.0   \n",
       "39998     Warsaw  ['Polish', 'European', 'Eastern European', 'Ce...    641.0   \n",
       "\n",
       "       rating price_range  number_reviews  \\\n",
       "0         3.5    $$ - $$$           194.0   \n",
       "1         4.0    $$ - $$$            10.0   \n",
       "2         4.5        $$$$           688.0   \n",
       "3         5.0    $$ - $$$             3.0   \n",
       "4         4.0    $$ - $$$            84.0   \n",
       "...       ...         ...             ...   \n",
       "39993     4.0    $$ - $$$            16.0   \n",
       "39994     4.5    $$ - $$$             6.0   \n",
       "39995     4.5    $$ - $$$            79.0   \n",
       "39996     3.5    $$ - $$$           542.0   \n",
       "39998     4.0    $$ - $$$            70.0   \n",
       "\n",
       "                                                 reviews     id_ta  \\\n",
       "0      [['Good food at your doorstep', 'A good hotel ...   1912643   \n",
       "1      [['Unique cuisine', 'Delicious Nepalese food']...   7992032   \n",
       "2      [['Catch up with friends', 'Not exceptional'],...   8632781   \n",
       "3                                               [[], []]   1358776   \n",
       "4      [['Best place to try a Bavarian food', 'Nice b...   6864963   \n",
       "...                                                  ...       ...   \n",
       "39993  [['Naught but VERY nice', 'Yum'], ['01/23/2017...  10532509   \n",
       "39994                                           [[], []]  12621988   \n",
       "39995  [['The real Italian experience!', 'Wonderful f...   2104414   \n",
       "39996  [['Parisian atmosphere', 'Bit pricey but inter...   1800036   \n",
       "39998  [['Underground restaurant', 'Oldest Restaurant...   1100838   \n",
       "\n",
       "              country                           review_1     date_1  \\\n",
       "0              France         Good food at your doorstep 2017-12-31   \n",
       "1              Sweden                     Unique cuisine 2017-07-06   \n",
       "2      United Kingdom              Catch up with friends 2018-01-08   \n",
       "3             Germany                                NaN        NaT   \n",
       "4             Germany  Best place to try a Bavarian food 2017-11-18   \n",
       "...               ...                                ...        ...   \n",
       "39993          France               Naught but VERY nice 2017-01-23   \n",
       "39994          France                                NaN        NaT   \n",
       "39995           Italy       The real Italian experience! 2017-12-16   \n",
       "39996          France                Parisian atmosphere 2017-12-21   \n",
       "39998          Poland             Underground restaurant 2017-07-11   \n",
       "\n",
       "                                          review_2     date_2  cuisin_count  \\\n",
       "0                           A good hotel restauran 2017-11-20             3   \n",
       "1                           Delicious Nepalese foo 2016-06-19             1   \n",
       "2                                   Not exceptiona 2018-01-06             7   \n",
       "3                                              NaN        NaT             1   \n",
       "4      Nice building but improvements need to be.. 2017-02-19             3   \n",
       "...                                            ...        ...           ...   \n",
       "39993                                           Yu 2017-12-31             1   \n",
       "39994                                          NaN        NaT             4   \n",
       "39995          Wonderful food, wonderful experienc 2017-11-12             4   \n",
       "39996  Bit pricey but interesting decor and good.. 2017-12-12             5   \n",
       "39998                   Oldest Restaurant in Warsa 2017-06-18             5   \n",
       "\n",
       "       top_cuisines  delta_day  delta_day_norm  \\\n",
       "0                 1       41.0        0.037477   \n",
       "1                 0      382.0        0.349177   \n",
       "2                 1        2.0        0.001828   \n",
       "3                 0        0.0        0.000000   \n",
       "4                 1      272.0        0.248629   \n",
       "...             ...        ...             ...   \n",
       "39993             0      342.0        0.312614   \n",
       "39994             1        0.0        0.000000   \n",
       "39995             1       34.0        0.031079   \n",
       "39996             1        9.0        0.008227   \n",
       "39998             1       23.0        0.021024   \n",
       "\n",
       "                                                   words  review_mood  \\\n",
       "0      [Good, food, at, your, doorstep, A, good, hote...            2   \n",
       "1      [Unique, cuisine, Delicious, Nepalese, food, 0...            1   \n",
       "2      [Catch, up, with, friends, Not, exceptional, 0...            0   \n",
       "3                                                     []            0   \n",
       "4      [Best, place, to, try, a, Bavarian, food, Nice...            2   \n",
       "...                                                  ...          ...   \n",
       "39993  [Naught, but, VERY, nice, Yum, 01, 23, 2017, 1...            1   \n",
       "39994                                                 []            0   \n",
       "39995  [The, real, Italian, experience, Wonderful, fo...            2   \n",
       "39996  [Parisian, atmosphere, Bit, pricey, but, inter...            2   \n",
       "39998  [Underground, restaurant, Oldest, Restaurant, ...            0   \n",
       "\n",
       "       all_reviews  notoriety  city_count_rest  abs_rank  rank_norm  \\\n",
       "0         472282.0   0.000411            17902  0.311138   0.338685   \n",
       "1          49107.0   0.000204             3219  0.477477   0.093414   \n",
       "2         541240.0   0.001271            22793  0.015487   0.021407   \n",
       "3         100824.0   0.000030             7650  0.452026   0.210241   \n",
       "4          53068.0   0.001583             3488  0.178039   0.037706   \n",
       "...            ...        ...              ...       ...        ...   \n",
       "39993     472282.0   0.000034            17902  0.338398   0.368363   \n",
       "39994     472282.0   0.000013            17902  0.395207   0.430213   \n",
       "39995     266189.0   0.000297             8224  0.060798   0.030347   \n",
       "39996     472282.0   0.001148            17902  0.354206   0.385574   \n",
       "39998      35280.0   0.001984             3396  0.188751   0.038922   \n",
       "\n",
       "       num_rev_norm  id_ta_norm  price  price_city  vegan  cuis_count_norm  \\\n",
       "0          0.194194    0.096073      2    1.925678      0              0.2   \n",
       "1          0.010010    0.570024      2    1.965217      0              0.0   \n",
       "2          0.688689    0.619977      3    1.849369      1              0.6   \n",
       "3          0.003003    0.052893      2    1.867933      0              0.0   \n",
       "4          0.084084    0.482157      2    1.945205      1              0.2   \n",
       "...             ...         ...    ...         ...    ...              ...   \n",
       "39993      0.016016    0.768081      2    1.925678      0              0.0   \n",
       "39994      0.006006    0.930977      2    1.925678      0              0.3   \n",
       "39995      0.079079    0.111023      2    1.835915      1              0.3   \n",
       "39996      0.542543    0.087294      2    1.925678      1              0.4   \n",
       "39998      0.070070    0.032784      2    1.884562      1              0.4   \n",
       "\n",
       "       review_mood_norm  price_norm    city_up  \n",
       "0              0.285714         0.5      Paris  \n",
       "1              0.142857         0.5  Stockholm  \n",
       "2              0.000000         1.0     London  \n",
       "3              0.000000         0.5     Berlin  \n",
       "4              0.285714         0.5     Munich  \n",
       "...                 ...         ...        ...  \n",
       "39993          0.142857         0.5      Paris  \n",
       "39994          0.000000         0.5      Paris  \n",
       "39995          0.285714         0.5      Milan  \n",
       "39996          0.285714         0.5      Paris  \n",
       "39998          0.000000         0.5     Warsaw  \n",
       "\n",
       "[39023 rows x 33 columns]"
      ]
     },
     "execution_count": 240,
     "metadata": {},
     "output_type": "execute_result"
    }
   ],
   "source": [
    "df"
   ]
  },
  {
   "cell_type": "code",
   "execution_count": 242,
   "metadata": {
    "ExecuteTime": {
     "end_time": "2020-09-13T08:43:27.419291Z",
     "start_time": "2020-09-13T08:43:27.318796Z"
    }
   },
   "outputs": [],
   "source": [
    "df = pd.get_dummies(df, columns=['city_up', ], dummy_na=True)"
   ]
  },
  {
   "cell_type": "code",
   "execution_count": 243,
   "metadata": {
    "ExecuteTime": {
     "end_time": "2020-09-13T08:43:42.661538Z",
     "start_time": "2020-09-13T08:43:42.633163Z"
    }
   },
   "outputs": [],
   "source": [
    "df.drop(['cuisines', 'ranking', 'price_range', 'number_reviews',\n",
    "          'reviews', 'id_ta', 'country','review_1', 'date_1', 'review_2',\n",
    "          'date_2', 'delta_day', 'words', 'all_reviews', 'cuisin_count',\n",
    "          'review_mood', 'price', 'city_count_rest', 'city'], axis=1, inplace=True)"
   ]
  },
  {
   "cell_type": "code",
   "execution_count": 244,
   "metadata": {
    "ExecuteTime": {
     "end_time": "2020-09-13T08:43:44.028901Z",
     "start_time": "2020-09-13T08:43:43.994500Z"
    }
   },
   "outputs": [
    {
     "data": {
      "text/html": [
       "<div>\n",
       "<style scoped>\n",
       "    .dataframe tbody tr th:only-of-type {\n",
       "        vertical-align: middle;\n",
       "    }\n",
       "\n",
       "    .dataframe tbody tr th {\n",
       "        vertical-align: top;\n",
       "    }\n",
       "\n",
       "    .dataframe thead th {\n",
       "        text-align: right;\n",
       "    }\n",
       "</style>\n",
       "<table border=\"1\" class=\"dataframe\">\n",
       "  <thead>\n",
       "    <tr style=\"text-align: right;\">\n",
       "      <th></th>\n",
       "      <th>rating</th>\n",
       "      <th>top_cuisines</th>\n",
       "      <th>delta_day_norm</th>\n",
       "      <th>notoriety</th>\n",
       "      <th>abs_rank</th>\n",
       "      <th>rank_norm</th>\n",
       "      <th>num_rev_norm</th>\n",
       "      <th>id_ta_norm</th>\n",
       "      <th>price_city</th>\n",
       "      <th>vegan</th>\n",
       "      <th>cuis_count_norm</th>\n",
       "      <th>review_mood_norm</th>\n",
       "      <th>price_norm</th>\n",
       "      <th>city_up_Amsterdam</th>\n",
       "      <th>city_up_Athens</th>\n",
       "      <th>city_up_Barcelona</th>\n",
       "      <th>city_up_Berlin</th>\n",
       "      <th>city_up_Brussels</th>\n",
       "      <th>city_up_Budapest</th>\n",
       "      <th>city_up_Copenhagen</th>\n",
       "      <th>city_up_Dublin</th>\n",
       "      <th>city_up_Edinburgh</th>\n",
       "      <th>city_up_Hamburg</th>\n",
       "      <th>city_up_Lisbon</th>\n",
       "      <th>city_up_London</th>\n",
       "      <th>city_up_Lyon</th>\n",
       "      <th>city_up_Madrid</th>\n",
       "      <th>city_up_Milan</th>\n",
       "      <th>city_up_Munich</th>\n",
       "      <th>city_up_Paris</th>\n",
       "      <th>city_up_Prague</th>\n",
       "      <th>city_up_Rome</th>\n",
       "      <th>city_up_Stockholm</th>\n",
       "      <th>city_up_Vienna</th>\n",
       "      <th>city_up_Warsaw</th>\n",
       "      <th>city_up_other</th>\n",
       "      <th>city_up_nan</th>\n",
       "    </tr>\n",
       "  </thead>\n",
       "  <tbody>\n",
       "    <tr>\n",
       "      <th>0</th>\n",
       "      <td>3.5</td>\n",
       "      <td>1</td>\n",
       "      <td>0.037477</td>\n",
       "      <td>0.000411</td>\n",
       "      <td>0.311138</td>\n",
       "      <td>0.338685</td>\n",
       "      <td>0.194194</td>\n",
       "      <td>0.096073</td>\n",
       "      <td>1.925678</td>\n",
       "      <td>0</td>\n",
       "      <td>0.2</td>\n",
       "      <td>0.285714</td>\n",
       "      <td>0.5</td>\n",
       "      <td>0</td>\n",
       "      <td>0</td>\n",
       "      <td>0</td>\n",
       "      <td>0</td>\n",
       "      <td>0</td>\n",
       "      <td>0</td>\n",
       "      <td>0</td>\n",
       "      <td>0</td>\n",
       "      <td>0</td>\n",
       "      <td>0</td>\n",
       "      <td>0</td>\n",
       "      <td>0</td>\n",
       "      <td>0</td>\n",
       "      <td>0</td>\n",
       "      <td>0</td>\n",
       "      <td>0</td>\n",
       "      <td>1</td>\n",
       "      <td>0</td>\n",
       "      <td>0</td>\n",
       "      <td>0</td>\n",
       "      <td>0</td>\n",
       "      <td>0</td>\n",
       "      <td>0</td>\n",
       "      <td>0</td>\n",
       "    </tr>\n",
       "    <tr>\n",
       "      <th>1</th>\n",
       "      <td>4.0</td>\n",
       "      <td>0</td>\n",
       "      <td>0.349177</td>\n",
       "      <td>0.000204</td>\n",
       "      <td>0.477477</td>\n",
       "      <td>0.093414</td>\n",
       "      <td>0.010010</td>\n",
       "      <td>0.570024</td>\n",
       "      <td>1.965217</td>\n",
       "      <td>0</td>\n",
       "      <td>0.0</td>\n",
       "      <td>0.142857</td>\n",
       "      <td>0.5</td>\n",
       "      <td>0</td>\n",
       "      <td>0</td>\n",
       "      <td>0</td>\n",
       "      <td>0</td>\n",
       "      <td>0</td>\n",
       "      <td>0</td>\n",
       "      <td>0</td>\n",
       "      <td>0</td>\n",
       "      <td>0</td>\n",
       "      <td>0</td>\n",
       "      <td>0</td>\n",
       "      <td>0</td>\n",
       "      <td>0</td>\n",
       "      <td>0</td>\n",
       "      <td>0</td>\n",
       "      <td>0</td>\n",
       "      <td>0</td>\n",
       "      <td>0</td>\n",
       "      <td>0</td>\n",
       "      <td>1</td>\n",
       "      <td>0</td>\n",
       "      <td>0</td>\n",
       "      <td>0</td>\n",
       "      <td>0</td>\n",
       "    </tr>\n",
       "    <tr>\n",
       "      <th>2</th>\n",
       "      <td>4.5</td>\n",
       "      <td>1</td>\n",
       "      <td>0.001828</td>\n",
       "      <td>0.001271</td>\n",
       "      <td>0.015487</td>\n",
       "      <td>0.021407</td>\n",
       "      <td>0.688689</td>\n",
       "      <td>0.619977</td>\n",
       "      <td>1.849369</td>\n",
       "      <td>1</td>\n",
       "      <td>0.6</td>\n",
       "      <td>0.000000</td>\n",
       "      <td>1.0</td>\n",
       "      <td>0</td>\n",
       "      <td>0</td>\n",
       "      <td>0</td>\n",
       "      <td>0</td>\n",
       "      <td>0</td>\n",
       "      <td>0</td>\n",
       "      <td>0</td>\n",
       "      <td>0</td>\n",
       "      <td>0</td>\n",
       "      <td>0</td>\n",
       "      <td>0</td>\n",
       "      <td>1</td>\n",
       "      <td>0</td>\n",
       "      <td>0</td>\n",
       "      <td>0</td>\n",
       "      <td>0</td>\n",
       "      <td>0</td>\n",
       "      <td>0</td>\n",
       "      <td>0</td>\n",
       "      <td>0</td>\n",
       "      <td>0</td>\n",
       "      <td>0</td>\n",
       "      <td>0</td>\n",
       "      <td>0</td>\n",
       "    </tr>\n",
       "    <tr>\n",
       "      <th>3</th>\n",
       "      <td>5.0</td>\n",
       "      <td>0</td>\n",
       "      <td>0.000000</td>\n",
       "      <td>0.000030</td>\n",
       "      <td>0.452026</td>\n",
       "      <td>0.210241</td>\n",
       "      <td>0.003003</td>\n",
       "      <td>0.052893</td>\n",
       "      <td>1.867933</td>\n",
       "      <td>0</td>\n",
       "      <td>0.0</td>\n",
       "      <td>0.000000</td>\n",
       "      <td>0.5</td>\n",
       "      <td>0</td>\n",
       "      <td>0</td>\n",
       "      <td>0</td>\n",
       "      <td>1</td>\n",
       "      <td>0</td>\n",
       "      <td>0</td>\n",
       "      <td>0</td>\n",
       "      <td>0</td>\n",
       "      <td>0</td>\n",
       "      <td>0</td>\n",
       "      <td>0</td>\n",
       "      <td>0</td>\n",
       "      <td>0</td>\n",
       "      <td>0</td>\n",
       "      <td>0</td>\n",
       "      <td>0</td>\n",
       "      <td>0</td>\n",
       "      <td>0</td>\n",
       "      <td>0</td>\n",
       "      <td>0</td>\n",
       "      <td>0</td>\n",
       "      <td>0</td>\n",
       "      <td>0</td>\n",
       "      <td>0</td>\n",
       "    </tr>\n",
       "    <tr>\n",
       "      <th>4</th>\n",
       "      <td>4.0</td>\n",
       "      <td>1</td>\n",
       "      <td>0.248629</td>\n",
       "      <td>0.001583</td>\n",
       "      <td>0.178039</td>\n",
       "      <td>0.037706</td>\n",
       "      <td>0.084084</td>\n",
       "      <td>0.482157</td>\n",
       "      <td>1.945205</td>\n",
       "      <td>1</td>\n",
       "      <td>0.2</td>\n",
       "      <td>0.285714</td>\n",
       "      <td>0.5</td>\n",
       "      <td>0</td>\n",
       "      <td>0</td>\n",
       "      <td>0</td>\n",
       "      <td>0</td>\n",
       "      <td>0</td>\n",
       "      <td>0</td>\n",
       "      <td>0</td>\n",
       "      <td>0</td>\n",
       "      <td>0</td>\n",
       "      <td>0</td>\n",
       "      <td>0</td>\n",
       "      <td>0</td>\n",
       "      <td>0</td>\n",
       "      <td>0</td>\n",
       "      <td>0</td>\n",
       "      <td>1</td>\n",
       "      <td>0</td>\n",
       "      <td>0</td>\n",
       "      <td>0</td>\n",
       "      <td>0</td>\n",
       "      <td>0</td>\n",
       "      <td>0</td>\n",
       "      <td>0</td>\n",
       "      <td>0</td>\n",
       "    </tr>\n",
       "    <tr>\n",
       "      <th>...</th>\n",
       "      <td>...</td>\n",
       "      <td>...</td>\n",
       "      <td>...</td>\n",
       "      <td>...</td>\n",
       "      <td>...</td>\n",
       "      <td>...</td>\n",
       "      <td>...</td>\n",
       "      <td>...</td>\n",
       "      <td>...</td>\n",
       "      <td>...</td>\n",
       "      <td>...</td>\n",
       "      <td>...</td>\n",
       "      <td>...</td>\n",
       "      <td>...</td>\n",
       "      <td>...</td>\n",
       "      <td>...</td>\n",
       "      <td>...</td>\n",
       "      <td>...</td>\n",
       "      <td>...</td>\n",
       "      <td>...</td>\n",
       "      <td>...</td>\n",
       "      <td>...</td>\n",
       "      <td>...</td>\n",
       "      <td>...</td>\n",
       "      <td>...</td>\n",
       "      <td>...</td>\n",
       "      <td>...</td>\n",
       "      <td>...</td>\n",
       "      <td>...</td>\n",
       "      <td>...</td>\n",
       "      <td>...</td>\n",
       "      <td>...</td>\n",
       "      <td>...</td>\n",
       "      <td>...</td>\n",
       "      <td>...</td>\n",
       "      <td>...</td>\n",
       "      <td>...</td>\n",
       "    </tr>\n",
       "    <tr>\n",
       "      <th>39993</th>\n",
       "      <td>4.0</td>\n",
       "      <td>0</td>\n",
       "      <td>0.312614</td>\n",
       "      <td>0.000034</td>\n",
       "      <td>0.338398</td>\n",
       "      <td>0.368363</td>\n",
       "      <td>0.016016</td>\n",
       "      <td>0.768081</td>\n",
       "      <td>1.925678</td>\n",
       "      <td>0</td>\n",
       "      <td>0.0</td>\n",
       "      <td>0.142857</td>\n",
       "      <td>0.5</td>\n",
       "      <td>0</td>\n",
       "      <td>0</td>\n",
       "      <td>0</td>\n",
       "      <td>0</td>\n",
       "      <td>0</td>\n",
       "      <td>0</td>\n",
       "      <td>0</td>\n",
       "      <td>0</td>\n",
       "      <td>0</td>\n",
       "      <td>0</td>\n",
       "      <td>0</td>\n",
       "      <td>0</td>\n",
       "      <td>0</td>\n",
       "      <td>0</td>\n",
       "      <td>0</td>\n",
       "      <td>0</td>\n",
       "      <td>1</td>\n",
       "      <td>0</td>\n",
       "      <td>0</td>\n",
       "      <td>0</td>\n",
       "      <td>0</td>\n",
       "      <td>0</td>\n",
       "      <td>0</td>\n",
       "      <td>0</td>\n",
       "    </tr>\n",
       "    <tr>\n",
       "      <th>39994</th>\n",
       "      <td>4.5</td>\n",
       "      <td>1</td>\n",
       "      <td>0.000000</td>\n",
       "      <td>0.000013</td>\n",
       "      <td>0.395207</td>\n",
       "      <td>0.430213</td>\n",
       "      <td>0.006006</td>\n",
       "      <td>0.930977</td>\n",
       "      <td>1.925678</td>\n",
       "      <td>0</td>\n",
       "      <td>0.3</td>\n",
       "      <td>0.000000</td>\n",
       "      <td>0.5</td>\n",
       "      <td>0</td>\n",
       "      <td>0</td>\n",
       "      <td>0</td>\n",
       "      <td>0</td>\n",
       "      <td>0</td>\n",
       "      <td>0</td>\n",
       "      <td>0</td>\n",
       "      <td>0</td>\n",
       "      <td>0</td>\n",
       "      <td>0</td>\n",
       "      <td>0</td>\n",
       "      <td>0</td>\n",
       "      <td>0</td>\n",
       "      <td>0</td>\n",
       "      <td>0</td>\n",
       "      <td>0</td>\n",
       "      <td>1</td>\n",
       "      <td>0</td>\n",
       "      <td>0</td>\n",
       "      <td>0</td>\n",
       "      <td>0</td>\n",
       "      <td>0</td>\n",
       "      <td>0</td>\n",
       "      <td>0</td>\n",
       "    </tr>\n",
       "    <tr>\n",
       "      <th>39995</th>\n",
       "      <td>4.5</td>\n",
       "      <td>1</td>\n",
       "      <td>0.031079</td>\n",
       "      <td>0.000297</td>\n",
       "      <td>0.060798</td>\n",
       "      <td>0.030347</td>\n",
       "      <td>0.079079</td>\n",
       "      <td>0.111023</td>\n",
       "      <td>1.835915</td>\n",
       "      <td>1</td>\n",
       "      <td>0.3</td>\n",
       "      <td>0.285714</td>\n",
       "      <td>0.5</td>\n",
       "      <td>0</td>\n",
       "      <td>0</td>\n",
       "      <td>0</td>\n",
       "      <td>0</td>\n",
       "      <td>0</td>\n",
       "      <td>0</td>\n",
       "      <td>0</td>\n",
       "      <td>0</td>\n",
       "      <td>0</td>\n",
       "      <td>0</td>\n",
       "      <td>0</td>\n",
       "      <td>0</td>\n",
       "      <td>0</td>\n",
       "      <td>0</td>\n",
       "      <td>1</td>\n",
       "      <td>0</td>\n",
       "      <td>0</td>\n",
       "      <td>0</td>\n",
       "      <td>0</td>\n",
       "      <td>0</td>\n",
       "      <td>0</td>\n",
       "      <td>0</td>\n",
       "      <td>0</td>\n",
       "      <td>0</td>\n",
       "    </tr>\n",
       "    <tr>\n",
       "      <th>39996</th>\n",
       "      <td>3.5</td>\n",
       "      <td>1</td>\n",
       "      <td>0.008227</td>\n",
       "      <td>0.001148</td>\n",
       "      <td>0.354206</td>\n",
       "      <td>0.385574</td>\n",
       "      <td>0.542543</td>\n",
       "      <td>0.087294</td>\n",
       "      <td>1.925678</td>\n",
       "      <td>1</td>\n",
       "      <td>0.4</td>\n",
       "      <td>0.285714</td>\n",
       "      <td>0.5</td>\n",
       "      <td>0</td>\n",
       "      <td>0</td>\n",
       "      <td>0</td>\n",
       "      <td>0</td>\n",
       "      <td>0</td>\n",
       "      <td>0</td>\n",
       "      <td>0</td>\n",
       "      <td>0</td>\n",
       "      <td>0</td>\n",
       "      <td>0</td>\n",
       "      <td>0</td>\n",
       "      <td>0</td>\n",
       "      <td>0</td>\n",
       "      <td>0</td>\n",
       "      <td>0</td>\n",
       "      <td>0</td>\n",
       "      <td>1</td>\n",
       "      <td>0</td>\n",
       "      <td>0</td>\n",
       "      <td>0</td>\n",
       "      <td>0</td>\n",
       "      <td>0</td>\n",
       "      <td>0</td>\n",
       "      <td>0</td>\n",
       "    </tr>\n",
       "    <tr>\n",
       "      <th>39998</th>\n",
       "      <td>4.0</td>\n",
       "      <td>1</td>\n",
       "      <td>0.021024</td>\n",
       "      <td>0.001984</td>\n",
       "      <td>0.188751</td>\n",
       "      <td>0.038922</td>\n",
       "      <td>0.070070</td>\n",
       "      <td>0.032784</td>\n",
       "      <td>1.884562</td>\n",
       "      <td>1</td>\n",
       "      <td>0.4</td>\n",
       "      <td>0.000000</td>\n",
       "      <td>0.5</td>\n",
       "      <td>0</td>\n",
       "      <td>0</td>\n",
       "      <td>0</td>\n",
       "      <td>0</td>\n",
       "      <td>0</td>\n",
       "      <td>0</td>\n",
       "      <td>0</td>\n",
       "      <td>0</td>\n",
       "      <td>0</td>\n",
       "      <td>0</td>\n",
       "      <td>0</td>\n",
       "      <td>0</td>\n",
       "      <td>0</td>\n",
       "      <td>0</td>\n",
       "      <td>0</td>\n",
       "      <td>0</td>\n",
       "      <td>0</td>\n",
       "      <td>0</td>\n",
       "      <td>0</td>\n",
       "      <td>0</td>\n",
       "      <td>0</td>\n",
       "      <td>1</td>\n",
       "      <td>0</td>\n",
       "      <td>0</td>\n",
       "    </tr>\n",
       "  </tbody>\n",
       "</table>\n",
       "<p>39023 rows × 37 columns</p>\n",
       "</div>"
      ],
      "text/plain": [
       "       rating  top_cuisines  delta_day_norm  notoriety  abs_rank  rank_norm  \\\n",
       "0         3.5             1        0.037477   0.000411  0.311138   0.338685   \n",
       "1         4.0             0        0.349177   0.000204  0.477477   0.093414   \n",
       "2         4.5             1        0.001828   0.001271  0.015487   0.021407   \n",
       "3         5.0             0        0.000000   0.000030  0.452026   0.210241   \n",
       "4         4.0             1        0.248629   0.001583  0.178039   0.037706   \n",
       "...       ...           ...             ...        ...       ...        ...   \n",
       "39993     4.0             0        0.312614   0.000034  0.338398   0.368363   \n",
       "39994     4.5             1        0.000000   0.000013  0.395207   0.430213   \n",
       "39995     4.5             1        0.031079   0.000297  0.060798   0.030347   \n",
       "39996     3.5             1        0.008227   0.001148  0.354206   0.385574   \n",
       "39998     4.0             1        0.021024   0.001984  0.188751   0.038922   \n",
       "\n",
       "       num_rev_norm  id_ta_norm  price_city  vegan  cuis_count_norm  \\\n",
       "0          0.194194    0.096073    1.925678      0              0.2   \n",
       "1          0.010010    0.570024    1.965217      0              0.0   \n",
       "2          0.688689    0.619977    1.849369      1              0.6   \n",
       "3          0.003003    0.052893    1.867933      0              0.0   \n",
       "4          0.084084    0.482157    1.945205      1              0.2   \n",
       "...             ...         ...         ...    ...              ...   \n",
       "39993      0.016016    0.768081    1.925678      0              0.0   \n",
       "39994      0.006006    0.930977    1.925678      0              0.3   \n",
       "39995      0.079079    0.111023    1.835915      1              0.3   \n",
       "39996      0.542543    0.087294    1.925678      1              0.4   \n",
       "39998      0.070070    0.032784    1.884562      1              0.4   \n",
       "\n",
       "       review_mood_norm  price_norm  city_up_Amsterdam  city_up_Athens  \\\n",
       "0              0.285714         0.5                  0               0   \n",
       "1              0.142857         0.5                  0               0   \n",
       "2              0.000000         1.0                  0               0   \n",
       "3              0.000000         0.5                  0               0   \n",
       "4              0.285714         0.5                  0               0   \n",
       "...                 ...         ...                ...             ...   \n",
       "39993          0.142857         0.5                  0               0   \n",
       "39994          0.000000         0.5                  0               0   \n",
       "39995          0.285714         0.5                  0               0   \n",
       "39996          0.285714         0.5                  0               0   \n",
       "39998          0.000000         0.5                  0               0   \n",
       "\n",
       "       city_up_Barcelona  city_up_Berlin  city_up_Brussels  city_up_Budapest  \\\n",
       "0                      0               0                 0                 0   \n",
       "1                      0               0                 0                 0   \n",
       "2                      0               0                 0                 0   \n",
       "3                      0               1                 0                 0   \n",
       "4                      0               0                 0                 0   \n",
       "...                  ...             ...               ...               ...   \n",
       "39993                  0               0                 0                 0   \n",
       "39994                  0               0                 0                 0   \n",
       "39995                  0               0                 0                 0   \n",
       "39996                  0               0                 0                 0   \n",
       "39998                  0               0                 0                 0   \n",
       "\n",
       "       city_up_Copenhagen  city_up_Dublin  city_up_Edinburgh  city_up_Hamburg  \\\n",
       "0                       0               0                  0                0   \n",
       "1                       0               0                  0                0   \n",
       "2                       0               0                  0                0   \n",
       "3                       0               0                  0                0   \n",
       "4                       0               0                  0                0   \n",
       "...                   ...             ...                ...              ...   \n",
       "39993                   0               0                  0                0   \n",
       "39994                   0               0                  0                0   \n",
       "39995                   0               0                  0                0   \n",
       "39996                   0               0                  0                0   \n",
       "39998                   0               0                  0                0   \n",
       "\n",
       "       city_up_Lisbon  city_up_London  city_up_Lyon  city_up_Madrid  \\\n",
       "0                   0               0             0               0   \n",
       "1                   0               0             0               0   \n",
       "2                   0               1             0               0   \n",
       "3                   0               0             0               0   \n",
       "4                   0               0             0               0   \n",
       "...               ...             ...           ...             ...   \n",
       "39993               0               0             0               0   \n",
       "39994               0               0             0               0   \n",
       "39995               0               0             0               0   \n",
       "39996               0               0             0               0   \n",
       "39998               0               0             0               0   \n",
       "\n",
       "       city_up_Milan  city_up_Munich  city_up_Paris  city_up_Prague  \\\n",
       "0                  0               0              1               0   \n",
       "1                  0               0              0               0   \n",
       "2                  0               0              0               0   \n",
       "3                  0               0              0               0   \n",
       "4                  0               1              0               0   \n",
       "...              ...             ...            ...             ...   \n",
       "39993              0               0              1               0   \n",
       "39994              0               0              1               0   \n",
       "39995              1               0              0               0   \n",
       "39996              0               0              1               0   \n",
       "39998              0               0              0               0   \n",
       "\n",
       "       city_up_Rome  city_up_Stockholm  city_up_Vienna  city_up_Warsaw  \\\n",
       "0                 0                  0               0               0   \n",
       "1                 0                  1               0               0   \n",
       "2                 0                  0               0               0   \n",
       "3                 0                  0               0               0   \n",
       "4                 0                  0               0               0   \n",
       "...             ...                ...             ...             ...   \n",
       "39993             0                  0               0               0   \n",
       "39994             0                  0               0               0   \n",
       "39995             0                  0               0               0   \n",
       "39996             0                  0               0               0   \n",
       "39998             0                  0               0               1   \n",
       "\n",
       "       city_up_other  city_up_nan  \n",
       "0                  0            0  \n",
       "1                  0            0  \n",
       "2                  0            0  \n",
       "3                  0            0  \n",
       "4                  0            0  \n",
       "...              ...          ...  \n",
       "39993              0            0  \n",
       "39994              0            0  \n",
       "39995              0            0  \n",
       "39996              0            0  \n",
       "39998              0            0  \n",
       "\n",
       "[39023 rows x 37 columns]"
      ]
     },
     "execution_count": 244,
     "metadata": {},
     "output_type": "execute_result"
    }
   ],
   "source": [
    "df"
   ]
  },
  {
   "cell_type": "code",
   "execution_count": null,
   "metadata": {},
   "outputs": [],
   "source": []
  },
  {
   "cell_type": "code",
   "execution_count": 72,
   "metadata": {
    "ExecuteTime": {
     "end_time": "2020-09-13T08:21:10.623510Z",
     "start_time": "2020-09-13T08:20:33.783807Z"
    }
   },
   "outputs": [
    {
     "name": "stdout",
     "output_type": "stream",
     "text": [
      "MAE: 0.17379048790487905\n",
      "MAE: 0.17343173431734318\n"
     ]
    },
    {
     "ename": "KeyboardInterrupt",
     "evalue": "",
     "output_type": "error",
     "traceback": [
      "\u001b[0;31m---------------------------------------------------------------------------\u001b[0m",
      "\u001b[0;31mKeyboardInterrupt\u001b[0m                         Traceback (most recent call last)",
      "\u001b[0;32m<ipython-input-72-7d79349654ad>\u001b[0m in \u001b[0;36m<module>\u001b[0;34m\u001b[0m\n\u001b[0;32m----> 1\u001b[0;31m \u001b[0mMAE_mean_count\u001b[0m\u001b[0;34m(\u001b[0m\u001b[0mdf\u001b[0m\u001b[0;34m,\u001b[0m \u001b[0;36m5\u001b[0m\u001b[0;34m)\u001b[0m\u001b[0;34m\u001b[0m\u001b[0;34m\u001b[0m\u001b[0m\n\u001b[0m",
      "\u001b[0;32m<ipython-input-3-b7395f8a1a0d>\u001b[0m in \u001b[0;36mMAE_mean_count\u001b[0;34m(DF, count)\u001b[0m\n\u001b[1;32m    165\u001b[0m     \u001b[0;32mfor\u001b[0m \u001b[0mi\u001b[0m \u001b[0;32min\u001b[0m \u001b[0mrange\u001b[0m\u001b[0;34m(\u001b[0m\u001b[0mcount\u001b[0m\u001b[0;34m)\u001b[0m\u001b[0;34m:\u001b[0m\u001b[0;34m\u001b[0m\u001b[0;34m\u001b[0m\u001b[0m\n\u001b[1;32m    166\u001b[0m         \u001b[0mregr\u001b[0m \u001b[0;34m=\u001b[0m \u001b[0mRandomForestRegressor\u001b[0m\u001b[0;34m(\u001b[0m\u001b[0mn_estimators\u001b[0m\u001b[0;34m=\u001b[0m\u001b[0;36m100\u001b[0m\u001b[0;34m)\u001b[0m\u001b[0;34m\u001b[0m\u001b[0;34m\u001b[0m\u001b[0m\n\u001b[0;32m--> 167\u001b[0;31m         \u001b[0mregr\u001b[0m\u001b[0;34m.\u001b[0m\u001b[0mfit\u001b[0m\u001b[0;34m(\u001b[0m\u001b[0mX_train\u001b[0m\u001b[0;34m,\u001b[0m \u001b[0my_train\u001b[0m\u001b[0;34m)\u001b[0m\u001b[0;34m\u001b[0m\u001b[0;34m\u001b[0m\u001b[0m\n\u001b[0m\u001b[1;32m    168\u001b[0m         \u001b[0my_pred\u001b[0m \u001b[0;34m=\u001b[0m \u001b[0mregr\u001b[0m\u001b[0;34m.\u001b[0m\u001b[0mpredict\u001b[0m\u001b[0;34m(\u001b[0m\u001b[0mX_test\u001b[0m\u001b[0;34m)\u001b[0m\u001b[0;34m\u001b[0m\u001b[0;34m\u001b[0m\u001b[0m\n\u001b[1;32m    169\u001b[0m         \u001b[0;32mfor\u001b[0m \u001b[0mi\u001b[0m \u001b[0;32min\u001b[0m \u001b[0mrange\u001b[0m\u001b[0;34m(\u001b[0m\u001b[0mlen\u001b[0m\u001b[0;34m(\u001b[0m\u001b[0my_pred\u001b[0m\u001b[0;34m)\u001b[0m\u001b[0;34m)\u001b[0m\u001b[0;34m:\u001b[0m\u001b[0;34m\u001b[0m\u001b[0;34m\u001b[0m\u001b[0m\n",
      "\u001b[0;32m~/opt/anaconda3/lib/python3.7/site-packages/sklearn/ensemble/_forest.py\u001b[0m in \u001b[0;36mfit\u001b[0;34m(self, X, y, sample_weight)\u001b[0m\n\u001b[1;32m    381\u001b[0m                     \u001b[0mverbose\u001b[0m\u001b[0;34m=\u001b[0m\u001b[0mself\u001b[0m\u001b[0;34m.\u001b[0m\u001b[0mverbose\u001b[0m\u001b[0;34m,\u001b[0m \u001b[0mclass_weight\u001b[0m\u001b[0;34m=\u001b[0m\u001b[0mself\u001b[0m\u001b[0;34m.\u001b[0m\u001b[0mclass_weight\u001b[0m\u001b[0;34m,\u001b[0m\u001b[0;34m\u001b[0m\u001b[0;34m\u001b[0m\u001b[0m\n\u001b[1;32m    382\u001b[0m                     n_samples_bootstrap=n_samples_bootstrap)\n\u001b[0;32m--> 383\u001b[0;31m                 for i, t in enumerate(trees))\n\u001b[0m\u001b[1;32m    384\u001b[0m \u001b[0;34m\u001b[0m\u001b[0m\n\u001b[1;32m    385\u001b[0m             \u001b[0;31m# Collect newly grown trees\u001b[0m\u001b[0;34m\u001b[0m\u001b[0;34m\u001b[0m\u001b[0;34m\u001b[0m\u001b[0m\n",
      "\u001b[0;32m~/opt/anaconda3/lib/python3.7/site-packages/joblib/parallel.py\u001b[0m in \u001b[0;36m__call__\u001b[0;34m(self, iterable)\u001b[0m\n\u001b[1;32m   1005\u001b[0m                 \u001b[0mself\u001b[0m\u001b[0;34m.\u001b[0m\u001b[0m_iterating\u001b[0m \u001b[0;34m=\u001b[0m \u001b[0mself\u001b[0m\u001b[0;34m.\u001b[0m\u001b[0m_original_iterator\u001b[0m \u001b[0;32mis\u001b[0m \u001b[0;32mnot\u001b[0m \u001b[0;32mNone\u001b[0m\u001b[0;34m\u001b[0m\u001b[0;34m\u001b[0m\u001b[0m\n\u001b[1;32m   1006\u001b[0m \u001b[0;34m\u001b[0m\u001b[0m\n\u001b[0;32m-> 1007\u001b[0;31m             \u001b[0;32mwhile\u001b[0m \u001b[0mself\u001b[0m\u001b[0;34m.\u001b[0m\u001b[0mdispatch_one_batch\u001b[0m\u001b[0;34m(\u001b[0m\u001b[0miterator\u001b[0m\u001b[0;34m)\u001b[0m\u001b[0;34m:\u001b[0m\u001b[0;34m\u001b[0m\u001b[0;34m\u001b[0m\u001b[0m\n\u001b[0m\u001b[1;32m   1008\u001b[0m                 \u001b[0;32mpass\u001b[0m\u001b[0;34m\u001b[0m\u001b[0;34m\u001b[0m\u001b[0m\n\u001b[1;32m   1009\u001b[0m \u001b[0;34m\u001b[0m\u001b[0m\n",
      "\u001b[0;32m~/opt/anaconda3/lib/python3.7/site-packages/joblib/parallel.py\u001b[0m in \u001b[0;36mdispatch_one_batch\u001b[0;34m(self, iterator)\u001b[0m\n\u001b[1;32m    833\u001b[0m                 \u001b[0;32mreturn\u001b[0m \u001b[0;32mFalse\u001b[0m\u001b[0;34m\u001b[0m\u001b[0;34m\u001b[0m\u001b[0m\n\u001b[1;32m    834\u001b[0m             \u001b[0;32melse\u001b[0m\u001b[0;34m:\u001b[0m\u001b[0;34m\u001b[0m\u001b[0;34m\u001b[0m\u001b[0m\n\u001b[0;32m--> 835\u001b[0;31m                 \u001b[0mself\u001b[0m\u001b[0;34m.\u001b[0m\u001b[0m_dispatch\u001b[0m\u001b[0;34m(\u001b[0m\u001b[0mtasks\u001b[0m\u001b[0;34m)\u001b[0m\u001b[0;34m\u001b[0m\u001b[0;34m\u001b[0m\u001b[0m\n\u001b[0m\u001b[1;32m    836\u001b[0m                 \u001b[0;32mreturn\u001b[0m \u001b[0;32mTrue\u001b[0m\u001b[0;34m\u001b[0m\u001b[0;34m\u001b[0m\u001b[0m\n\u001b[1;32m    837\u001b[0m \u001b[0;34m\u001b[0m\u001b[0m\n",
      "\u001b[0;32m~/opt/anaconda3/lib/python3.7/site-packages/joblib/parallel.py\u001b[0m in \u001b[0;36m_dispatch\u001b[0;34m(self, batch)\u001b[0m\n\u001b[1;32m    752\u001b[0m         \u001b[0;32mwith\u001b[0m \u001b[0mself\u001b[0m\u001b[0;34m.\u001b[0m\u001b[0m_lock\u001b[0m\u001b[0;34m:\u001b[0m\u001b[0;34m\u001b[0m\u001b[0;34m\u001b[0m\u001b[0m\n\u001b[1;32m    753\u001b[0m             \u001b[0mjob_idx\u001b[0m \u001b[0;34m=\u001b[0m \u001b[0mlen\u001b[0m\u001b[0;34m(\u001b[0m\u001b[0mself\u001b[0m\u001b[0;34m.\u001b[0m\u001b[0m_jobs\u001b[0m\u001b[0;34m)\u001b[0m\u001b[0;34m\u001b[0m\u001b[0;34m\u001b[0m\u001b[0m\n\u001b[0;32m--> 754\u001b[0;31m             \u001b[0mjob\u001b[0m \u001b[0;34m=\u001b[0m \u001b[0mself\u001b[0m\u001b[0;34m.\u001b[0m\u001b[0m_backend\u001b[0m\u001b[0;34m.\u001b[0m\u001b[0mapply_async\u001b[0m\u001b[0;34m(\u001b[0m\u001b[0mbatch\u001b[0m\u001b[0;34m,\u001b[0m \u001b[0mcallback\u001b[0m\u001b[0;34m=\u001b[0m\u001b[0mcb\u001b[0m\u001b[0;34m)\u001b[0m\u001b[0;34m\u001b[0m\u001b[0;34m\u001b[0m\u001b[0m\n\u001b[0m\u001b[1;32m    755\u001b[0m             \u001b[0;31m# A job can complete so quickly than its callback is\u001b[0m\u001b[0;34m\u001b[0m\u001b[0;34m\u001b[0m\u001b[0;34m\u001b[0m\u001b[0m\n\u001b[1;32m    756\u001b[0m             \u001b[0;31m# called before we get here, causing self._jobs to\u001b[0m\u001b[0;34m\u001b[0m\u001b[0;34m\u001b[0m\u001b[0;34m\u001b[0m\u001b[0m\n",
      "\u001b[0;32m~/opt/anaconda3/lib/python3.7/site-packages/joblib/_parallel_backends.py\u001b[0m in \u001b[0;36mapply_async\u001b[0;34m(self, func, callback)\u001b[0m\n\u001b[1;32m    207\u001b[0m     \u001b[0;32mdef\u001b[0m \u001b[0mapply_async\u001b[0m\u001b[0;34m(\u001b[0m\u001b[0mself\u001b[0m\u001b[0;34m,\u001b[0m \u001b[0mfunc\u001b[0m\u001b[0;34m,\u001b[0m \u001b[0mcallback\u001b[0m\u001b[0;34m=\u001b[0m\u001b[0;32mNone\u001b[0m\u001b[0;34m)\u001b[0m\u001b[0;34m:\u001b[0m\u001b[0;34m\u001b[0m\u001b[0;34m\u001b[0m\u001b[0m\n\u001b[1;32m    208\u001b[0m         \u001b[0;34m\"\"\"Schedule a func to be run\"\"\"\u001b[0m\u001b[0;34m\u001b[0m\u001b[0;34m\u001b[0m\u001b[0m\n\u001b[0;32m--> 209\u001b[0;31m         \u001b[0mresult\u001b[0m \u001b[0;34m=\u001b[0m \u001b[0mImmediateResult\u001b[0m\u001b[0;34m(\u001b[0m\u001b[0mfunc\u001b[0m\u001b[0;34m)\u001b[0m\u001b[0;34m\u001b[0m\u001b[0;34m\u001b[0m\u001b[0m\n\u001b[0m\u001b[1;32m    210\u001b[0m         \u001b[0;32mif\u001b[0m \u001b[0mcallback\u001b[0m\u001b[0;34m:\u001b[0m\u001b[0;34m\u001b[0m\u001b[0;34m\u001b[0m\u001b[0m\n\u001b[1;32m    211\u001b[0m             \u001b[0mcallback\u001b[0m\u001b[0;34m(\u001b[0m\u001b[0mresult\u001b[0m\u001b[0;34m)\u001b[0m\u001b[0;34m\u001b[0m\u001b[0;34m\u001b[0m\u001b[0m\n",
      "\u001b[0;32m~/opt/anaconda3/lib/python3.7/site-packages/joblib/_parallel_backends.py\u001b[0m in \u001b[0;36m__init__\u001b[0;34m(self, batch)\u001b[0m\n\u001b[1;32m    588\u001b[0m         \u001b[0;31m# Don't delay the application, to avoid keeping the input\u001b[0m\u001b[0;34m\u001b[0m\u001b[0;34m\u001b[0m\u001b[0;34m\u001b[0m\u001b[0m\n\u001b[1;32m    589\u001b[0m         \u001b[0;31m# arguments in memory\u001b[0m\u001b[0;34m\u001b[0m\u001b[0;34m\u001b[0m\u001b[0;34m\u001b[0m\u001b[0m\n\u001b[0;32m--> 590\u001b[0;31m         \u001b[0mself\u001b[0m\u001b[0;34m.\u001b[0m\u001b[0mresults\u001b[0m \u001b[0;34m=\u001b[0m \u001b[0mbatch\u001b[0m\u001b[0;34m(\u001b[0m\u001b[0;34m)\u001b[0m\u001b[0;34m\u001b[0m\u001b[0;34m\u001b[0m\u001b[0m\n\u001b[0m\u001b[1;32m    591\u001b[0m \u001b[0;34m\u001b[0m\u001b[0m\n\u001b[1;32m    592\u001b[0m     \u001b[0;32mdef\u001b[0m \u001b[0mget\u001b[0m\u001b[0;34m(\u001b[0m\u001b[0mself\u001b[0m\u001b[0;34m)\u001b[0m\u001b[0;34m:\u001b[0m\u001b[0;34m\u001b[0m\u001b[0;34m\u001b[0m\u001b[0m\n",
      "\u001b[0;32m~/opt/anaconda3/lib/python3.7/site-packages/joblib/parallel.py\u001b[0m in \u001b[0;36m__call__\u001b[0;34m(self)\u001b[0m\n\u001b[1;32m    254\u001b[0m         \u001b[0;32mwith\u001b[0m \u001b[0mparallel_backend\u001b[0m\u001b[0;34m(\u001b[0m\u001b[0mself\u001b[0m\u001b[0;34m.\u001b[0m\u001b[0m_backend\u001b[0m\u001b[0;34m,\u001b[0m \u001b[0mn_jobs\u001b[0m\u001b[0;34m=\u001b[0m\u001b[0mself\u001b[0m\u001b[0;34m.\u001b[0m\u001b[0m_n_jobs\u001b[0m\u001b[0;34m)\u001b[0m\u001b[0;34m:\u001b[0m\u001b[0;34m\u001b[0m\u001b[0;34m\u001b[0m\u001b[0m\n\u001b[1;32m    255\u001b[0m             return [func(*args, **kwargs)\n\u001b[0;32m--> 256\u001b[0;31m                     for func, args, kwargs in self.items]\n\u001b[0m\u001b[1;32m    257\u001b[0m \u001b[0;34m\u001b[0m\u001b[0m\n\u001b[1;32m    258\u001b[0m     \u001b[0;32mdef\u001b[0m \u001b[0m__len__\u001b[0m\u001b[0;34m(\u001b[0m\u001b[0mself\u001b[0m\u001b[0;34m)\u001b[0m\u001b[0;34m:\u001b[0m\u001b[0;34m\u001b[0m\u001b[0;34m\u001b[0m\u001b[0m\n",
      "\u001b[0;32m~/opt/anaconda3/lib/python3.7/site-packages/joblib/parallel.py\u001b[0m in \u001b[0;36m<listcomp>\u001b[0;34m(.0)\u001b[0m\n\u001b[1;32m    254\u001b[0m         \u001b[0;32mwith\u001b[0m \u001b[0mparallel_backend\u001b[0m\u001b[0;34m(\u001b[0m\u001b[0mself\u001b[0m\u001b[0;34m.\u001b[0m\u001b[0m_backend\u001b[0m\u001b[0;34m,\u001b[0m \u001b[0mn_jobs\u001b[0m\u001b[0;34m=\u001b[0m\u001b[0mself\u001b[0m\u001b[0;34m.\u001b[0m\u001b[0m_n_jobs\u001b[0m\u001b[0;34m)\u001b[0m\u001b[0;34m:\u001b[0m\u001b[0;34m\u001b[0m\u001b[0;34m\u001b[0m\u001b[0m\n\u001b[1;32m    255\u001b[0m             return [func(*args, **kwargs)\n\u001b[0;32m--> 256\u001b[0;31m                     for func, args, kwargs in self.items]\n\u001b[0m\u001b[1;32m    257\u001b[0m \u001b[0;34m\u001b[0m\u001b[0m\n\u001b[1;32m    258\u001b[0m     \u001b[0;32mdef\u001b[0m \u001b[0m__len__\u001b[0m\u001b[0;34m(\u001b[0m\u001b[0mself\u001b[0m\u001b[0;34m)\u001b[0m\u001b[0;34m:\u001b[0m\u001b[0;34m\u001b[0m\u001b[0;34m\u001b[0m\u001b[0m\n",
      "\u001b[0;32m~/opt/anaconda3/lib/python3.7/site-packages/sklearn/ensemble/_forest.py\u001b[0m in \u001b[0;36m_parallel_build_trees\u001b[0;34m(tree, forest, X, y, sample_weight, tree_idx, n_trees, verbose, class_weight, n_samples_bootstrap)\u001b[0m\n\u001b[1;32m    163\u001b[0m             \u001b[0mcurr_sample_weight\u001b[0m \u001b[0;34m*=\u001b[0m \u001b[0mcompute_sample_weight\u001b[0m\u001b[0;34m(\u001b[0m\u001b[0;34m'balanced'\u001b[0m\u001b[0;34m,\u001b[0m \u001b[0my\u001b[0m\u001b[0;34m,\u001b[0m \u001b[0mindices\u001b[0m\u001b[0;34m)\u001b[0m\u001b[0;34m\u001b[0m\u001b[0;34m\u001b[0m\u001b[0m\n\u001b[1;32m    164\u001b[0m \u001b[0;34m\u001b[0m\u001b[0m\n\u001b[0;32m--> 165\u001b[0;31m         \u001b[0mtree\u001b[0m\u001b[0;34m.\u001b[0m\u001b[0mfit\u001b[0m\u001b[0;34m(\u001b[0m\u001b[0mX\u001b[0m\u001b[0;34m,\u001b[0m \u001b[0my\u001b[0m\u001b[0;34m,\u001b[0m \u001b[0msample_weight\u001b[0m\u001b[0;34m=\u001b[0m\u001b[0mcurr_sample_weight\u001b[0m\u001b[0;34m,\u001b[0m \u001b[0mcheck_input\u001b[0m\u001b[0;34m=\u001b[0m\u001b[0;32mFalse\u001b[0m\u001b[0;34m)\u001b[0m\u001b[0;34m\u001b[0m\u001b[0;34m\u001b[0m\u001b[0m\n\u001b[0m\u001b[1;32m    166\u001b[0m     \u001b[0;32melse\u001b[0m\u001b[0;34m:\u001b[0m\u001b[0;34m\u001b[0m\u001b[0;34m\u001b[0m\u001b[0m\n\u001b[1;32m    167\u001b[0m         \u001b[0mtree\u001b[0m\u001b[0;34m.\u001b[0m\u001b[0mfit\u001b[0m\u001b[0;34m(\u001b[0m\u001b[0mX\u001b[0m\u001b[0;34m,\u001b[0m \u001b[0my\u001b[0m\u001b[0;34m,\u001b[0m \u001b[0msample_weight\u001b[0m\u001b[0;34m=\u001b[0m\u001b[0msample_weight\u001b[0m\u001b[0;34m,\u001b[0m \u001b[0mcheck_input\u001b[0m\u001b[0;34m=\u001b[0m\u001b[0;32mFalse\u001b[0m\u001b[0;34m)\u001b[0m\u001b[0;34m\u001b[0m\u001b[0;34m\u001b[0m\u001b[0m\n",
      "\u001b[0;32m~/opt/anaconda3/lib/python3.7/site-packages/sklearn/tree/_classes.py\u001b[0m in \u001b[0;36mfit\u001b[0;34m(self, X, y, sample_weight, check_input, X_idx_sorted)\u001b[0m\n\u001b[1;32m   1223\u001b[0m             \u001b[0msample_weight\u001b[0m\u001b[0;34m=\u001b[0m\u001b[0msample_weight\u001b[0m\u001b[0;34m,\u001b[0m\u001b[0;34m\u001b[0m\u001b[0;34m\u001b[0m\u001b[0m\n\u001b[1;32m   1224\u001b[0m             \u001b[0mcheck_input\u001b[0m\u001b[0;34m=\u001b[0m\u001b[0mcheck_input\u001b[0m\u001b[0;34m,\u001b[0m\u001b[0;34m\u001b[0m\u001b[0;34m\u001b[0m\u001b[0m\n\u001b[0;32m-> 1225\u001b[0;31m             X_idx_sorted=X_idx_sorted)\n\u001b[0m\u001b[1;32m   1226\u001b[0m         \u001b[0;32mreturn\u001b[0m \u001b[0mself\u001b[0m\u001b[0;34m\u001b[0m\u001b[0;34m\u001b[0m\u001b[0m\n\u001b[1;32m   1227\u001b[0m \u001b[0;34m\u001b[0m\u001b[0m\n",
      "\u001b[0;32m~/opt/anaconda3/lib/python3.7/site-packages/sklearn/tree/_classes.py\u001b[0m in \u001b[0;36mfit\u001b[0;34m(self, X, y, sample_weight, check_input, X_idx_sorted)\u001b[0m\n\u001b[1;32m    365\u001b[0m                                            min_impurity_split)\n\u001b[1;32m    366\u001b[0m \u001b[0;34m\u001b[0m\u001b[0m\n\u001b[0;32m--> 367\u001b[0;31m         \u001b[0mbuilder\u001b[0m\u001b[0;34m.\u001b[0m\u001b[0mbuild\u001b[0m\u001b[0;34m(\u001b[0m\u001b[0mself\u001b[0m\u001b[0;34m.\u001b[0m\u001b[0mtree_\u001b[0m\u001b[0;34m,\u001b[0m \u001b[0mX\u001b[0m\u001b[0;34m,\u001b[0m \u001b[0my\u001b[0m\u001b[0;34m,\u001b[0m \u001b[0msample_weight\u001b[0m\u001b[0;34m,\u001b[0m \u001b[0mX_idx_sorted\u001b[0m\u001b[0;34m)\u001b[0m\u001b[0;34m\u001b[0m\u001b[0;34m\u001b[0m\u001b[0m\n\u001b[0m\u001b[1;32m    368\u001b[0m \u001b[0;34m\u001b[0m\u001b[0m\n\u001b[1;32m    369\u001b[0m         \u001b[0;32mif\u001b[0m \u001b[0mself\u001b[0m\u001b[0;34m.\u001b[0m\u001b[0mn_outputs_\u001b[0m \u001b[0;34m==\u001b[0m \u001b[0;36m1\u001b[0m \u001b[0;32mand\u001b[0m \u001b[0mis_classifier\u001b[0m\u001b[0;34m(\u001b[0m\u001b[0mself\u001b[0m\u001b[0;34m)\u001b[0m\u001b[0;34m:\u001b[0m\u001b[0;34m\u001b[0m\u001b[0;34m\u001b[0m\u001b[0m\n",
      "\u001b[0;31mKeyboardInterrupt\u001b[0m: "
     ]
    }
   ],
   "source": [
    "MAE_mean_count(df, 5)"
   ]
  }
 ],
 "metadata": {
  "kernelspec": {
   "display_name": "Python 3",
   "language": "python",
   "name": "python3"
  },
  "language_info": {
   "codemirror_mode": {
    "name": "ipython",
    "version": 3
   },
   "file_extension": ".py",
   "mimetype": "text/x-python",
   "name": "python",
   "nbconvert_exporter": "python",
   "pygments_lexer": "ipython3",
   "version": "3.7.6"
  },
  "toc": {
   "base_numbering": 1,
   "nav_menu": {},
   "number_sections": true,
   "sideBar": true,
   "skip_h1_title": false,
   "title_cell": "Table of Contents",
   "title_sidebar": "Contents",
   "toc_cell": false,
   "toc_position": {
    "height": "calc(100% - 180px)",
    "left": "10px",
    "top": "150px",
    "width": "198px"
   },
   "toc_section_display": true,
   "toc_window_display": true
  }
 },
 "nbformat": 4,
 "nbformat_minor": 2
}
