{
 "cells": [
  {
   "cell_type": "markdown",
   "metadata": {},
   "source": [
    "# Задание"
   ]
  },
  {
   "cell_type": "markdown",
   "metadata": {},
   "source": [
    "Компьютер загадывает целое число от 1 до 100, необходимо написать программу, которая угадывает это число."
   ]
  },
  {
   "cell_type": "markdown",
   "metadata": {},
   "source": [
    "# Решение"
   ]
  },
  {
   "cell_type": "markdown",
   "metadata": {},
   "source": [
    "## Импорт модулей"
   ]
  },
  {
   "cell_type": "code",
   "execution_count": 1,
   "metadata": {
    "ExecuteTime": {
     "end_time": "2020-05-31T08:17:27.544904Z",
     "start_time": "2020-05-31T08:17:27.016092Z"
    }
   },
   "outputs": [],
   "source": [
    "import random\n",
    "import numpy as np\n",
    "import math"
   ]
  },
  {
   "cell_type": "markdown",
   "metadata": {},
   "source": [
    "## Начальные условия"
   ]
  },
  {
   "cell_type": "code",
   "execution_count": 2,
   "metadata": {
    "ExecuteTime": {
     "end_time": "2020-05-31T08:17:29.247332Z",
     "start_time": "2020-05-31T08:17:29.239980Z"
    }
   },
   "outputs": [],
   "source": [
    "number_list = [n for n in range(1, 100)]  # Указывается пул чисел загаданного числа"
   ]
  },
  {
   "cell_type": "markdown",
   "metadata": {},
   "source": [
    "## Определение функций"
   ]
  },
  {
   "cell_type": "code",
   "execution_count": 3,
   "metadata": {
    "ExecuteTime": {
     "end_time": "2020-05-31T08:17:30.272237Z",
     "start_time": "2020-05-31T08:17:30.256037Z"
    }
   },
   "outputs": [],
   "source": [
    "def dichotomy_method_v1(number):\n",
    "    '''Поиск числа через деление списка на две части, если загаданное число больше середины\n",
    "    списка, то проводим поиск в правой половине списка, если меньше, то в левой, данный метод\n",
    "    повторяется до тех пор, пока загаданное число не будет равным серединой списка. Если через\n",
    "    7 делений не было найдено загаданное число, то это число начальное либо крайнее в списке.\n",
    "       Функция принимает загаданное число и возвращает число попыток.'''\n",
    "    count = 0\n",
    "    x_start = number_list[0]\n",
    "    x_end = number_list[-1]\n",
    "    x_half = round((x_end - x_start)/2)\n",
    "    while number != x_half:\n",
    "        count += 1\n",
    "        if number > x_half:\n",
    "            x_start = x_half\n",
    "        elif number < x_half:\n",
    "            x_end = x_half\n",
    "        x_half = round(x_start + (x_end - x_start)/2)\n",
    "        if count == 7:\n",
    "            if x_half > round(len(number_list)/2):\n",
    "                x_half = number_list[-1]\n",
    "            elif x_half < round(len(number_list)/2):\n",
    "                x_half = number_list[0]\n",
    "\n",
    "    return count\n",
    "\n",
    "\n",
    "def dichotomy_method_v2(number):\n",
    "    '''Поиск числа через деление списка на две части, если загаданное число больше середины\n",
    "    списка, то проводим поиск в правой половине списка, если меньше, то в левой, данный метод\n",
    "    повторяется до тех пор, пока загаданное число не будет равным серединой списка. Вначале\n",
    "    загаданное число проверяется не является ли оно начальным или крайним в списке.\n",
    "       Функция принимает загаданное число и возвращает число попыток'''\n",
    "    count = 0\n",
    "    x_start = number_list[0]\n",
    "    x_end = number_list[-1]\n",
    "    x_half = round((x_end - x_start)/2)\n",
    "    while number != x_half:\n",
    "        count += 1\n",
    "        if number == number_list[0]:\n",
    "            x_half = number_list[0]\n",
    "            break\n",
    "        elif number == number_list[-1]:\n",
    "            x_half = number_list[-1]\n",
    "            break\n",
    "        elif number > x_half:\n",
    "            x_start = x_half\n",
    "        elif number < x_half:\n",
    "            x_end = x_half\n",
    "        x_half = round(x_start+(x_end-x_start)/2)\n",
    "\n",
    "    return count\n",
    "\n",
    "\n",
    "def dichotomy_method_v3(number):\n",
    "    '''Поиск числа через деление списка на две части, если загаданное число больше середины\n",
    "    списка, то проводим поиск в правой половине списка, если меньше, то в левой, данный метод\n",
    "    повторяется до тех пор, пока загаданное число не будет равным серединой списка.\n",
    "    Для включения крайних чисел списка, расширяем диапазон поиска с 0 до последнего +1.\n",
    "       Функция принимает загаданное число и возвращает число попыток'''\n",
    "    count = 1\n",
    "    x_start = 0\n",
    "    x_end = number_list[-1] + 1\n",
    "    x_half = round((x_end - x_start)/2)\n",
    "    while number != x_half:\n",
    "        count += 1\n",
    "        if number > x_half:\n",
    "            x_start = x_half\n",
    "        elif number < x_half:\n",
    "            x_end = x_half\n",
    "        x_half = round(x_start+(x_end-x_start)/2)\n",
    "\n",
    "    return count\n",
    "\n",
    "\n",
    "def score_game(game_core):\n",
    "    '''Запуск игры 1000 раз, чтоб узнать как быстро игра угадывает число'''\n",
    "    count_ls = []\n",
    "    np.random.seed(1)  # фиксируем RANDOM SEED, чтобы эксперимент был воспроизводим!\n",
    "    random_array = np.random.randint(100, size=(1000))\n",
    "    for number in random_array:\n",
    "        count_ls.append(game_core(number))\n",
    "    score = int(np.mean(count_ls))\n",
    "    print(f\"Ваш алгоритм угадывает число в среднем за {score} попыток\")\n",
    "\n",
    "    return(score)"
   ]
  },
  {
   "cell_type": "markdown",
   "metadata": {},
   "source": [
    "## Запуск"
   ]
  },
  {
   "cell_type": "code",
   "execution_count": 4,
   "metadata": {
    "ExecuteTime": {
     "end_time": "2020-05-31T08:17:31.460615Z",
     "start_time": "2020-05-31T08:17:31.445614Z"
    }
   },
   "outputs": [
    {
     "name": "stdout",
     "output_type": "stream",
     "text": [
      "Ваш алгоритм угадывает число в среднем за 5 попыток\n"
     ]
    },
    {
     "data": {
      "text/plain": [
       "5"
      ]
     },
     "execution_count": 4,
     "metadata": {},
     "output_type": "execute_result"
    }
   ],
   "source": [
    "score_game(dichotomy_method_v3)"
   ]
  }
 ],
 "metadata": {
  "kernelspec": {
   "display_name": "Python 3",
   "language": "python",
   "name": "python3"
  },
  "language_info": {
   "codemirror_mode": {
    "name": "ipython",
    "version": 3
   },
   "file_extension": ".py",
   "mimetype": "text/x-python",
   "name": "python",
   "nbconvert_exporter": "python",
   "pygments_lexer": "ipython3",
   "version": "3.7.6"
  },
  "toc": {
   "base_numbering": 1,
   "nav_menu": {},
   "number_sections": true,
   "sideBar": true,
   "skip_h1_title": false,
   "title_cell": "Table of Contents",
   "title_sidebar": "Contents",
   "toc_cell": false,
   "toc_position": {},
   "toc_section_display": true,
   "toc_window_display": false
  }
 },
 "nbformat": 4,
 "nbformat_minor": 4
}
