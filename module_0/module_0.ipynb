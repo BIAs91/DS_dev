{
 "cells": [
  {
   "cell_type": "markdown",
   "metadata": {},
   "source": [
    "# Задание"
   ]
  },
  {
   "cell_type": "markdown",
   "metadata": {},
   "source": [
    "Компьютер загадывает целое число от 1 до 100, необходимо написать программу, которая угадывает это число."
   ]
  },
  {
   "cell_type": "markdown",
   "metadata": {},
   "source": [
    "# Решение"
   ]
  },
  {
   "cell_type": "markdown",
   "metadata": {},
   "source": [
    "## Импорт модулей"
   ]
  },
  {
   "cell_type": "code",
   "execution_count": 5,
   "metadata": {},
   "outputs": [],
   "source": [
    "import random\n",
    "import numpy as np\n",
    "import math"
   ]
  },
  {
   "cell_type": "markdown",
   "metadata": {},
   "source": [
    "## Начальные условия"
   ]
  },
  {
   "cell_type": "code",
   "execution_count": 23,
   "metadata": {},
   "outputs": [],
   "source": [
    "number_list = [n for n in range(1, 100)]  # Указывается пул чисел поиска загаданного числа"
   ]
  },
  {
   "cell_type": "markdown",
   "metadata": {},
   "source": [
    "## Определение функций"
   ]
  },
  {
   "cell_type": "code",
   "execution_count": 24,
   "metadata": {},
   "outputs": [],
   "source": [
    "def dichotomy_method_v1(number):\n",
    "    '''Поиск числа через деление списка на две части, если загаданное число больше середины списка,\n",
    "    то проводим поиск в правой половине списка, если меньше, то в левой, данные метод повторяется до тех пор,\n",
    "    пока загаданное число не будет равным серединой списка. Если через 7 делений не было найдено загаданное число,\n",
    "    то это число начальное либо крайнее в списке.\n",
    "       Функция принимает загаданное число и возвращает число попыток.'''\n",
    "    count = 0\n",
    "    x_start = number_list[0]\n",
    "    x_end = number_list[-1]\n",
    "    x_half = round((x_end - x_start)/2)\n",
    "    while number != x_half:\n",
    "        count += 1\n",
    "        if number > x_half:\n",
    "            x_start = x_half\n",
    "        elif number < x_half:\n",
    "            x_end = x_half\n",
    "        x_half = round(x_start + (x_end - x_start)/2)\n",
    "        if count == 7:\n",
    "            if x_half > round(len(number_list)/2):\n",
    "                x_half = number_list[-1]\n",
    "            elif x_half < round(len(number_list)/2):\n",
    "                x_half = number_list[0]\n",
    "\n",
    "    return count\n",
    "\n",
    "\n",
    "def dichotomy_method_v2(number):\n",
    "    '''Поиск числа через деление списка на две части, если загаданное число больше середины списка,\n",
    "    то проводим поиск в правой половине списка, если меньше, то в левой, данные метод повторяется до тех пор,\n",
    "    пока загаданное число не будет равным серединой списка. Вначале загаданное число проверяется не является ли оно\n",
    "    начальным или крайним в списке.\n",
    "       Функция принимает загаданное число и возвращает число попыток'''\n",
    "    count = 0\n",
    "    x_start = number_list[0]\n",
    "    x_end = number_list[-1]\n",
    "    x_half = round((x_end - x_start)/2)\n",
    "    while number != x_half:\n",
    "        count += 1\n",
    "        if number == number_list[0]:\n",
    "            x_half = number_list[0]\n",
    "            break\n",
    "        elif number == number_list[-1]:\n",
    "            x_half = number_list[-1]\n",
    "            break\n",
    "        elif number > x_half:\n",
    "            x_start = x_half\n",
    "        elif number < x_half:\n",
    "            x_end = x_half\n",
    "        x_half = round(x_start+(x_end-x_start)/2)\n",
    "\n",
    "    return count\n",
    "\n",
    "\n",
    "def dichotomy_method_v3(number):\n",
    "    '''Поиск числа через деление списка на две части, если загаданное число больше середины списка,\n",
    "    то проводим поиск в правой половине списка, если меньше, то в левой, данные метод повторяется до тех пор,\n",
    "    пока загаданное число не будет равным серединой списка. Для включения крайних чисел списка, расширяем диапазон\n",
    "    поиска с 0 до последнего +1.\n",
    "       Функция принимает загаданное число и возвращает число попыток'''\n",
    "    count = 0\n",
    "    x_start = 0\n",
    "    x_end = number_list[-1] + 1\n",
    "    x_half = round((x_end - x_start)/2)\n",
    "    while number != x_half:\n",
    "        count += 1\n",
    "        if number > x_half:\n",
    "            x_start = x_half\n",
    "        elif number < x_half:\n",
    "            x_end = x_half\n",
    "        x_half = round(x_start+(x_end-x_start)/2)\n",
    "\n",
    "    return count\n",
    "\n",
    "\n",
    "def score_game(game_core):\n",
    "    '''Запуск игры 1000 раз, чтоб узнать как быстро игра угадывает число'''\n",
    "    count_ls = []\n",
    "    np.random.seed(1)  # фиксируем RANDOM SEED, чтобы ваш эксперимент был воспроизводим!\n",
    "    random_array = np.random.randint(100, size=(1000))\n",
    "    for number in random_array:\n",
    "        count_ls.append(game_core(number))\n",
    "    score = int(np.mean(count_ls))\n",
    "    print(f\"Ваш алгоритм угадывает число в среднем за {score} попыток\")\n",
    "\n",
    "    return(score)"
   ]
  },
  {
   "cell_type": "markdown",
   "metadata": {},
   "source": [
    "## Запуск"
   ]
  },
  {
   "cell_type": "code",
   "execution_count": null,
   "metadata": {},
   "outputs": [],
   "source": [
    "score_game(dichotomy_method_v3)"
   ]
  },
  {
   "cell_type": "markdown",
   "metadata": {},
   "source": [
    "## Комментарий"
   ]
  },
  {
   "attachments": {},
   "cell_type": "markdown",
   "metadata": {},
   "source": [
    "Не знаю почему, но у меня юпитер при значении «size» от 38 и больше в команде «np.random.randint(100, size=(1000))» зацикливается и не считает, поэтому полноценную проверку (size=1000) мне провести не удалось, перезагрузка ядра не помогает."
   ]
  }
 ],
 "metadata": {
  "kernelspec": {
   "display_name": "Python 3",
   "language": "python",
   "name": "python3"
  },
  "language_info": {
   "codemirror_mode": {
    "name": "ipython",
    "version": 3
   },
   "file_extension": ".py",
   "mimetype": "text/x-python",
   "name": "python",
   "nbconvert_exporter": "python",
   "pygments_lexer": "ipython3",
   "version": "3.7.6"
  }
 },
 "nbformat": 4,
 "nbformat_minor": 4
}
