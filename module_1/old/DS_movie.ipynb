{
 "cells": [
  {
   "cell_type": "markdown",
   "metadata": {
    "ExecuteTime": {
     "end_time": "2020-05-12T16:43:57.685327Z",
     "start_time": "2020-05-12T16:43:57.681872Z"
    },
    "_cell_guid": "b1076dfc-b9ad-4769-8c92-a6c4dae69d19",
    "_uuid": "8f2839f25d086af736a60e9eeb907d3b93b6e0e5"
   },
   "source": [
    "# Импорт библиотек и датасета"
   ]
  },
  {
   "cell_type": "code",
   "execution_count": 1,
   "metadata": {
    "ExecuteTime": {
     "end_time": "2020-05-16T07:11:08.082463Z",
     "start_time": "2020-05-16T07:11:03.056974Z"
    }
   },
   "outputs": [],
   "source": [
    "import numpy as np\n",
    "import pandas as pd\n",
    "import seaborn as sns\n",
    "import matplotlib.pyplot as plt\n",
    "import os\n",
    "from collections import Counter"
   ]
  },
  {
   "cell_type": "code",
   "execution_count": 154,
   "metadata": {
    "ExecuteTime": {
     "end_time": "2020-05-16T09:56:08.513423Z",
     "start_time": "2020-05-16T09:56:08.417458Z"
    }
   },
   "outputs": [],
   "source": [
    "data = pd.read_csv('data.csv')"
   ]
  },
  {
   "cell_type": "markdown",
   "metadata": {},
   "source": [
    "# Предобработка датасета"
   ]
  },
  {
   "cell_type": "code",
   "execution_count": 27,
   "metadata": {
    "ExecuteTime": {
     "end_time": "2020-05-12T17:09:07.415361Z",
     "start_time": "2020-05-12T17:09:07.411231Z"
    }
   },
   "outputs": [],
   "source": [
    "answer_ls = [] # список с ответами"
   ]
  },
  {
   "cell_type": "code",
   "execution_count": 149,
   "metadata": {
    "ExecuteTime": {
     "end_time": "2020-05-16T09:43:03.769024Z",
     "start_time": "2020-05-16T09:43:03.751050Z"
    }
   },
   "outputs": [],
   "source": [
    "data['profit'] = data.revenue - data.budget # колонка - прибыль\n",
    "data['release_date'] = pd.to_datetime(data['release_date']) # для работы с датами\n",
    "data['release_month'] = data.release_date.dt.month # колонка - месяц выхода\n",
    "data['length_title'] = data['original_title'].apply(lambda x: len(x)) # колонка - длина названия\n",
    "data['word_count_title'] = data['original_title'].str.findall(r\"(\\w+'*\\w*)\").str.len() # колонка - кол-во слов в названии\n",
    "data['word_title'] = data['original_title'].str.findall(r\"(\\w+'*\\w*)\") # колонка - слова в названии\n",
    "data['word_title2'] = data['original_title'].str.split(' ')"
   ]
  },
  {
   "cell_type": "code",
   "execution_count": 141,
   "metadata": {
    "ExecuteTime": {
     "end_time": "2020-05-16T09:32:35.539042Z",
     "start_time": "2020-05-16T09:32:35.517728Z"
    }
   },
   "outputs": [
    {
     "data": {
      "text/html": [
       "<div>\n",
       "<style scoped>\n",
       "    .dataframe tbody tr th:only-of-type {\n",
       "        vertical-align: middle;\n",
       "    }\n",
       "\n",
       "    .dataframe tbody tr th {\n",
       "        vertical-align: top;\n",
       "    }\n",
       "\n",
       "    .dataframe thead th {\n",
       "        text-align: right;\n",
       "    }\n",
       "</style>\n",
       "<table border=\"1\" class=\"dataframe\">\n",
       "  <thead>\n",
       "    <tr style=\"text-align: right;\">\n",
       "      <th></th>\n",
       "      <th>imdb_id</th>\n",
       "      <th>popularity</th>\n",
       "      <th>budget</th>\n",
       "      <th>revenue</th>\n",
       "      <th>original_title</th>\n",
       "      <th>cast</th>\n",
       "      <th>director</th>\n",
       "      <th>tagline</th>\n",
       "      <th>overview</th>\n",
       "      <th>runtime</th>\n",
       "      <th>...</th>\n",
       "      <th>release_date</th>\n",
       "      <th>vote_count</th>\n",
       "      <th>vote_average</th>\n",
       "      <th>release_year</th>\n",
       "      <th>profit</th>\n",
       "      <th>release_month</th>\n",
       "      <th>length_title</th>\n",
       "      <th>word_count_title</th>\n",
       "      <th>word_title</th>\n",
       "      <th>word_title2</th>\n",
       "    </tr>\n",
       "  </thead>\n",
       "  <tbody>\n",
       "    <tr>\n",
       "      <th>743</th>\n",
       "      <td>tt1133985</td>\n",
       "      <td>2.419805</td>\n",
       "      <td>200000000</td>\n",
       "      <td>219851172</td>\n",
       "      <td>Green Lantern</td>\n",
       "      <td>Ryan Reynolds|Blake Lively|Peter Sarsgaard|Tim...</td>\n",
       "      <td>Martin Campbell</td>\n",
       "      <td>In our darkest hour, there will be light.</td>\n",
       "      <td>For centuries, a small but powerful force of w...</td>\n",
       "      <td>114</td>\n",
       "      <td>...</td>\n",
       "      <td>2011-06-16</td>\n",
       "      <td>1654</td>\n",
       "      <td>5.1</td>\n",
       "      <td>2011</td>\n",
       "      <td>19851172</td>\n",
       "      <td>6</td>\n",
       "      <td>13</td>\n",
       "      <td>2</td>\n",
       "      <td>[Green, Lantern]</td>\n",
       "      <td>[Green, Lantern]</td>\n",
       "    </tr>\n",
       "  </tbody>\n",
       "</table>\n",
       "<p>1 rows × 22 columns</p>\n",
       "</div>"
      ],
      "text/plain": [
       "       imdb_id  popularity     budget    revenue original_title  \\\n",
       "743  tt1133985    2.419805  200000000  219851172  Green Lantern   \n",
       "\n",
       "                                                  cast         director  \\\n",
       "743  Ryan Reynolds|Blake Lively|Peter Sarsgaard|Tim...  Martin Campbell   \n",
       "\n",
       "                                       tagline  \\\n",
       "743  In our darkest hour, there will be light.   \n",
       "\n",
       "                                              overview  runtime  ...  \\\n",
       "743  For centuries, a small but powerful force of w...      114  ...   \n",
       "\n",
       "    release_date vote_count vote_average  release_year    profit  \\\n",
       "743   2011-06-16       1654          5.1          2011  19851172   \n",
       "\n",
       "     release_month  length_title  word_count_title        word_title  \\\n",
       "743              6            13                 2  [Green, Lantern]   \n",
       "\n",
       "          word_title2  \n",
       "743  [Green, Lantern]  \n",
       "\n",
       "[1 rows x 22 columns]"
      ]
     },
     "execution_count": 141,
     "metadata": {},
     "output_type": "execute_result"
    }
   ],
   "source": [
    "data.sample(1)"
   ]
  },
  {
   "cell_type": "code",
   "execution_count": 152,
   "metadata": {
    "ExecuteTime": {
     "end_time": "2020-05-16T09:44:10.190495Z",
     "start_time": "2020-05-16T09:44:10.124155Z"
    }
   },
   "outputs": [
    {
     "data": {
      "text/html": [
       "<div>\n",
       "<style scoped>\n",
       "    .dataframe tbody tr th:only-of-type {\n",
       "        vertical-align: middle;\n",
       "    }\n",
       "\n",
       "    .dataframe tbody tr th {\n",
       "        vertical-align: top;\n",
       "    }\n",
       "\n",
       "    .dataframe thead th {\n",
       "        text-align: right;\n",
       "    }\n",
       "</style>\n",
       "<table border=\"1\" class=\"dataframe\">\n",
       "  <thead>\n",
       "    <tr style=\"text-align: right;\">\n",
       "      <th></th>\n",
       "      <th>imdb_id</th>\n",
       "      <th>popularity</th>\n",
       "      <th>budget</th>\n",
       "      <th>revenue</th>\n",
       "      <th>original_title</th>\n",
       "      <th>cast</th>\n",
       "      <th>director</th>\n",
       "      <th>tagline</th>\n",
       "      <th>overview</th>\n",
       "      <th>runtime</th>\n",
       "      <th>...</th>\n",
       "      <th>release_date</th>\n",
       "      <th>vote_count</th>\n",
       "      <th>vote_average</th>\n",
       "      <th>release_year</th>\n",
       "      <th>profit</th>\n",
       "      <th>release_month</th>\n",
       "      <th>length_title</th>\n",
       "      <th>word_count_title</th>\n",
       "      <th>word_title</th>\n",
       "      <th>word_title2</th>\n",
       "    </tr>\n",
       "  </thead>\n",
       "  <tbody>\n",
       "    <tr>\n",
       "      <th>186</th>\n",
       "      <td>tt0864835</td>\n",
       "      <td>1.894706</td>\n",
       "      <td>145000000</td>\n",
       "      <td>272912430</td>\n",
       "      <td>Mr. Peabody &amp; Sherman</td>\n",
       "      <td>Ty Burrell|Max Charles|Ariel Winter|Allison Ja...</td>\n",
       "      <td>Rob Minkoff</td>\n",
       "      <td>He's Leaving His Mark On History</td>\n",
       "      <td>A young boy and his dog, who happens to have a...</td>\n",
       "      <td>92</td>\n",
       "      <td>...</td>\n",
       "      <td>2014-02-07</td>\n",
       "      <td>592</td>\n",
       "      <td>6.8</td>\n",
       "      <td>2014</td>\n",
       "      <td>127912430</td>\n",
       "      <td>2</td>\n",
       "      <td>21</td>\n",
       "      <td>3</td>\n",
       "      <td>[Mr, Peabody, Sherman]</td>\n",
       "      <td>[Mr., Peabody, &amp;, Sherman]</td>\n",
       "    </tr>\n",
       "    <tr>\n",
       "      <th>203</th>\n",
       "      <td>tt2980706</td>\n",
       "      <td>1.240895</td>\n",
       "      <td>50000000</td>\n",
       "      <td>151165787</td>\n",
       "      <td>Planes: Fire &amp; Rescue</td>\n",
       "      <td>Dane Cook|Ed Harris|Julie Bowen|Curtis Armstro...</td>\n",
       "      <td>Roberts Gannaway</td>\n",
       "      <td>When others fly out, heroes fly in.</td>\n",
       "      <td>When world-famous air racer Dusty learns that ...</td>\n",
       "      <td>83</td>\n",
       "      <td>...</td>\n",
       "      <td>2014-07-17</td>\n",
       "      <td>223</td>\n",
       "      <td>5.9</td>\n",
       "      <td>2014</td>\n",
       "      <td>101165787</td>\n",
       "      <td>7</td>\n",
       "      <td>21</td>\n",
       "      <td>3</td>\n",
       "      <td>[Planes, Fire, Rescue]</td>\n",
       "      <td>[Planes:, Fire, &amp;, Rescue]</td>\n",
       "    </tr>\n",
       "    <tr>\n",
       "      <th>253</th>\n",
       "      <td>tt0808151</td>\n",
       "      <td>2.841562</td>\n",
       "      <td>150000000</td>\n",
       "      <td>356613439</td>\n",
       "      <td>Angels &amp; Demons</td>\n",
       "      <td>Tom Hanks|Ewan McGregor|Ayelet Zurer|Stellan S...</td>\n",
       "      <td>Ron Howard</td>\n",
       "      <td>The holiest event of our time. Perfect for the...</td>\n",
       "      <td>Harvard symbologist Robert Langdon investigate...</td>\n",
       "      <td>138</td>\n",
       "      <td>...</td>\n",
       "      <td>2009-05-13</td>\n",
       "      <td>1275</td>\n",
       "      <td>6.3</td>\n",
       "      <td>2009</td>\n",
       "      <td>206613439</td>\n",
       "      <td>5</td>\n",
       "      <td>15</td>\n",
       "      <td>2</td>\n",
       "      <td>[Angels, Demons]</td>\n",
       "      <td>[Angels, &amp;, Demons]</td>\n",
       "    </tr>\n",
       "    <tr>\n",
       "      <th>288</th>\n",
       "      <td>tt1135503</td>\n",
       "      <td>1.149370</td>\n",
       "      <td>40000000</td>\n",
       "      <td>129540499</td>\n",
       "      <td>Julie &amp; Julia</td>\n",
       "      <td>Meryl Streep|Amy Adams|Stanley Tucci|Chris Mes...</td>\n",
       "      <td>Nora Ephron</td>\n",
       "      <td>Based on Two True Stories</td>\n",
       "      <td>Julia Child and Julie Powell â€“ both of whom ...</td>\n",
       "      <td>123</td>\n",
       "      <td>...</td>\n",
       "      <td>2009-08-06</td>\n",
       "      <td>341</td>\n",
       "      <td>6.5</td>\n",
       "      <td>2009</td>\n",
       "      <td>89540499</td>\n",
       "      <td>8</td>\n",
       "      <td>13</td>\n",
       "      <td>2</td>\n",
       "      <td>[Julie, Julia]</td>\n",
       "      <td>[Julie, &amp;, Julia]</td>\n",
       "    </tr>\n",
       "    <tr>\n",
       "      <th>338</th>\n",
       "      <td>tt1013752</td>\n",
       "      <td>0.580292</td>\n",
       "      <td>85000000</td>\n",
       "      <td>363164265</td>\n",
       "      <td>Fast &amp; Furious</td>\n",
       "      <td>Vin Diesel|Paul Walker|Jordana Brewster|Michel...</td>\n",
       "      <td>Justin Lin</td>\n",
       "      <td>New Model. Original Parts.</td>\n",
       "      <td>When a crime brings them back to L.A., fugitiv...</td>\n",
       "      <td>107</td>\n",
       "      <td>...</td>\n",
       "      <td>2009-04-02</td>\n",
       "      <td>1661</td>\n",
       "      <td>6.4</td>\n",
       "      <td>2009</td>\n",
       "      <td>278164265</td>\n",
       "      <td>4</td>\n",
       "      <td>14</td>\n",
       "      <td>2</td>\n",
       "      <td>[Fast, Furious]</td>\n",
       "      <td>[Fast, &amp;, Furious]</td>\n",
       "    </tr>\n",
       "    <tr>\n",
       "      <th>397</th>\n",
       "      <td>tt0814255</td>\n",
       "      <td>1.878018</td>\n",
       "      <td>95000000</td>\n",
       "      <td>226497209</td>\n",
       "      <td>Percy Jackson &amp; the Olympians: The Lightning T...</td>\n",
       "      <td>Logan Lerman|Brandon T. Jackson|Alexandra Dadd...</td>\n",
       "      <td>Chris Columbus</td>\n",
       "      <td>Worlds Collide</td>\n",
       "      <td>Accident prone teenager, Percy discovers he's ...</td>\n",
       "      <td>118</td>\n",
       "      <td>...</td>\n",
       "      <td>2010-02-01</td>\n",
       "      <td>1175</td>\n",
       "      <td>6.0</td>\n",
       "      <td>2010</td>\n",
       "      <td>131497209</td>\n",
       "      <td>2</td>\n",
       "      <td>50</td>\n",
       "      <td>7</td>\n",
       "      <td>[Percy, Jackson, the, Olympians, The, Lightnin...</td>\n",
       "      <td>[Percy, Jackson, &amp;, the, Olympians:, The, Ligh...</td>\n",
       "    </tr>\n",
       "    <tr>\n",
       "      <th>414</th>\n",
       "      <td>tt0758752</td>\n",
       "      <td>1.365279</td>\n",
       "      <td>30000000</td>\n",
       "      <td>102820008</td>\n",
       "      <td>Love &amp; Other Drugs</td>\n",
       "      <td>Jake Gyllenhaal|Anne Hathaway|Oliver Platt|Han...</td>\n",
       "      <td>Edward Zwick</td>\n",
       "      <td>Addicted to one-night stands or dependent on o...</td>\n",
       "      <td>Maggie, an alluring free spirit who won't let ...</td>\n",
       "      <td>112</td>\n",
       "      <td>...</td>\n",
       "      <td>2010-11-22</td>\n",
       "      <td>756</td>\n",
       "      <td>6.5</td>\n",
       "      <td>2010</td>\n",
       "      <td>72820008</td>\n",
       "      <td>11</td>\n",
       "      <td>18</td>\n",
       "      <td>3</td>\n",
       "      <td>[Love, Other, Drugs]</td>\n",
       "      <td>[Love, &amp;, Other, Drugs]</td>\n",
       "    </tr>\n",
       "    <tr>\n",
       "      <th>466</th>\n",
       "      <td>tt1287468</td>\n",
       "      <td>0.655878</td>\n",
       "      <td>85000000</td>\n",
       "      <td>112483764</td>\n",
       "      <td>Cats &amp; Dogs 2 : The Revenge of Kitty Galore</td>\n",
       "      <td>James Marsden|Nick Nolte|Christina Applegate|B...</td>\n",
       "      <td>Brad Peyton</td>\n",
       "      <td>Just like real spies... only furrier.</td>\n",
       "      <td>The ongoing war between the canine and feline ...</td>\n",
       "      <td>82</td>\n",
       "      <td>...</td>\n",
       "      <td>2010-07-30</td>\n",
       "      <td>60</td>\n",
       "      <td>5.0</td>\n",
       "      <td>2010</td>\n",
       "      <td>27483764</td>\n",
       "      <td>7</td>\n",
       "      <td>43</td>\n",
       "      <td>8</td>\n",
       "      <td>[Cats, Dogs, 2, The, Revenge, of, Kitty, Galore]</td>\n",
       "      <td>[Cats, &amp;, Dogs, 2, :, The, Revenge, of, Kitty,...</td>\n",
       "    </tr>\n",
       "    <tr>\n",
       "      <th>492</th>\n",
       "      <td>tt1320239</td>\n",
       "      <td>0.246578</td>\n",
       "      <td>10000000</td>\n",
       "      <td>4349187</td>\n",
       "      <td>Burke &amp; Hare</td>\n",
       "      <td>Simon Pegg|Andy Serkis|Isla Fisher|Tom Wilkins...</td>\n",
       "      <td>John Landis</td>\n",
       "      <td>No Job Too Small. No Body Too Big. No Question...</td>\n",
       "      <td>Two 19th-century opportunists (Simon Pegg, And...</td>\n",
       "      <td>91</td>\n",
       "      <td>...</td>\n",
       "      <td>2010-10-29</td>\n",
       "      <td>75</td>\n",
       "      <td>6.0</td>\n",
       "      <td>2010</td>\n",
       "      <td>-5650813</td>\n",
       "      <td>10</td>\n",
       "      <td>12</td>\n",
       "      <td>2</td>\n",
       "      <td>[Burke, Hare]</td>\n",
       "      <td>[Burke, &amp;, Hare]</td>\n",
       "    </tr>\n",
       "    <tr>\n",
       "      <th>529</th>\n",
       "      <td>tt0239395</td>\n",
       "      <td>1.134012</td>\n",
       "      <td>60000000</td>\n",
       "      <td>93375151</td>\n",
       "      <td>Cats &amp; Dogs</td>\n",
       "      <td>Jeff Goldblum|Elizabeth Perkins|Alexander Poll...</td>\n",
       "      <td>Lawrence Guterman</td>\n",
       "      <td>Things Are Gonna Get Hairy!</td>\n",
       "      <td>When a professor develops a vaccine that elimi...</td>\n",
       "      <td>87</td>\n",
       "      <td>...</td>\n",
       "      <td>2001-07-04</td>\n",
       "      <td>182</td>\n",
       "      <td>5.0</td>\n",
       "      <td>2001</td>\n",
       "      <td>33375151</td>\n",
       "      <td>7</td>\n",
       "      <td>11</td>\n",
       "      <td>2</td>\n",
       "      <td>[Cats, Dogs]</td>\n",
       "      <td>[Cats, &amp;, Dogs]</td>\n",
       "    </tr>\n",
       "    <tr>\n",
       "      <th>596</th>\n",
       "      <td>tt0186589</td>\n",
       "      <td>0.263210</td>\n",
       "      <td>11000000</td>\n",
       "      <td>13276953</td>\n",
       "      <td>Sugar &amp; Spice</td>\n",
       "      <td>Marla Sokoloff|Marley Shelton|Melissa George|M...</td>\n",
       "      <td>Francine McDougall</td>\n",
       "      <td>Why would the most popular girl in school wear...</td>\n",
       "      <td>When Jack (James Marsden) and Diane (Marley Sh...</td>\n",
       "      <td>81</td>\n",
       "      <td>...</td>\n",
       "      <td>2001-01-24</td>\n",
       "      <td>31</td>\n",
       "      <td>5.4</td>\n",
       "      <td>2001</td>\n",
       "      <td>2276953</td>\n",
       "      <td>1</td>\n",
       "      <td>13</td>\n",
       "      <td>2</td>\n",
       "      <td>[Sugar, Spice]</td>\n",
       "      <td>[Sugar, &amp;, Spice]</td>\n",
       "    </tr>\n",
       "    <tr>\n",
       "      <th>639</th>\n",
       "      <td>tt0822832</td>\n",
       "      <td>1.462242</td>\n",
       "      <td>60000000</td>\n",
       "      <td>244082376</td>\n",
       "      <td>Marley &amp; Me</td>\n",
       "      <td>Owen Wilson|Jennifer Aniston|Eric Dane|Kathlee...</td>\n",
       "      <td>David Frankel</td>\n",
       "      <td>Heel the love</td>\n",
       "      <td>A newly married couple who, in the process of ...</td>\n",
       "      <td>115</td>\n",
       "      <td>...</td>\n",
       "      <td>2008-12-25</td>\n",
       "      <td>820</td>\n",
       "      <td>6.8</td>\n",
       "      <td>2008</td>\n",
       "      <td>184082376</td>\n",
       "      <td>12</td>\n",
       "      <td>11</td>\n",
       "      <td>2</td>\n",
       "      <td>[Marley, Me]</td>\n",
       "      <td>[Marley, &amp;, Me]</td>\n",
       "    </tr>\n",
       "    <tr>\n",
       "      <th>662</th>\n",
       "      <td>tt0481536</td>\n",
       "      <td>1.013770</td>\n",
       "      <td>12000000</td>\n",
       "      <td>43493123</td>\n",
       "      <td>Harold &amp; Kumar Escape from Guantanamo Bay</td>\n",
       "      <td>John Cho|Kal Penn|Neil Patrick Harris|Rob Cord...</td>\n",
       "      <td>Jon Hurwitz|Hayden Schlossberg</td>\n",
       "      <td>This time they're running from the joint.</td>\n",
       "      <td>Having satisfied their urge for White Castle, ...</td>\n",
       "      <td>107</td>\n",
       "      <td>...</td>\n",
       "      <td>2008-04-25</td>\n",
       "      <td>317</td>\n",
       "      <td>6.0</td>\n",
       "      <td>2008</td>\n",
       "      <td>31493123</td>\n",
       "      <td>4</td>\n",
       "      <td>41</td>\n",
       "      <td>6</td>\n",
       "      <td>[Harold, Kumar, Escape, from, Guantanamo, Bay]</td>\n",
       "      <td>[Harold, &amp;, Kumar, Escape, from, Guantanamo, Bay]</td>\n",
       "    </tr>\n",
       "    <tr>\n",
       "      <th>719</th>\n",
       "      <td>tt0455538</td>\n",
       "      <td>0.659884</td>\n",
       "      <td>27000000</td>\n",
       "      <td>17286299</td>\n",
       "      <td>How to Lose Friends &amp; Alienate People</td>\n",
       "      <td>Kelan Pannell|Janette Scott|Simon Pegg|Megan F...</td>\n",
       "      <td>Robert B. Weide</td>\n",
       "      <td>He's across the pond, and out of his depth.</td>\n",
       "      <td>A British writer struggles to fit in at a high...</td>\n",
       "      <td>110</td>\n",
       "      <td>...</td>\n",
       "      <td>2008-10-02</td>\n",
       "      <td>106</td>\n",
       "      <td>6.0</td>\n",
       "      <td>2008</td>\n",
       "      <td>-9713701</td>\n",
       "      <td>10</td>\n",
       "      <td>37</td>\n",
       "      <td>6</td>\n",
       "      <td>[How, to, Lose, Friends, Alienate, People]</td>\n",
       "      <td>[How, to, Lose, Friends, &amp;, Alienate, People]</td>\n",
       "    </tr>\n",
       "    <tr>\n",
       "      <th>758</th>\n",
       "      <td>tt0409847</td>\n",
       "      <td>1.640256</td>\n",
       "      <td>163000000</td>\n",
       "      <td>174822325</td>\n",
       "      <td>Cowboys &amp; Aliens</td>\n",
       "      <td>Daniel Craig|Olivia Wilde|Harrison Ford|Sam Ro...</td>\n",
       "      <td>Jon Favreau</td>\n",
       "      <td>First Contact. Last Stand.</td>\n",
       "      <td>A stranger stumbles into the desert town of Ab...</td>\n",
       "      <td>119</td>\n",
       "      <td>...</td>\n",
       "      <td>2011-07-29</td>\n",
       "      <td>1363</td>\n",
       "      <td>5.4</td>\n",
       "      <td>2011</td>\n",
       "      <td>11822325</td>\n",
       "      <td>7</td>\n",
       "      <td>16</td>\n",
       "      <td>2</td>\n",
       "      <td>[Cowboys, Aliens]</td>\n",
       "      <td>[Cowboys, &amp;, Aliens]</td>\n",
       "    </tr>\n",
       "    <tr>\n",
       "      <th>801</th>\n",
       "      <td>tt1268799</td>\n",
       "      <td>1.024786</td>\n",
       "      <td>19000000</td>\n",
       "      <td>35387212</td>\n",
       "      <td>A Very Harold &amp; Kumar Christmas</td>\n",
       "      <td>Neil Patrick Harris|John Cho|Elias Koteas|Dann...</td>\n",
       "      <td>Todd Strauss-Schulson</td>\n",
       "      <td>Christmas comes prematurely.</td>\n",
       "      <td>Six years have elapsed since Guantanamo Bay, l...</td>\n",
       "      <td>108</td>\n",
       "      <td>...</td>\n",
       "      <td>2011-11-04</td>\n",
       "      <td>186</td>\n",
       "      <td>6.0</td>\n",
       "      <td>2011</td>\n",
       "      <td>16387212</td>\n",
       "      <td>11</td>\n",
       "      <td>31</td>\n",
       "      <td>5</td>\n",
       "      <td>[A, Very, Harold, Kumar, Christmas]</td>\n",
       "      <td>[A, Very, Harold, &amp;, Kumar, Christmas]</td>\n",
       "    </tr>\n",
       "    <tr>\n",
       "      <th>813</th>\n",
       "      <td>tt0477302</td>\n",
       "      <td>0.907952</td>\n",
       "      <td>40000000</td>\n",
       "      <td>55247881</td>\n",
       "      <td>Extremely Loud &amp; Incredibly Close</td>\n",
       "      <td>Thomas Horn|Tom Hanks|Sandra Bullock|Max von S...</td>\n",
       "      <td>Stephen Daldry</td>\n",
       "      <td>This is not a story about September 11th, it's...</td>\n",
       "      <td>A year after his father's death, Oskar, a trou...</td>\n",
       "      <td>129</td>\n",
       "      <td>...</td>\n",
       "      <td>2011-12-24</td>\n",
       "      <td>463</td>\n",
       "      <td>7.0</td>\n",
       "      <td>2011</td>\n",
       "      <td>15247881</td>\n",
       "      <td>12</td>\n",
       "      <td>33</td>\n",
       "      <td>4</td>\n",
       "      <td>[Extremely, Loud, Incredibly, Close]</td>\n",
       "      <td>[Extremely, Loud, &amp;, Incredibly, Close]</td>\n",
       "    </tr>\n",
       "    <tr>\n",
       "      <th>819</th>\n",
       "      <td>tt0377981</td>\n",
       "      <td>0.827785</td>\n",
       "      <td>36000000</td>\n",
       "      <td>189712432</td>\n",
       "      <td>Gnomeo &amp; Juliet</td>\n",
       "      <td>James McAvoy|Michael Caine|Maggie Smith|Julie ...</td>\n",
       "      <td>Kelly Asbury</td>\n",
       "      <td>A little adventure goes a lawn way.</td>\n",
       "      <td>A version of Shakespeare's play, set in the wo...</td>\n",
       "      <td>84</td>\n",
       "      <td>...</td>\n",
       "      <td>2011-01-13</td>\n",
       "      <td>335</td>\n",
       "      <td>5.7</td>\n",
       "      <td>2011</td>\n",
       "      <td>153712432</td>\n",
       "      <td>1</td>\n",
       "      <td>15</td>\n",
       "      <td>2</td>\n",
       "      <td>[Gnomeo, Juliet]</td>\n",
       "      <td>[Gnomeo, &amp;, Juliet]</td>\n",
       "    </tr>\n",
       "    <tr>\n",
       "      <th>875</th>\n",
       "      <td>tt0275847</td>\n",
       "      <td>2.095296</td>\n",
       "      <td>80000000</td>\n",
       "      <td>145771527</td>\n",
       "      <td>Lilo &amp; Stitch</td>\n",
       "      <td>Chris Sanders|Daveigh Chase|Tia Carrere|David ...</td>\n",
       "      <td>Dean DeBlois|Chris Sanders</td>\n",
       "      <td>He's coming to our galaxy.</td>\n",
       "      <td>A lonely Hawaiian girl named Lilo is being rai...</td>\n",
       "      <td>85</td>\n",
       "      <td>...</td>\n",
       "      <td>2002-06-21</td>\n",
       "      <td>681</td>\n",
       "      <td>6.9</td>\n",
       "      <td>2002</td>\n",
       "      <td>65771527</td>\n",
       "      <td>6</td>\n",
       "      <td>13</td>\n",
       "      <td>2</td>\n",
       "      <td>[Lilo, Stitch]</td>\n",
       "      <td>[Lilo, &amp;, Stitch]</td>\n",
       "    </tr>\n",
       "    <tr>\n",
       "      <th>1122</th>\n",
       "      <td>tt0333780</td>\n",
       "      <td>1.118671</td>\n",
       "      <td>45000000</td>\n",
       "      <td>124914842</td>\n",
       "      <td>Legally Blonde 2: Red, White &amp; Blonde</td>\n",
       "      <td>Reese Witherspoon|Sally Field|Regina King|Jenn...</td>\n",
       "      <td>Charles Herman-Wurmfeld</td>\n",
       "      <td>Bigger. Bolder. Blonder.</td>\n",
       "      <td>After Elle Woods, the eternally perky, fashion...</td>\n",
       "      <td>95</td>\n",
       "      <td>...</td>\n",
       "      <td>2003-07-02</td>\n",
       "      <td>235</td>\n",
       "      <td>5.2</td>\n",
       "      <td>2003</td>\n",
       "      <td>79914842</td>\n",
       "      <td>7</td>\n",
       "      <td>37</td>\n",
       "      <td>6</td>\n",
       "      <td>[Legally, Blonde, 2, Red, White, Blonde]</td>\n",
       "      <td>[Legally, Blonde, 2:, Red,, White, &amp;, Blonde]</td>\n",
       "    </tr>\n",
       "    <tr>\n",
       "      <th>1175</th>\n",
       "      <td>tt0318283</td>\n",
       "      <td>0.143004</td>\n",
       "      <td>30000000</td>\n",
       "      <td>15368897</td>\n",
       "      <td>Alex &amp; Emma</td>\n",
       "      <td>Luke Wilson|Kate Hudson|Sophie Marceau|David P...</td>\n",
       "      <td>Rob Reiner</td>\n",
       "      <td>Is it love... or are they just imagining things?</td>\n",
       "      <td>Writer Alex Sheldon (Luke Wilson) must finish ...</td>\n",
       "      <td>96</td>\n",
       "      <td>...</td>\n",
       "      <td>2003-06-16</td>\n",
       "      <td>43</td>\n",
       "      <td>5.0</td>\n",
       "      <td>2003</td>\n",
       "      <td>-14631103</td>\n",
       "      <td>6</td>\n",
       "      <td>11</td>\n",
       "      <td>2</td>\n",
       "      <td>[Alex, Emma]</td>\n",
       "      <td>[Alex, &amp;, Emma]</td>\n",
       "    </tr>\n",
       "    <tr>\n",
       "      <th>1209</th>\n",
       "      <td>tt1428538</td>\n",
       "      <td>1.921070</td>\n",
       "      <td>50000000</td>\n",
       "      <td>224803475</td>\n",
       "      <td>Hansel &amp; Gretel: Witch Hunters</td>\n",
       "      <td>Jeremy Renner|Gemma Arterton|Famke Janssen|Pih...</td>\n",
       "      <td>Tommy Wirkola</td>\n",
       "      <td>Classic tale. New twist.</td>\n",
       "      <td>After getting a taste for blood as children, H...</td>\n",
       "      <td>88</td>\n",
       "      <td>...</td>\n",
       "      <td>2013-01-17</td>\n",
       "      <td>2564</td>\n",
       "      <td>5.7</td>\n",
       "      <td>2013</td>\n",
       "      <td>174803475</td>\n",
       "      <td>1</td>\n",
       "      <td>30</td>\n",
       "      <td>4</td>\n",
       "      <td>[Hansel, Gretel, Witch, Hunters]</td>\n",
       "      <td>[Hansel, &amp;, Gretel:, Witch, Hunters]</td>\n",
       "    </tr>\n",
       "    <tr>\n",
       "      <th>1256</th>\n",
       "      <td>tt1980209</td>\n",
       "      <td>1.075570</td>\n",
       "      <td>25000000</td>\n",
       "      <td>86175291</td>\n",
       "      <td>Pain &amp; Gain</td>\n",
       "      <td>Mark Wahlberg|Dwayne Johnson|Anthony Mackie|To...</td>\n",
       "      <td>Michael Bay</td>\n",
       "      <td>Their American dream is bigger than yours.</td>\n",
       "      <td>Danny Lupo, manager of the Sun Gym in 1990s Mi...</td>\n",
       "      <td>130</td>\n",
       "      <td>...</td>\n",
       "      <td>2013-04-18</td>\n",
       "      <td>1143</td>\n",
       "      <td>6.1</td>\n",
       "      <td>2013</td>\n",
       "      <td>61175291</td>\n",
       "      <td>4</td>\n",
       "      <td>11</td>\n",
       "      <td>2</td>\n",
       "      <td>[Pain, Gain]</td>\n",
       "      <td>[Pain, &amp;, Gain]</td>\n",
       "    </tr>\n",
       "    <tr>\n",
       "      <th>1263</th>\n",
       "      <td>tt1711425</td>\n",
       "      <td>1.010837</td>\n",
       "      <td>13000000</td>\n",
       "      <td>48065672</td>\n",
       "      <td>21 &amp; Over</td>\n",
       "      <td>Miles Teller|Skylar Astin|Justin Chon|Sarah Wr...</td>\n",
       "      <td>Scott Moore|Jon Lucas</td>\n",
       "      <td>Finally.</td>\n",
       "      <td>Brilliant student Jeff Chang has the most impo...</td>\n",
       "      <td>93</td>\n",
       "      <td>...</td>\n",
       "      <td>2013-03-01</td>\n",
       "      <td>594</td>\n",
       "      <td>5.7</td>\n",
       "      <td>2013</td>\n",
       "      <td>35065672</td>\n",
       "      <td>3</td>\n",
       "      <td>9</td>\n",
       "      <td>2</td>\n",
       "      <td>[21, Over]</td>\n",
       "      <td>[21, &amp;, Over]</td>\n",
       "    </tr>\n",
       "    <tr>\n",
       "      <th>1298</th>\n",
       "      <td>tt1905041</td>\n",
       "      <td>0.522347</td>\n",
       "      <td>160000000</td>\n",
       "      <td>788679850</td>\n",
       "      <td>Fast &amp; Furious 6</td>\n",
       "      <td>Paul Walker|Vin Diesel|Dwayne Johnson|Jordana ...</td>\n",
       "      <td>Justin Lin</td>\n",
       "      <td>All roads lead to this</td>\n",
       "      <td>Hobbs has Dominic and Brian reassemble their c...</td>\n",
       "      <td>130</td>\n",
       "      <td>...</td>\n",
       "      <td>2013-05-06</td>\n",
       "      <td>4368</td>\n",
       "      <td>6.6</td>\n",
       "      <td>2013</td>\n",
       "      <td>628679850</td>\n",
       "      <td>5</td>\n",
       "      <td>16</td>\n",
       "      <td>3</td>\n",
       "      <td>[Fast, Furious, 6]</td>\n",
       "      <td>[Fast, &amp;, Furious, 6]</td>\n",
       "    </tr>\n",
       "    <tr>\n",
       "      <th>1340</th>\n",
       "      <td>tt0414387</td>\n",
       "      <td>1.480854</td>\n",
       "      <td>28000000</td>\n",
       "      <td>121147947</td>\n",
       "      <td>Pride &amp; Prejudice</td>\n",
       "      <td>Keira Knightley|Matthew Macfadyen|Rosamund Pik...</td>\n",
       "      <td>Joe Wright</td>\n",
       "      <td>A romance ahead of its time.</td>\n",
       "      <td>Pride and Prejudice is a humorous story of lov...</td>\n",
       "      <td>128</td>\n",
       "      <td>...</td>\n",
       "      <td>2005-09-16</td>\n",
       "      <td>749</td>\n",
       "      <td>7.6</td>\n",
       "      <td>2005</td>\n",
       "      <td>93147947</td>\n",
       "      <td>9</td>\n",
       "      <td>17</td>\n",
       "      <td>2</td>\n",
       "      <td>[Pride, Prejudice]</td>\n",
       "      <td>[Pride, &amp;, Prejudice]</td>\n",
       "    </tr>\n",
       "    <tr>\n",
       "      <th>1345</th>\n",
       "      <td>tt0356910</td>\n",
       "      <td>1.330824</td>\n",
       "      <td>110000000</td>\n",
       "      <td>478207520</td>\n",
       "      <td>Mr. &amp; Mrs. Smith</td>\n",
       "      <td>Angelina Jolie|Brad Pitt|Vince Vaughn|Adam Bro...</td>\n",
       "      <td>Doug Liman</td>\n",
       "      <td>Smart and sexy.</td>\n",
       "      <td>After five (or six) years of vanilla-wedded bl...</td>\n",
       "      <td>120</td>\n",
       "      <td>...</td>\n",
       "      <td>2005-06-07</td>\n",
       "      <td>1750</td>\n",
       "      <td>6.5</td>\n",
       "      <td>2005</td>\n",
       "      <td>368207520</td>\n",
       "      <td>6</td>\n",
       "      <td>16</td>\n",
       "      <td>3</td>\n",
       "      <td>[Mr, Mrs, Smith]</td>\n",
       "      <td>[Mr., &amp;, Mrs., Smith]</td>\n",
       "    </tr>\n",
       "    <tr>\n",
       "      <th>1396</th>\n",
       "      <td>tt0384642</td>\n",
       "      <td>0.663861</td>\n",
       "      <td>45000000</td>\n",
       "      <td>56070433</td>\n",
       "      <td>Kicking &amp; Screaming</td>\n",
       "      <td>Will Ferrell|Robert Duvall|Kate Walsh|Musetta ...</td>\n",
       "      <td>Jesse Dylan</td>\n",
       "      <td>One man could lead this team to glory. . . Tha...</td>\n",
       "      <td>Phil Weston has been unathletic his entire lif...</td>\n",
       "      <td>95</td>\n",
       "      <td>...</td>\n",
       "      <td>2005-05-13</td>\n",
       "      <td>102</td>\n",
       "      <td>5.8</td>\n",
       "      <td>2005</td>\n",
       "      <td>11070433</td>\n",
       "      <td>5</td>\n",
       "      <td>19</td>\n",
       "      <td>2</td>\n",
       "      <td>[Kicking, Screaming]</td>\n",
       "      <td>[Kicking, &amp;, Screaming]</td>\n",
       "    </tr>\n",
       "    <tr>\n",
       "      <th>1423</th>\n",
       "      <td>tt0443295</td>\n",
       "      <td>0.405822</td>\n",
       "      <td>45000000</td>\n",
       "      <td>72028752</td>\n",
       "      <td>Yours, Mine &amp; Ours</td>\n",
       "      <td>Dennis Quaid|Rene Russo|Sean Faris|Katija Peve...</td>\n",
       "      <td>Raja Gosnell</td>\n",
       "      <td>18 kids, one house, no way.</td>\n",
       "      <td>Admiral Frank Beardsley returns to New London ...</td>\n",
       "      <td>90</td>\n",
       "      <td>...</td>\n",
       "      <td>2005-11-23</td>\n",
       "      <td>144</td>\n",
       "      <td>5.7</td>\n",
       "      <td>2005</td>\n",
       "      <td>27028752</td>\n",
       "      <td>11</td>\n",
       "      <td>18</td>\n",
       "      <td>3</td>\n",
       "      <td>[Yours, Mine, Ours]</td>\n",
       "      <td>[Yours,, Mine, &amp;, Ours]</td>\n",
       "    </tr>\n",
       "    <tr>\n",
       "      <th>1424</th>\n",
       "      <td>tt0410097</td>\n",
       "      <td>0.378070</td>\n",
       "      <td>8000000</td>\n",
       "      <td>22201636</td>\n",
       "      <td>Hustle &amp; Flow</td>\n",
       "      <td>Terrence Howard|Anthony Anderson|Taryn Manning...</td>\n",
       "      <td>Craig Brewer</td>\n",
       "      <td>The music will inspire them. The dream will un...</td>\n",
       "      <td>With help from his friends, a Memphis pimp in ...</td>\n",
       "      <td>116</td>\n",
       "      <td>...</td>\n",
       "      <td>2005-07-22</td>\n",
       "      <td>50</td>\n",
       "      <td>6.2</td>\n",
       "      <td>2005</td>\n",
       "      <td>14201636</td>\n",
       "      <td>7</td>\n",
       "      <td>13</td>\n",
       "      <td>2</td>\n",
       "      <td>[Hustle, Flow]</td>\n",
       "      <td>[Hustle, &amp;, Flow]</td>\n",
       "    </tr>\n",
       "    <tr>\n",
       "      <th>1480</th>\n",
       "      <td>tt0375154</td>\n",
       "      <td>1.109411</td>\n",
       "      <td>31000000</td>\n",
       "      <td>28000000</td>\n",
       "      <td>Tristan &amp; Isolde</td>\n",
       "      <td>James Franco|Sophia Myles|Rufus Sewell|David O...</td>\n",
       "      <td>Kevin Reynolds</td>\n",
       "      <td>Fighting countries can still love...</td>\n",
       "      <td>An affair between the second in line to Britai...</td>\n",
       "      <td>125</td>\n",
       "      <td>...</td>\n",
       "      <td>2006-04-07</td>\n",
       "      <td>123</td>\n",
       "      <td>6.2</td>\n",
       "      <td>2006</td>\n",
       "      <td>-3000000</td>\n",
       "      <td>4</td>\n",
       "      <td>16</td>\n",
       "      <td>2</td>\n",
       "      <td>[Tristan, Isolde]</td>\n",
       "      <td>[Tristan, &amp;, Isolde]</td>\n",
       "    </tr>\n",
       "    <tr>\n",
       "      <th>1603</th>\n",
       "      <td>tt0366551</td>\n",
       "      <td>1.318761</td>\n",
       "      <td>9000000</td>\n",
       "      <td>23936908</td>\n",
       "      <td>Harold &amp; Kumar Go to White Castle</td>\n",
       "      <td>John Cho|Kal Penn|Paula GarcÃ©s|Neil Patrick H...</td>\n",
       "      <td>Danny Leiner</td>\n",
       "      <td>Fast Food. High Times.</td>\n",
       "      <td>Sometimes, it takes a strange night to put eve...</td>\n",
       "      <td>88</td>\n",
       "      <td>...</td>\n",
       "      <td>2004-05-30</td>\n",
       "      <td>414</td>\n",
       "      <td>6.4</td>\n",
       "      <td>2004</td>\n",
       "      <td>14936908</td>\n",
       "      <td>5</td>\n",
       "      <td>33</td>\n",
       "      <td>6</td>\n",
       "      <td>[Harold, Kumar, Go, to, White, Castle]</td>\n",
       "      <td>[Harold, &amp;, Kumar, Go, to, White, Castle]</td>\n",
       "    </tr>\n",
       "    <tr>\n",
       "      <th>1636</th>\n",
       "      <td>tt0335438</td>\n",
       "      <td>0.679997</td>\n",
       "      <td>60000000</td>\n",
       "      <td>170268750</td>\n",
       "      <td>Starsky &amp; Hutch</td>\n",
       "      <td>Ben Stiller|Owen Wilson|Snoop Dogg|Fred Willia...</td>\n",
       "      <td>Todd Phillips</td>\n",
       "      <td>They're the man.</td>\n",
       "      <td>Join uptight David Starsky and laid-back Ken \"...</td>\n",
       "      <td>101</td>\n",
       "      <td>...</td>\n",
       "      <td>2004-03-05</td>\n",
       "      <td>368</td>\n",
       "      <td>5.5</td>\n",
       "      <td>2004</td>\n",
       "      <td>110268750</td>\n",
       "      <td>3</td>\n",
       "      <td>15</td>\n",
       "      <td>2</td>\n",
       "      <td>[Starsky, Hutch]</td>\n",
       "      <td>[Starsky, &amp;, Hutch]</td>\n",
       "    </tr>\n",
       "    <tr>\n",
       "      <th>1722</th>\n",
       "      <td>tt0762107</td>\n",
       "      <td>1.097810</td>\n",
       "      <td>85000000</td>\n",
       "      <td>186072214</td>\n",
       "      <td>I Now Pronounce You Chuck &amp; Larry</td>\n",
       "      <td>Adam Sandler|Kevin James|Jessica Biel|Dan Aykr...</td>\n",
       "      <td>Dennis Dugan</td>\n",
       "      <td>They're as straight as can be, but don't tell ...</td>\n",
       "      <td>Firefighters Chuck Ford and Larry Valentine ar...</td>\n",
       "      <td>115</td>\n",
       "      <td>...</td>\n",
       "      <td>2007-07-12</td>\n",
       "      <td>368</td>\n",
       "      <td>5.9</td>\n",
       "      <td>2007</td>\n",
       "      <td>101072214</td>\n",
       "      <td>7</td>\n",
       "      <td>33</td>\n",
       "      <td>6</td>\n",
       "      <td>[I, Now, Pronounce, You, Chuck, Larry]</td>\n",
       "      <td>[I, Now, Pronounce, You, Chuck, &amp;, Larry]</td>\n",
       "    </tr>\n",
       "    <tr>\n",
       "      <th>1842</th>\n",
       "      <td>tt0183505</td>\n",
       "      <td>0.783530</td>\n",
       "      <td>51000000</td>\n",
       "      <td>149270999</td>\n",
       "      <td>Me, Myself &amp; Irene</td>\n",
       "      <td>Jim Carrey|RenÃ©e Zellweger|Anthony Anderson|R...</td>\n",
       "      <td>Peter Farrelly|Bobby Farrelly</td>\n",
       "      <td>From gentle to mental.</td>\n",
       "      <td>Rhode Island State Trooper Charlie Baileygates...</td>\n",
       "      <td>116</td>\n",
       "      <td>...</td>\n",
       "      <td>2000-06-22</td>\n",
       "      <td>521</td>\n",
       "      <td>5.9</td>\n",
       "      <td>2000</td>\n",
       "      <td>98270999</td>\n",
       "      <td>6</td>\n",
       "      <td>18</td>\n",
       "      <td>3</td>\n",
       "      <td>[Me, Myself, Irene]</td>\n",
       "      <td>[Me,, Myself, &amp;, Irene]</td>\n",
       "    </tr>\n",
       "    <tr>\n",
       "      <th>1878</th>\n",
       "      <td>tt0199725</td>\n",
       "      <td>0.324003</td>\n",
       "      <td>20000000</td>\n",
       "      <td>27728118</td>\n",
       "      <td>Love &amp; Basketball</td>\n",
       "      <td>Chris Warren, Jr.|Kyla Pratt|Sanaa Lathan|Omar...</td>\n",
       "      <td>Gina Prince-Bythewood</td>\n",
       "      <td>All's fair in love and basketball.</td>\n",
       "      <td>A young African-American couple navigates the ...</td>\n",
       "      <td>124</td>\n",
       "      <td>...</td>\n",
       "      <td>2000-04-21</td>\n",
       "      <td>54</td>\n",
       "      <td>7.3</td>\n",
       "      <td>2000</td>\n",
       "      <td>7728118</td>\n",
       "      <td>4</td>\n",
       "      <td>17</td>\n",
       "      <td>2</td>\n",
       "      <td>[Love, Basketball]</td>\n",
       "      <td>[Love, &amp;, Basketball]</td>\n",
       "    </tr>\n",
       "    <tr>\n",
       "      <th>1881</th>\n",
       "      <td>tt0190374</td>\n",
       "      <td>0.284476</td>\n",
       "      <td>35000000</td>\n",
       "      <td>15185241</td>\n",
       "      <td>Dungeons &amp; Dragons</td>\n",
       "      <td>Justin Whalin|Jeremy Irons|Thora Birch|Bruce P...</td>\n",
       "      <td>Courtney Solomon</td>\n",
       "      <td>This is no game.</td>\n",
       "      <td>The classic role-playing game comes to life in...</td>\n",
       "      <td>107</td>\n",
       "      <td>...</td>\n",
       "      <td>2000-12-08</td>\n",
       "      <td>86</td>\n",
       "      <td>3.9</td>\n",
       "      <td>2000</td>\n",
       "      <td>-19814759</td>\n",
       "      <td>12</td>\n",
       "      <td>18</td>\n",
       "      <td>2</td>\n",
       "      <td>[Dungeons, Dragons]</td>\n",
       "      <td>[Dungeons, &amp;, Dragons]</td>\n",
       "    </tr>\n",
       "    <tr>\n",
       "      <th>1887</th>\n",
       "      <td>tt0131704</td>\n",
       "      <td>0.104908</td>\n",
       "      <td>76000000</td>\n",
       "      <td>35134820</td>\n",
       "      <td>The Adventures of Rocky &amp; Bullwinkle</td>\n",
       "      <td>Rene Russo|Jason Alexander|Piper Perabo|Randy ...</td>\n",
       "      <td>Des McAnuff</td>\n",
       "      <td>This summer it's not the same old bull.</td>\n",
       "      <td>Rocky and Bullwinkle have been living off the ...</td>\n",
       "      <td>88</td>\n",
       "      <td>...</td>\n",
       "      <td>2000-06-30</td>\n",
       "      <td>35</td>\n",
       "      <td>4.0</td>\n",
       "      <td>2000</td>\n",
       "      <td>-40865180</td>\n",
       "      <td>6</td>\n",
       "      <td>36</td>\n",
       "      <td>5</td>\n",
       "      <td>[The, Adventures, of, Rocky, Bullwinkle]</td>\n",
       "      <td>[The, Adventures, of, Rocky, &amp;, Bullwinkle]</td>\n",
       "    </tr>\n",
       "  </tbody>\n",
       "</table>\n",
       "<p>38 rows × 22 columns</p>\n",
       "</div>"
      ],
      "text/plain": [
       "        imdb_id  popularity     budget    revenue  \\\n",
       "186   tt0864835    1.894706  145000000  272912430   \n",
       "203   tt2980706    1.240895   50000000  151165787   \n",
       "253   tt0808151    2.841562  150000000  356613439   \n",
       "288   tt1135503    1.149370   40000000  129540499   \n",
       "338   tt1013752    0.580292   85000000  363164265   \n",
       "397   tt0814255    1.878018   95000000  226497209   \n",
       "414   tt0758752    1.365279   30000000  102820008   \n",
       "466   tt1287468    0.655878   85000000  112483764   \n",
       "492   tt1320239    0.246578   10000000    4349187   \n",
       "529   tt0239395    1.134012   60000000   93375151   \n",
       "596   tt0186589    0.263210   11000000   13276953   \n",
       "639   tt0822832    1.462242   60000000  244082376   \n",
       "662   tt0481536    1.013770   12000000   43493123   \n",
       "719   tt0455538    0.659884   27000000   17286299   \n",
       "758   tt0409847    1.640256  163000000  174822325   \n",
       "801   tt1268799    1.024786   19000000   35387212   \n",
       "813   tt0477302    0.907952   40000000   55247881   \n",
       "819   tt0377981    0.827785   36000000  189712432   \n",
       "875   tt0275847    2.095296   80000000  145771527   \n",
       "1122  tt0333780    1.118671   45000000  124914842   \n",
       "1175  tt0318283    0.143004   30000000   15368897   \n",
       "1209  tt1428538    1.921070   50000000  224803475   \n",
       "1256  tt1980209    1.075570   25000000   86175291   \n",
       "1263  tt1711425    1.010837   13000000   48065672   \n",
       "1298  tt1905041    0.522347  160000000  788679850   \n",
       "1340  tt0414387    1.480854   28000000  121147947   \n",
       "1345  tt0356910    1.330824  110000000  478207520   \n",
       "1396  tt0384642    0.663861   45000000   56070433   \n",
       "1423  tt0443295    0.405822   45000000   72028752   \n",
       "1424  tt0410097    0.378070    8000000   22201636   \n",
       "1480  tt0375154    1.109411   31000000   28000000   \n",
       "1603  tt0366551    1.318761    9000000   23936908   \n",
       "1636  tt0335438    0.679997   60000000  170268750   \n",
       "1722  tt0762107    1.097810   85000000  186072214   \n",
       "1842  tt0183505    0.783530   51000000  149270999   \n",
       "1878  tt0199725    0.324003   20000000   27728118   \n",
       "1881  tt0190374    0.284476   35000000   15185241   \n",
       "1887  tt0131704    0.104908   76000000   35134820   \n",
       "\n",
       "                                         original_title  \\\n",
       "186                               Mr. Peabody & Sherman   \n",
       "203                               Planes: Fire & Rescue   \n",
       "253                                     Angels & Demons   \n",
       "288                                       Julie & Julia   \n",
       "338                                      Fast & Furious   \n",
       "397   Percy Jackson & the Olympians: The Lightning T...   \n",
       "414                                  Love & Other Drugs   \n",
       "466         Cats & Dogs 2 : The Revenge of Kitty Galore   \n",
       "492                                        Burke & Hare   \n",
       "529                                         Cats & Dogs   \n",
       "596                                       Sugar & Spice   \n",
       "639                                         Marley & Me   \n",
       "662           Harold & Kumar Escape from Guantanamo Bay   \n",
       "719               How to Lose Friends & Alienate People   \n",
       "758                                    Cowboys & Aliens   \n",
       "801                     A Very Harold & Kumar Christmas   \n",
       "813                   Extremely Loud & Incredibly Close   \n",
       "819                                     Gnomeo & Juliet   \n",
       "875                                       Lilo & Stitch   \n",
       "1122              Legally Blonde 2: Red, White & Blonde   \n",
       "1175                                        Alex & Emma   \n",
       "1209                     Hansel & Gretel: Witch Hunters   \n",
       "1256                                        Pain & Gain   \n",
       "1263                                          21 & Over   \n",
       "1298                                   Fast & Furious 6   \n",
       "1340                                  Pride & Prejudice   \n",
       "1345                                   Mr. & Mrs. Smith   \n",
       "1396                                Kicking & Screaming   \n",
       "1423                                 Yours, Mine & Ours   \n",
       "1424                                      Hustle & Flow   \n",
       "1480                                   Tristan & Isolde   \n",
       "1603                  Harold & Kumar Go to White Castle   \n",
       "1636                                    Starsky & Hutch   \n",
       "1722                  I Now Pronounce You Chuck & Larry   \n",
       "1842                                 Me, Myself & Irene   \n",
       "1878                                  Love & Basketball   \n",
       "1881                                 Dungeons & Dragons   \n",
       "1887               The Adventures of Rocky & Bullwinkle   \n",
       "\n",
       "                                                   cast  \\\n",
       "186   Ty Burrell|Max Charles|Ariel Winter|Allison Ja...   \n",
       "203   Dane Cook|Ed Harris|Julie Bowen|Curtis Armstro...   \n",
       "253   Tom Hanks|Ewan McGregor|Ayelet Zurer|Stellan S...   \n",
       "288   Meryl Streep|Amy Adams|Stanley Tucci|Chris Mes...   \n",
       "338   Vin Diesel|Paul Walker|Jordana Brewster|Michel...   \n",
       "397   Logan Lerman|Brandon T. Jackson|Alexandra Dadd...   \n",
       "414   Jake Gyllenhaal|Anne Hathaway|Oliver Platt|Han...   \n",
       "466   James Marsden|Nick Nolte|Christina Applegate|B...   \n",
       "492   Simon Pegg|Andy Serkis|Isla Fisher|Tom Wilkins...   \n",
       "529   Jeff Goldblum|Elizabeth Perkins|Alexander Poll...   \n",
       "596   Marla Sokoloff|Marley Shelton|Melissa George|M...   \n",
       "639   Owen Wilson|Jennifer Aniston|Eric Dane|Kathlee...   \n",
       "662   John Cho|Kal Penn|Neil Patrick Harris|Rob Cord...   \n",
       "719   Kelan Pannell|Janette Scott|Simon Pegg|Megan F...   \n",
       "758   Daniel Craig|Olivia Wilde|Harrison Ford|Sam Ro...   \n",
       "801   Neil Patrick Harris|John Cho|Elias Koteas|Dann...   \n",
       "813   Thomas Horn|Tom Hanks|Sandra Bullock|Max von S...   \n",
       "819   James McAvoy|Michael Caine|Maggie Smith|Julie ...   \n",
       "875   Chris Sanders|Daveigh Chase|Tia Carrere|David ...   \n",
       "1122  Reese Witherspoon|Sally Field|Regina King|Jenn...   \n",
       "1175  Luke Wilson|Kate Hudson|Sophie Marceau|David P...   \n",
       "1209  Jeremy Renner|Gemma Arterton|Famke Janssen|Pih...   \n",
       "1256  Mark Wahlberg|Dwayne Johnson|Anthony Mackie|To...   \n",
       "1263  Miles Teller|Skylar Astin|Justin Chon|Sarah Wr...   \n",
       "1298  Paul Walker|Vin Diesel|Dwayne Johnson|Jordana ...   \n",
       "1340  Keira Knightley|Matthew Macfadyen|Rosamund Pik...   \n",
       "1345  Angelina Jolie|Brad Pitt|Vince Vaughn|Adam Bro...   \n",
       "1396  Will Ferrell|Robert Duvall|Kate Walsh|Musetta ...   \n",
       "1423  Dennis Quaid|Rene Russo|Sean Faris|Katija Peve...   \n",
       "1424  Terrence Howard|Anthony Anderson|Taryn Manning...   \n",
       "1480  James Franco|Sophia Myles|Rufus Sewell|David O...   \n",
       "1603  John Cho|Kal Penn|Paula GarcÃ©s|Neil Patrick H...   \n",
       "1636  Ben Stiller|Owen Wilson|Snoop Dogg|Fred Willia...   \n",
       "1722  Adam Sandler|Kevin James|Jessica Biel|Dan Aykr...   \n",
       "1842  Jim Carrey|RenÃ©e Zellweger|Anthony Anderson|R...   \n",
       "1878  Chris Warren, Jr.|Kyla Pratt|Sanaa Lathan|Omar...   \n",
       "1881  Justin Whalin|Jeremy Irons|Thora Birch|Bruce P...   \n",
       "1887  Rene Russo|Jason Alexander|Piper Perabo|Randy ...   \n",
       "\n",
       "                            director  \\\n",
       "186                      Rob Minkoff   \n",
       "203                 Roberts Gannaway   \n",
       "253                       Ron Howard   \n",
       "288                      Nora Ephron   \n",
       "338                       Justin Lin   \n",
       "397                   Chris Columbus   \n",
       "414                     Edward Zwick   \n",
       "466                      Brad Peyton   \n",
       "492                      John Landis   \n",
       "529                Lawrence Guterman   \n",
       "596               Francine McDougall   \n",
       "639                    David Frankel   \n",
       "662   Jon Hurwitz|Hayden Schlossberg   \n",
       "719                  Robert B. Weide   \n",
       "758                      Jon Favreau   \n",
       "801            Todd Strauss-Schulson   \n",
       "813                   Stephen Daldry   \n",
       "819                     Kelly Asbury   \n",
       "875       Dean DeBlois|Chris Sanders   \n",
       "1122         Charles Herman-Wurmfeld   \n",
       "1175                      Rob Reiner   \n",
       "1209                   Tommy Wirkola   \n",
       "1256                     Michael Bay   \n",
       "1263           Scott Moore|Jon Lucas   \n",
       "1298                      Justin Lin   \n",
       "1340                      Joe Wright   \n",
       "1345                      Doug Liman   \n",
       "1396                     Jesse Dylan   \n",
       "1423                    Raja Gosnell   \n",
       "1424                    Craig Brewer   \n",
       "1480                  Kevin Reynolds   \n",
       "1603                    Danny Leiner   \n",
       "1636                   Todd Phillips   \n",
       "1722                    Dennis Dugan   \n",
       "1842   Peter Farrelly|Bobby Farrelly   \n",
       "1878           Gina Prince-Bythewood   \n",
       "1881                Courtney Solomon   \n",
       "1887                     Des McAnuff   \n",
       "\n",
       "                                                tagline  \\\n",
       "186                    He's Leaving His Mark On History   \n",
       "203                 When others fly out, heroes fly in.   \n",
       "253   The holiest event of our time. Perfect for the...   \n",
       "288                           Based on Two True Stories   \n",
       "338                          New Model. Original Parts.   \n",
       "397                                      Worlds Collide   \n",
       "414   Addicted to one-night stands or dependent on o...   \n",
       "466               Just like real spies... only furrier.   \n",
       "492   No Job Too Small. No Body Too Big. No Question...   \n",
       "529                         Things Are Gonna Get Hairy!   \n",
       "596   Why would the most popular girl in school wear...   \n",
       "639                                       Heel the love   \n",
       "662           This time they're running from the joint.   \n",
       "719         He's across the pond, and out of his depth.   \n",
       "758                          First Contact. Last Stand.   \n",
       "801                        Christmas comes prematurely.   \n",
       "813   This is not a story about September 11th, it's...   \n",
       "819                 A little adventure goes a lawn way.   \n",
       "875                          He's coming to our galaxy.   \n",
       "1122                           Bigger. Bolder. Blonder.   \n",
       "1175   Is it love... or are they just imagining things?   \n",
       "1209                           Classic tale. New twist.   \n",
       "1256         Their American dream is bigger than yours.   \n",
       "1263                                           Finally.   \n",
       "1298                             All roads lead to this   \n",
       "1340                       A romance ahead of its time.   \n",
       "1345                                    Smart and sexy.   \n",
       "1396  One man could lead this team to glory. . . Tha...   \n",
       "1423                        18 kids, one house, no way.   \n",
       "1424  The music will inspire them. The dream will un...   \n",
       "1480               Fighting countries can still love...   \n",
       "1603                             Fast Food. High Times.   \n",
       "1636                                   They're the man.   \n",
       "1722  They're as straight as can be, but don't tell ...   \n",
       "1842                             From gentle to mental.   \n",
       "1878                 All's fair in love and basketball.   \n",
       "1881                                   This is no game.   \n",
       "1887            This summer it's not the same old bull.   \n",
       "\n",
       "                                               overview  runtime  ...  \\\n",
       "186   A young boy and his dog, who happens to have a...       92  ...   \n",
       "203   When world-famous air racer Dusty learns that ...       83  ...   \n",
       "253   Harvard symbologist Robert Langdon investigate...      138  ...   \n",
       "288   Julia Child and Julie Powell â€“ both of whom ...      123  ...   \n",
       "338   When a crime brings them back to L.A., fugitiv...      107  ...   \n",
       "397   Accident prone teenager, Percy discovers he's ...      118  ...   \n",
       "414   Maggie, an alluring free spirit who won't let ...      112  ...   \n",
       "466   The ongoing war between the canine and feline ...       82  ...   \n",
       "492   Two 19th-century opportunists (Simon Pegg, And...       91  ...   \n",
       "529   When a professor develops a vaccine that elimi...       87  ...   \n",
       "596   When Jack (James Marsden) and Diane (Marley Sh...       81  ...   \n",
       "639   A newly married couple who, in the process of ...      115  ...   \n",
       "662   Having satisfied their urge for White Castle, ...      107  ...   \n",
       "719   A British writer struggles to fit in at a high...      110  ...   \n",
       "758   A stranger stumbles into the desert town of Ab...      119  ...   \n",
       "801   Six years have elapsed since Guantanamo Bay, l...      108  ...   \n",
       "813   A year after his father's death, Oskar, a trou...      129  ...   \n",
       "819   A version of Shakespeare's play, set in the wo...       84  ...   \n",
       "875   A lonely Hawaiian girl named Lilo is being rai...       85  ...   \n",
       "1122  After Elle Woods, the eternally perky, fashion...       95  ...   \n",
       "1175  Writer Alex Sheldon (Luke Wilson) must finish ...       96  ...   \n",
       "1209  After getting a taste for blood as children, H...       88  ...   \n",
       "1256  Danny Lupo, manager of the Sun Gym in 1990s Mi...      130  ...   \n",
       "1263  Brilliant student Jeff Chang has the most impo...       93  ...   \n",
       "1298  Hobbs has Dominic and Brian reassemble their c...      130  ...   \n",
       "1340  Pride and Prejudice is a humorous story of lov...      128  ...   \n",
       "1345  After five (or six) years of vanilla-wedded bl...      120  ...   \n",
       "1396  Phil Weston has been unathletic his entire lif...       95  ...   \n",
       "1423  Admiral Frank Beardsley returns to New London ...       90  ...   \n",
       "1424  With help from his friends, a Memphis pimp in ...      116  ...   \n",
       "1480  An affair between the second in line to Britai...      125  ...   \n",
       "1603  Sometimes, it takes a strange night to put eve...       88  ...   \n",
       "1636  Join uptight David Starsky and laid-back Ken \"...      101  ...   \n",
       "1722  Firefighters Chuck Ford and Larry Valentine ar...      115  ...   \n",
       "1842  Rhode Island State Trooper Charlie Baileygates...      116  ...   \n",
       "1878  A young African-American couple navigates the ...      124  ...   \n",
       "1881  The classic role-playing game comes to life in...      107  ...   \n",
       "1887  Rocky and Bullwinkle have been living off the ...       88  ...   \n",
       "\n",
       "     release_date vote_count vote_average  release_year     profit  \\\n",
       "186    2014-02-07        592          6.8          2014  127912430   \n",
       "203    2014-07-17        223          5.9          2014  101165787   \n",
       "253    2009-05-13       1275          6.3          2009  206613439   \n",
       "288    2009-08-06        341          6.5          2009   89540499   \n",
       "338    2009-04-02       1661          6.4          2009  278164265   \n",
       "397    2010-02-01       1175          6.0          2010  131497209   \n",
       "414    2010-11-22        756          6.5          2010   72820008   \n",
       "466    2010-07-30         60          5.0          2010   27483764   \n",
       "492    2010-10-29         75          6.0          2010   -5650813   \n",
       "529    2001-07-04        182          5.0          2001   33375151   \n",
       "596    2001-01-24         31          5.4          2001    2276953   \n",
       "639    2008-12-25        820          6.8          2008  184082376   \n",
       "662    2008-04-25        317          6.0          2008   31493123   \n",
       "719    2008-10-02        106          6.0          2008   -9713701   \n",
       "758    2011-07-29       1363          5.4          2011   11822325   \n",
       "801    2011-11-04        186          6.0          2011   16387212   \n",
       "813    2011-12-24        463          7.0          2011   15247881   \n",
       "819    2011-01-13        335          5.7          2011  153712432   \n",
       "875    2002-06-21        681          6.9          2002   65771527   \n",
       "1122   2003-07-02        235          5.2          2003   79914842   \n",
       "1175   2003-06-16         43          5.0          2003  -14631103   \n",
       "1209   2013-01-17       2564          5.7          2013  174803475   \n",
       "1256   2013-04-18       1143          6.1          2013   61175291   \n",
       "1263   2013-03-01        594          5.7          2013   35065672   \n",
       "1298   2013-05-06       4368          6.6          2013  628679850   \n",
       "1340   2005-09-16        749          7.6          2005   93147947   \n",
       "1345   2005-06-07       1750          6.5          2005  368207520   \n",
       "1396   2005-05-13        102          5.8          2005   11070433   \n",
       "1423   2005-11-23        144          5.7          2005   27028752   \n",
       "1424   2005-07-22         50          6.2          2005   14201636   \n",
       "1480   2006-04-07        123          6.2          2006   -3000000   \n",
       "1603   2004-05-30        414          6.4          2004   14936908   \n",
       "1636   2004-03-05        368          5.5          2004  110268750   \n",
       "1722   2007-07-12        368          5.9          2007  101072214   \n",
       "1842   2000-06-22        521          5.9          2000   98270999   \n",
       "1878   2000-04-21         54          7.3          2000    7728118   \n",
       "1881   2000-12-08         86          3.9          2000  -19814759   \n",
       "1887   2000-06-30         35          4.0          2000  -40865180   \n",
       "\n",
       "      release_month  length_title  word_count_title  \\\n",
       "186               2            21                 3   \n",
       "203               7            21                 3   \n",
       "253               5            15                 2   \n",
       "288               8            13                 2   \n",
       "338               4            14                 2   \n",
       "397               2            50                 7   \n",
       "414              11            18                 3   \n",
       "466               7            43                 8   \n",
       "492              10            12                 2   \n",
       "529               7            11                 2   \n",
       "596               1            13                 2   \n",
       "639              12            11                 2   \n",
       "662               4            41                 6   \n",
       "719              10            37                 6   \n",
       "758               7            16                 2   \n",
       "801              11            31                 5   \n",
       "813              12            33                 4   \n",
       "819               1            15                 2   \n",
       "875               6            13                 2   \n",
       "1122              7            37                 6   \n",
       "1175              6            11                 2   \n",
       "1209              1            30                 4   \n",
       "1256              4            11                 2   \n",
       "1263              3             9                 2   \n",
       "1298              5            16                 3   \n",
       "1340              9            17                 2   \n",
       "1345              6            16                 3   \n",
       "1396              5            19                 2   \n",
       "1423             11            18                 3   \n",
       "1424              7            13                 2   \n",
       "1480              4            16                 2   \n",
       "1603              5            33                 6   \n",
       "1636              3            15                 2   \n",
       "1722              7            33                 6   \n",
       "1842              6            18                 3   \n",
       "1878              4            17                 2   \n",
       "1881             12            18                 2   \n",
       "1887              6            36                 5   \n",
       "\n",
       "                                             word_title  \\\n",
       "186                              [Mr, Peabody, Sherman]   \n",
       "203                              [Planes, Fire, Rescue]   \n",
       "253                                    [Angels, Demons]   \n",
       "288                                      [Julie, Julia]   \n",
       "338                                     [Fast, Furious]   \n",
       "397   [Percy, Jackson, the, Olympians, The, Lightnin...   \n",
       "414                                [Love, Other, Drugs]   \n",
       "466    [Cats, Dogs, 2, The, Revenge, of, Kitty, Galore]   \n",
       "492                                       [Burke, Hare]   \n",
       "529                                        [Cats, Dogs]   \n",
       "596                                      [Sugar, Spice]   \n",
       "639                                        [Marley, Me]   \n",
       "662      [Harold, Kumar, Escape, from, Guantanamo, Bay]   \n",
       "719          [How, to, Lose, Friends, Alienate, People]   \n",
       "758                                   [Cowboys, Aliens]   \n",
       "801                 [A, Very, Harold, Kumar, Christmas]   \n",
       "813                [Extremely, Loud, Incredibly, Close]   \n",
       "819                                    [Gnomeo, Juliet]   \n",
       "875                                      [Lilo, Stitch]   \n",
       "1122           [Legally, Blonde, 2, Red, White, Blonde]   \n",
       "1175                                       [Alex, Emma]   \n",
       "1209                   [Hansel, Gretel, Witch, Hunters]   \n",
       "1256                                       [Pain, Gain]   \n",
       "1263                                         [21, Over]   \n",
       "1298                                 [Fast, Furious, 6]   \n",
       "1340                                 [Pride, Prejudice]   \n",
       "1345                                   [Mr, Mrs, Smith]   \n",
       "1396                               [Kicking, Screaming]   \n",
       "1423                                [Yours, Mine, Ours]   \n",
       "1424                                     [Hustle, Flow]   \n",
       "1480                                  [Tristan, Isolde]   \n",
       "1603             [Harold, Kumar, Go, to, White, Castle]   \n",
       "1636                                   [Starsky, Hutch]   \n",
       "1722             [I, Now, Pronounce, You, Chuck, Larry]   \n",
       "1842                                [Me, Myself, Irene]   \n",
       "1878                                 [Love, Basketball]   \n",
       "1881                                [Dungeons, Dragons]   \n",
       "1887           [The, Adventures, of, Rocky, Bullwinkle]   \n",
       "\n",
       "                                            word_title2  \n",
       "186                          [Mr., Peabody, &, Sherman]  \n",
       "203                          [Planes:, Fire, &, Rescue]  \n",
       "253                                 [Angels, &, Demons]  \n",
       "288                                   [Julie, &, Julia]  \n",
       "338                                  [Fast, &, Furious]  \n",
       "397   [Percy, Jackson, &, the, Olympians:, The, Ligh...  \n",
       "414                             [Love, &, Other, Drugs]  \n",
       "466   [Cats, &, Dogs, 2, :, The, Revenge, of, Kitty,...  \n",
       "492                                    [Burke, &, Hare]  \n",
       "529                                     [Cats, &, Dogs]  \n",
       "596                                   [Sugar, &, Spice]  \n",
       "639                                     [Marley, &, Me]  \n",
       "662   [Harold, &, Kumar, Escape, from, Guantanamo, Bay]  \n",
       "719       [How, to, Lose, Friends, &, Alienate, People]  \n",
       "758                                [Cowboys, &, Aliens]  \n",
       "801              [A, Very, Harold, &, Kumar, Christmas]  \n",
       "813             [Extremely, Loud, &, Incredibly, Close]  \n",
       "819                                 [Gnomeo, &, Juliet]  \n",
       "875                                   [Lilo, &, Stitch]  \n",
       "1122      [Legally, Blonde, 2:, Red,, White, &, Blonde]  \n",
       "1175                                    [Alex, &, Emma]  \n",
       "1209               [Hansel, &, Gretel:, Witch, Hunters]  \n",
       "1256                                    [Pain, &, Gain]  \n",
       "1263                                      [21, &, Over]  \n",
       "1298                              [Fast, &, Furious, 6]  \n",
       "1340                              [Pride, &, Prejudice]  \n",
       "1345                              [Mr., &, Mrs., Smith]  \n",
       "1396                            [Kicking, &, Screaming]  \n",
       "1423                            [Yours,, Mine, &, Ours]  \n",
       "1424                                  [Hustle, &, Flow]  \n",
       "1480                               [Tristan, &, Isolde]  \n",
       "1603          [Harold, &, Kumar, Go, to, White, Castle]  \n",
       "1636                                [Starsky, &, Hutch]  \n",
       "1722          [I, Now, Pronounce, You, Chuck, &, Larry]  \n",
       "1842                            [Me,, Myself, &, Irene]  \n",
       "1878                              [Love, &, Basketball]  \n",
       "1881                             [Dungeons, &, Dragons]  \n",
       "1887        [The, Adventures, of, Rocky, &, Bullwinkle]  \n",
       "\n",
       "[38 rows x 22 columns]"
      ]
     },
     "execution_count": 152,
     "metadata": {},
     "output_type": "execute_result"
    }
   ],
   "source": [
    "data[data['original_title'].str.contains(\"&\")]"
   ]
  },
  {
   "cell_type": "code",
   "execution_count": 126,
   "metadata": {
    "ExecuteTime": {
     "end_time": "2020-05-16T09:09:41.866811Z",
     "start_time": "2020-05-16T09:09:41.773528Z"
    },
    "scrolled": true
   },
   "outputs": [
    {
     "data": {
      "text/html": [
       "<div>\n",
       "<style scoped>\n",
       "    .dataframe tbody tr th:only-of-type {\n",
       "        vertical-align: middle;\n",
       "    }\n",
       "\n",
       "    .dataframe tbody tr th {\n",
       "        vertical-align: top;\n",
       "    }\n",
       "\n",
       "    .dataframe thead th {\n",
       "        text-align: right;\n",
       "    }\n",
       "</style>\n",
       "<table border=\"1\" class=\"dataframe\">\n",
       "  <thead>\n",
       "    <tr style=\"text-align: right;\">\n",
       "      <th></th>\n",
       "      <th>imdb_id</th>\n",
       "      <th>popularity</th>\n",
       "      <th>budget</th>\n",
       "      <th>revenue</th>\n",
       "      <th>original_title</th>\n",
       "      <th>cast</th>\n",
       "      <th>director</th>\n",
       "      <th>tagline</th>\n",
       "      <th>overview</th>\n",
       "      <th>runtime</th>\n",
       "      <th>...</th>\n",
       "      <th>release_date</th>\n",
       "      <th>vote_count</th>\n",
       "      <th>vote_average</th>\n",
       "      <th>release_year</th>\n",
       "      <th>profit</th>\n",
       "      <th>release_month</th>\n",
       "      <th>length_title</th>\n",
       "      <th>word_count_title</th>\n",
       "      <th>word_title</th>\n",
       "      <th>word_title2</th>\n",
       "    </tr>\n",
       "  </thead>\n",
       "  <tbody>\n",
       "    <tr>\n",
       "      <th>10</th>\n",
       "      <td>tt2379713</td>\n",
       "      <td>6.200282</td>\n",
       "      <td>245000000</td>\n",
       "      <td>880674609</td>\n",
       "      <td>Spectre</td>\n",
       "      <td>Daniel Craig|Christoph Waltz|LÃ©a Seydoux|Ralp...</td>\n",
       "      <td>Sam Mendes</td>\n",
       "      <td>A Plan No One Escapes</td>\n",
       "      <td>A cryptic message from Bondâ€™s past sends him...</td>\n",
       "      <td>148</td>\n",
       "      <td>...</td>\n",
       "      <td>2015-10-26</td>\n",
       "      <td>3254</td>\n",
       "      <td>6.2</td>\n",
       "      <td>2015</td>\n",
       "      <td>635674609</td>\n",
       "      <td>10</td>\n",
       "      <td>7</td>\n",
       "      <td>1</td>\n",
       "      <td>[Spectre]</td>\n",
       "      <td>[Spectre]</td>\n",
       "    </tr>\n",
       "  </tbody>\n",
       "</table>\n",
       "<p>1 rows × 22 columns</p>\n",
       "</div>"
      ],
      "text/plain": [
       "      imdb_id  popularity     budget    revenue original_title  \\\n",
       "10  tt2379713    6.200282  245000000  880674609        Spectre   \n",
       "\n",
       "                                                 cast    director  \\\n",
       "10  Daniel Craig|Christoph Waltz|LÃ©a Seydoux|Ralp...  Sam Mendes   \n",
       "\n",
       "                  tagline                                           overview  \\\n",
       "10  A Plan No One Escapes  A cryptic message from Bondâ€™s past sends him...   \n",
       "\n",
       "    runtime  ... release_date vote_count vote_average  release_year  \\\n",
       "10      148  ...   2015-10-26       3254          6.2          2015   \n",
       "\n",
       "       profit  release_month  length_title  word_count_title  word_title  \\\n",
       "10  635674609             10             7                 1   [Spectre]   \n",
       "\n",
       "    word_title2  \n",
       "10    [Spectre]  \n",
       "\n",
       "[1 rows x 22 columns]"
      ]
     },
     "execution_count": 126,
     "metadata": {},
     "output_type": "execute_result"
    }
   ],
   "source": [
    "data[data.index == 10]"
   ]
  },
  {
   "cell_type": "code",
   "execution_count": 155,
   "metadata": {
    "ExecuteTime": {
     "end_time": "2020-05-16T09:56:16.723035Z",
     "start_time": "2020-05-16T09:56:16.696745Z"
    }
   },
   "outputs": [
    {
     "name": "stdout",
     "output_type": "stream",
     "text": [
      "<class 'pandas.core.frame.DataFrame'>\n",
      "RangeIndex: 1890 entries, 0 to 1889\n",
      "Data columns (total 16 columns):\n",
      " #   Column                Non-Null Count  Dtype  \n",
      "---  ------                --------------  -----  \n",
      " 0   imdb_id               1890 non-null   object \n",
      " 1   popularity            1890 non-null   float64\n",
      " 2   budget                1890 non-null   int64  \n",
      " 3   revenue               1890 non-null   int64  \n",
      " 4   original_title        1890 non-null   object \n",
      " 5   cast                  1890 non-null   object \n",
      " 6   director              1890 non-null   object \n",
      " 7   tagline               1890 non-null   object \n",
      " 8   overview              1890 non-null   object \n",
      " 9   runtime               1890 non-null   int64  \n",
      " 10  genres                1890 non-null   object \n",
      " 11  production_companies  1890 non-null   object \n",
      " 12  release_date          1890 non-null   object \n",
      " 13  vote_count            1890 non-null   int64  \n",
      " 14  vote_average          1890 non-null   float64\n",
      " 15  release_year          1890 non-null   int64  \n",
      "dtypes: float64(2), int64(5), object(9)\n",
      "memory usage: 236.4+ KB\n"
     ]
    }
   ],
   "source": [
    "data.info()"
   ]
  },
  {
   "cell_type": "markdown",
   "metadata": {},
   "source": [
    "# Ответы на вопросы"
   ]
  },
  {
   "cell_type": "markdown",
   "metadata": {},
   "source": [
    "## 1. У какого фильма из списка самый большой бюджет?\n",
    "Варианты ответов:\n",
    "1. The Dark Knight Rises (tt1345836)\n",
    "2. Spider-Man 3 (tt0413300)\n",
    "3. Avengers: Age of Ultron (tt2395427)\n",
    "4. The Warrior's Way\t(tt1032751)\n",
    "5. Pirates of the Caribbean: On Stranger Tides (tt1298650)"
   ]
  },
  {
   "cell_type": "code",
   "execution_count": 7,
   "metadata": {
    "ExecuteTime": {
     "end_time": "2020-05-13T16:15:13.698629Z",
     "start_time": "2020-05-13T16:15:13.680242Z"
    }
   },
   "outputs": [
    {
     "data": {
      "text/html": [
       "<div>\n",
       "<style scoped>\n",
       "    .dataframe tbody tr th:only-of-type {\n",
       "        vertical-align: middle;\n",
       "    }\n",
       "\n",
       "    .dataframe tbody tr th {\n",
       "        vertical-align: top;\n",
       "    }\n",
       "\n",
       "    .dataframe thead th {\n",
       "        text-align: right;\n",
       "    }\n",
       "</style>\n",
       "<table border=\"1\" class=\"dataframe\">\n",
       "  <thead>\n",
       "    <tr style=\"text-align: right;\">\n",
       "      <th></th>\n",
       "      <th>imdb_id</th>\n",
       "      <th>popularity</th>\n",
       "      <th>budget</th>\n",
       "      <th>revenue</th>\n",
       "      <th>original_title</th>\n",
       "      <th>cast</th>\n",
       "      <th>director</th>\n",
       "      <th>tagline</th>\n",
       "      <th>overview</th>\n",
       "      <th>runtime</th>\n",
       "      <th>genres</th>\n",
       "      <th>production_companies</th>\n",
       "      <th>release_date</th>\n",
       "      <th>vote_count</th>\n",
       "      <th>vote_average</th>\n",
       "      <th>release_year</th>\n",
       "      <th>profit</th>\n",
       "    </tr>\n",
       "  </thead>\n",
       "  <tbody>\n",
       "    <tr>\n",
       "      <th>491</th>\n",
       "      <td>tt1032751</td>\n",
       "      <td>0.25054</td>\n",
       "      <td>425000000</td>\n",
       "      <td>11087569</td>\n",
       "      <td>The Warrior's Way</td>\n",
       "      <td>Kate Bosworth|Jang Dong-gun|Geoffrey Rush|Dann...</td>\n",
       "      <td>Sngmoo Lee</td>\n",
       "      <td>Assassin. Hero. Legend.</td>\n",
       "      <td>An Asian assassin (Dong-gun Jang) is forced to...</td>\n",
       "      <td>100</td>\n",
       "      <td>Adventure|Fantasy|Action|Western|Thriller</td>\n",
       "      <td>Boram Entertainment Inc.</td>\n",
       "      <td>2010-12-02</td>\n",
       "      <td>74</td>\n",
       "      <td>6.4</td>\n",
       "      <td>2010</td>\n",
       "      <td>-413912431</td>\n",
       "    </tr>\n",
       "  </tbody>\n",
       "</table>\n",
       "</div>"
      ],
      "text/plain": [
       "       imdb_id  popularity     budget   revenue     original_title  \\\n",
       "491  tt1032751     0.25054  425000000  11087569  The Warrior's Way   \n",
       "\n",
       "                                                  cast    director  \\\n",
       "491  Kate Bosworth|Jang Dong-gun|Geoffrey Rush|Dann...  Sngmoo Lee   \n",
       "\n",
       "                     tagline  \\\n",
       "491  Assassin. Hero. Legend.   \n",
       "\n",
       "                                              overview  runtime  \\\n",
       "491  An Asian assassin (Dong-gun Jang) is forced to...      100   \n",
       "\n",
       "                                        genres      production_companies  \\\n",
       "491  Adventure|Fantasy|Action|Western|Thriller  Boram Entertainment Inc.   \n",
       "\n",
       "    release_date  vote_count  vote_average  release_year     profit  \n",
       "491   2010-12-02          74           6.4          2010 -413912431  "
      ]
     },
     "execution_count": 7,
     "metadata": {},
     "output_type": "execute_result"
    }
   ],
   "source": [
    "data[data.budget == data.budget.max()]"
   ]
  },
  {
   "cell_type": "code",
   "execution_count": 26,
   "metadata": {
    "ExecuteTime": {
     "end_time": "2020-05-12T17:09:02.657580Z",
     "start_time": "2020-05-12T17:09:02.649100Z"
    }
   },
   "outputs": [],
   "source": [
    "answer_ls.append(4)"
   ]
  },
  {
   "cell_type": "markdown",
   "metadata": {},
   "source": [
    "# 2. Какой из фильмов самый длительный (в минутах)\n",
    "1. The Lord of the Rings: The Return of the King\t(tt0167260)\n",
    "2. Gods and Generals\t(tt0279111)\n",
    "3. King Kong\t(tt0360717)\n",
    "4. Pearl Harbor\t(tt0213149)\n",
    "5. Alexander\t(tt0346491)"
   ]
  },
  {
   "cell_type": "code",
   "execution_count": 29,
   "metadata": {
    "ExecuteTime": {
     "end_time": "2020-05-12T17:12:29.711591Z",
     "start_time": "2020-05-12T17:12:29.675349Z"
    }
   },
   "outputs": [
    {
     "data": {
      "text/html": [
       "<div>\n",
       "<style scoped>\n",
       "    .dataframe tbody tr th:only-of-type {\n",
       "        vertical-align: middle;\n",
       "    }\n",
       "\n",
       "    .dataframe tbody tr th {\n",
       "        vertical-align: top;\n",
       "    }\n",
       "\n",
       "    .dataframe thead th {\n",
       "        text-align: right;\n",
       "    }\n",
       "</style>\n",
       "<table border=\"1\" class=\"dataframe\">\n",
       "  <thead>\n",
       "    <tr style=\"text-align: right;\">\n",
       "      <th></th>\n",
       "      <th>imdb_id</th>\n",
       "      <th>popularity</th>\n",
       "      <th>budget</th>\n",
       "      <th>revenue</th>\n",
       "      <th>original_title</th>\n",
       "      <th>cast</th>\n",
       "      <th>director</th>\n",
       "      <th>tagline</th>\n",
       "      <th>overview</th>\n",
       "      <th>runtime</th>\n",
       "      <th>genres</th>\n",
       "      <th>production_companies</th>\n",
       "      <th>release_date</th>\n",
       "      <th>vote_count</th>\n",
       "      <th>vote_average</th>\n",
       "      <th>release_year</th>\n",
       "    </tr>\n",
       "  </thead>\n",
       "  <tbody>\n",
       "    <tr>\n",
       "      <th>1158</th>\n",
       "      <td>tt0279111</td>\n",
       "      <td>0.469518</td>\n",
       "      <td>56000000</td>\n",
       "      <td>12923936</td>\n",
       "      <td>Gods and Generals</td>\n",
       "      <td>Stephen Lang|Jeff Daniels|Robert Duvall|Kevin ...</td>\n",
       "      <td>Ronald F. Maxwell</td>\n",
       "      <td>The nations heart was touched by...</td>\n",
       "      <td>The film centers mostly around the personal an...</td>\n",
       "      <td>214</td>\n",
       "      <td>Drama|History|War</td>\n",
       "      <td>Turner Pictures|Antietam Filmworks</td>\n",
       "      <td>2/21/2003</td>\n",
       "      <td>23</td>\n",
       "      <td>5.8</td>\n",
       "      <td>2003</td>\n",
       "    </tr>\n",
       "  </tbody>\n",
       "</table>\n",
       "</div>"
      ],
      "text/plain": [
       "        imdb_id  popularity    budget   revenue     original_title  \\\n",
       "1158  tt0279111    0.469518  56000000  12923936  Gods and Generals   \n",
       "\n",
       "                                                   cast           director  \\\n",
       "1158  Stephen Lang|Jeff Daniels|Robert Duvall|Kevin ...  Ronald F. Maxwell   \n",
       "\n",
       "                                  tagline  \\\n",
       "1158  The nations heart was touched by...   \n",
       "\n",
       "                                               overview  runtime  \\\n",
       "1158  The film centers mostly around the personal an...      214   \n",
       "\n",
       "                 genres                production_companies release_date  \\\n",
       "1158  Drama|History|War  Turner Pictures|Antietam Filmworks    2/21/2003   \n",
       "\n",
       "      vote_count  vote_average  release_year  \n",
       "1158          23           5.8          2003  "
      ]
     },
     "execution_count": 29,
     "metadata": {},
     "output_type": "execute_result"
    }
   ],
   "source": [
    "data[data.runtime == data.runtime.max()]"
   ]
  },
  {
   "cell_type": "code",
   "execution_count": 30,
   "metadata": {
    "ExecuteTime": {
     "end_time": "2020-05-12T17:12:40.052661Z",
     "start_time": "2020-05-12T17:12:40.049550Z"
    }
   },
   "outputs": [],
   "source": [
    "answer_ls.append(2)"
   ]
  },
  {
   "cell_type": "markdown",
   "metadata": {},
   "source": [
    "# 3. Какой из фильмов самый короткий (в минутах)\n",
    "Варианты ответов:\n",
    "\n",
    "1. Home on the Range\ttt0299172\n",
    "2. The Jungle Book 2\ttt0283426\n",
    "3. Winnie the Pooh\ttt1449283\n",
    "4. Corpse Bride\ttt0121164\n",
    "5. Hoodwinked!\ttt0443536"
   ]
  },
  {
   "cell_type": "code",
   "execution_count": 31,
   "metadata": {
    "ExecuteTime": {
     "end_time": "2020-05-12T17:13:42.387168Z",
     "start_time": "2020-05-12T17:13:42.351029Z"
    }
   },
   "outputs": [
    {
     "data": {
      "text/html": [
       "<div>\n",
       "<style scoped>\n",
       "    .dataframe tbody tr th:only-of-type {\n",
       "        vertical-align: middle;\n",
       "    }\n",
       "\n",
       "    .dataframe tbody tr th {\n",
       "        vertical-align: top;\n",
       "    }\n",
       "\n",
       "    .dataframe thead th {\n",
       "        text-align: right;\n",
       "    }\n",
       "</style>\n",
       "<table border=\"1\" class=\"dataframe\">\n",
       "  <thead>\n",
       "    <tr style=\"text-align: right;\">\n",
       "      <th></th>\n",
       "      <th>imdb_id</th>\n",
       "      <th>popularity</th>\n",
       "      <th>budget</th>\n",
       "      <th>revenue</th>\n",
       "      <th>original_title</th>\n",
       "      <th>cast</th>\n",
       "      <th>director</th>\n",
       "      <th>tagline</th>\n",
       "      <th>overview</th>\n",
       "      <th>runtime</th>\n",
       "      <th>genres</th>\n",
       "      <th>production_companies</th>\n",
       "      <th>release_date</th>\n",
       "      <th>vote_count</th>\n",
       "      <th>vote_average</th>\n",
       "      <th>release_year</th>\n",
       "    </tr>\n",
       "  </thead>\n",
       "  <tbody>\n",
       "    <tr>\n",
       "      <th>769</th>\n",
       "      <td>tt1449283</td>\n",
       "      <td>1.425344</td>\n",
       "      <td>30000000</td>\n",
       "      <td>14460000</td>\n",
       "      <td>Winnie the Pooh</td>\n",
       "      <td>Jim Cummings|Travis Oates|Jim Cummings|Bud Luc...</td>\n",
       "      <td>Stephen Anderson|Don Hall</td>\n",
       "      <td>Oh Pooh.</td>\n",
       "      <td>During an ordinary day in Hundred Acre Wood, W...</td>\n",
       "      <td>63</td>\n",
       "      <td>Animation|Family</td>\n",
       "      <td>Walt Disney Pictures|Walt Disney Animation Stu...</td>\n",
       "      <td>4/13/2011</td>\n",
       "      <td>174</td>\n",
       "      <td>6.8</td>\n",
       "      <td>2011</td>\n",
       "    </tr>\n",
       "  </tbody>\n",
       "</table>\n",
       "</div>"
      ],
      "text/plain": [
       "       imdb_id  popularity    budget   revenue   original_title  \\\n",
       "769  tt1449283    1.425344  30000000  14460000  Winnie the Pooh   \n",
       "\n",
       "                                                  cast  \\\n",
       "769  Jim Cummings|Travis Oates|Jim Cummings|Bud Luc...   \n",
       "\n",
       "                      director   tagline  \\\n",
       "769  Stephen Anderson|Don Hall  Oh Pooh.   \n",
       "\n",
       "                                              overview  runtime  \\\n",
       "769  During an ordinary day in Hundred Acre Wood, W...       63   \n",
       "\n",
       "               genres                               production_companies  \\\n",
       "769  Animation|Family  Walt Disney Pictures|Walt Disney Animation Stu...   \n",
       "\n",
       "    release_date  vote_count  vote_average  release_year  \n",
       "769    4/13/2011         174           6.8          2011  "
      ]
     },
     "execution_count": 31,
     "metadata": {},
     "output_type": "execute_result"
    }
   ],
   "source": [
    "data[data.runtime == data.runtime.min()]"
   ]
  },
  {
   "cell_type": "code",
   "execution_count": null,
   "metadata": {},
   "outputs": [],
   "source": [
    "answer_ls.append(3)"
   ]
  },
  {
   "cell_type": "markdown",
   "metadata": {},
   "source": [
    "# 4. Средняя длительность фильма?\n",
    "\n",
    "Варианты ответов:\n",
    "1. 115\n",
    "2. 110\n",
    "3. 105\n",
    "4. 120\n",
    "5. 100\n"
   ]
  },
  {
   "cell_type": "code",
   "execution_count": 37,
   "metadata": {
    "ExecuteTime": {
     "end_time": "2020-05-12T17:15:35.628324Z",
     "start_time": "2020-05-12T17:15:35.622079Z"
    }
   },
   "outputs": [
    {
     "name": "stdout",
     "output_type": "stream",
     "text": [
      "110\n"
     ]
    }
   ],
   "source": [
    "print(round(data.runtime.mean()))"
   ]
  },
  {
   "cell_type": "code",
   "execution_count": null,
   "metadata": {},
   "outputs": [],
   "source": [
    "answer_ls.append(2)"
   ]
  },
  {
   "cell_type": "markdown",
   "metadata": {},
   "source": [
    "# 5. Средняя длительность фильма по медиане?\n",
    "Варианты ответов:\n",
    "1. 106\n",
    "2. 112\n",
    "3. 101\n",
    "4. 120\n",
    "5. 115\n",
    "\n",
    "\n"
   ]
  },
  {
   "cell_type": "code",
   "execution_count": 38,
   "metadata": {
    "ExecuteTime": {
     "end_time": "2020-05-12T17:15:46.921013Z",
     "start_time": "2020-05-12T17:15:46.888685Z"
    }
   },
   "outputs": [
    {
     "name": "stdout",
     "output_type": "stream",
     "text": [
      "106\n"
     ]
    }
   ],
   "source": [
    "print(round(data.runtime.median()))"
   ]
  },
  {
   "cell_type": "code",
   "execution_count": null,
   "metadata": {},
   "outputs": [],
   "source": [
    "answer_ls.append(1)"
   ]
  },
  {
   "cell_type": "markdown",
   "metadata": {},
   "source": [
    "# 6. Какой самый прибыльный фильм?\n",
    "Варианты ответов:\n",
    "1. The Avengers\ttt0848228\n",
    "2. Minions\ttt2293640\n",
    "3. Star Wars: The Force Awakens\ttt2488496\n",
    "4. Furious 7\ttt2820852\n",
    "5. Avatar\ttt0499549"
   ]
  },
  {
   "cell_type": "code",
   "execution_count": 44,
   "metadata": {
    "ExecuteTime": {
     "end_time": "2020-05-12T17:20:56.138670Z",
     "start_time": "2020-05-12T17:20:56.121632Z"
    }
   },
   "outputs": [
    {
     "data": {
      "text/html": [
       "<div>\n",
       "<style scoped>\n",
       "    .dataframe tbody tr th:only-of-type {\n",
       "        vertical-align: middle;\n",
       "    }\n",
       "\n",
       "    .dataframe tbody tr th {\n",
       "        vertical-align: top;\n",
       "    }\n",
       "\n",
       "    .dataframe thead th {\n",
       "        text-align: right;\n",
       "    }\n",
       "</style>\n",
       "<table border=\"1\" class=\"dataframe\">\n",
       "  <thead>\n",
       "    <tr style=\"text-align: right;\">\n",
       "      <th></th>\n",
       "      <th>imdb_id</th>\n",
       "      <th>popularity</th>\n",
       "      <th>budget</th>\n",
       "      <th>revenue</th>\n",
       "      <th>original_title</th>\n",
       "      <th>cast</th>\n",
       "      <th>director</th>\n",
       "      <th>tagline</th>\n",
       "      <th>overview</th>\n",
       "      <th>runtime</th>\n",
       "      <th>genres</th>\n",
       "      <th>production_companies</th>\n",
       "      <th>release_date</th>\n",
       "      <th>vote_count</th>\n",
       "      <th>vote_average</th>\n",
       "      <th>release_year</th>\n",
       "      <th>profit</th>\n",
       "    </tr>\n",
       "  </thead>\n",
       "  <tbody>\n",
       "    <tr>\n",
       "      <th>239</th>\n",
       "      <td>tt0499549</td>\n",
       "      <td>9.432768</td>\n",
       "      <td>237000000</td>\n",
       "      <td>2781505847</td>\n",
       "      <td>Avatar</td>\n",
       "      <td>Sam Worthington|Zoe Saldana|Sigourney Weaver|S...</td>\n",
       "      <td>James Cameron</td>\n",
       "      <td>Enter the World of Pandora.</td>\n",
       "      <td>In the 22nd century, a paraplegic Marine is di...</td>\n",
       "      <td>162</td>\n",
       "      <td>Action|Adventure|Fantasy|Science Fiction</td>\n",
       "      <td>Ingenious Film Partners|Twentieth Century Fox ...</td>\n",
       "      <td>12/10/2009</td>\n",
       "      <td>8458</td>\n",
       "      <td>7.1</td>\n",
       "      <td>2009</td>\n",
       "      <td>2544505847</td>\n",
       "    </tr>\n",
       "  </tbody>\n",
       "</table>\n",
       "</div>"
      ],
      "text/plain": [
       "       imdb_id  popularity     budget     revenue original_title  \\\n",
       "239  tt0499549    9.432768  237000000  2781505847         Avatar   \n",
       "\n",
       "                                                  cast       director  \\\n",
       "239  Sam Worthington|Zoe Saldana|Sigourney Weaver|S...  James Cameron   \n",
       "\n",
       "                         tagline  \\\n",
       "239  Enter the World of Pandora.   \n",
       "\n",
       "                                              overview  runtime  \\\n",
       "239  In the 22nd century, a paraplegic Marine is di...      162   \n",
       "\n",
       "                                       genres  \\\n",
       "239  Action|Adventure|Fantasy|Science Fiction   \n",
       "\n",
       "                                  production_companies release_date  \\\n",
       "239  Ingenious Film Partners|Twentieth Century Fox ...   12/10/2009   \n",
       "\n",
       "     vote_count  vote_average  release_year      profit  \n",
       "239        8458           7.1          2009  2544505847  "
      ]
     },
     "execution_count": 44,
     "metadata": {},
     "output_type": "execute_result"
    }
   ],
   "source": [
    "data[data.profit == data.profit.max()]"
   ]
  },
  {
   "cell_type": "code",
   "execution_count": null,
   "metadata": {},
   "outputs": [],
   "source": [
    "answer_ls.append(5)"
   ]
  },
  {
   "cell_type": "markdown",
   "metadata": {},
   "source": [
    "# 7. Какой фильм самый убыточный?\n",
    "Варианты ответов:\n",
    "1. Supernova tt0134983\n",
    "2. The Warrior's Way tt1032751\n",
    "3. Flushed Away\ttt0424095\n",
    "4. The Adventures of Pluto Nash\ttt0180052\n",
    "5. The Lone Ranger\ttt1210819"
   ]
  },
  {
   "cell_type": "code",
   "execution_count": 45,
   "metadata": {
    "ExecuteTime": {
     "end_time": "2020-05-12T17:21:44.241927Z",
     "start_time": "2020-05-12T17:21:44.226657Z"
    }
   },
   "outputs": [
    {
     "data": {
      "text/html": [
       "<div>\n",
       "<style scoped>\n",
       "    .dataframe tbody tr th:only-of-type {\n",
       "        vertical-align: middle;\n",
       "    }\n",
       "\n",
       "    .dataframe tbody tr th {\n",
       "        vertical-align: top;\n",
       "    }\n",
       "\n",
       "    .dataframe thead th {\n",
       "        text-align: right;\n",
       "    }\n",
       "</style>\n",
       "<table border=\"1\" class=\"dataframe\">\n",
       "  <thead>\n",
       "    <tr style=\"text-align: right;\">\n",
       "      <th></th>\n",
       "      <th>imdb_id</th>\n",
       "      <th>popularity</th>\n",
       "      <th>budget</th>\n",
       "      <th>revenue</th>\n",
       "      <th>original_title</th>\n",
       "      <th>cast</th>\n",
       "      <th>director</th>\n",
       "      <th>tagline</th>\n",
       "      <th>overview</th>\n",
       "      <th>runtime</th>\n",
       "      <th>genres</th>\n",
       "      <th>production_companies</th>\n",
       "      <th>release_date</th>\n",
       "      <th>vote_count</th>\n",
       "      <th>vote_average</th>\n",
       "      <th>release_year</th>\n",
       "      <th>profit</th>\n",
       "    </tr>\n",
       "  </thead>\n",
       "  <tbody>\n",
       "    <tr>\n",
       "      <th>491</th>\n",
       "      <td>tt1032751</td>\n",
       "      <td>0.25054</td>\n",
       "      <td>425000000</td>\n",
       "      <td>11087569</td>\n",
       "      <td>The Warrior's Way</td>\n",
       "      <td>Kate Bosworth|Jang Dong-gun|Geoffrey Rush|Dann...</td>\n",
       "      <td>Sngmoo Lee</td>\n",
       "      <td>Assassin. Hero. Legend.</td>\n",
       "      <td>An Asian assassin (Dong-gun Jang) is forced to...</td>\n",
       "      <td>100</td>\n",
       "      <td>Adventure|Fantasy|Action|Western|Thriller</td>\n",
       "      <td>Boram Entertainment Inc.</td>\n",
       "      <td>12/2/2010</td>\n",
       "      <td>74</td>\n",
       "      <td>6.4</td>\n",
       "      <td>2010</td>\n",
       "      <td>-413912431</td>\n",
       "    </tr>\n",
       "  </tbody>\n",
       "</table>\n",
       "</div>"
      ],
      "text/plain": [
       "       imdb_id  popularity     budget   revenue     original_title  \\\n",
       "491  tt1032751     0.25054  425000000  11087569  The Warrior's Way   \n",
       "\n",
       "                                                  cast    director  \\\n",
       "491  Kate Bosworth|Jang Dong-gun|Geoffrey Rush|Dann...  Sngmoo Lee   \n",
       "\n",
       "                     tagline  \\\n",
       "491  Assassin. Hero. Legend.   \n",
       "\n",
       "                                              overview  runtime  \\\n",
       "491  An Asian assassin (Dong-gun Jang) is forced to...      100   \n",
       "\n",
       "                                        genres      production_companies  \\\n",
       "491  Adventure|Fantasy|Action|Western|Thriller  Boram Entertainment Inc.   \n",
       "\n",
       "    release_date  vote_count  vote_average  release_year     profit  \n",
       "491    12/2/2010          74           6.4          2010 -413912431  "
      ]
     },
     "execution_count": 45,
     "metadata": {},
     "output_type": "execute_result"
    }
   ],
   "source": [
    "data[data.profit == data.profit.min()]"
   ]
  },
  {
   "cell_type": "code",
   "execution_count": null,
   "metadata": {},
   "outputs": [],
   "source": [
    "answer_ls.append(2)"
   ]
  },
  {
   "cell_type": "markdown",
   "metadata": {},
   "source": [
    "# 8. Сколько всего фильмов в прибыли?\n",
    "Варианты ответов:\n",
    "1. 1478\n",
    "2. 1520\n",
    "3. 1241\n",
    "4. 1135\n",
    "5. 1398\n"
   ]
  },
  {
   "cell_type": "code",
   "execution_count": 48,
   "metadata": {
    "ExecuteTime": {
     "end_time": "2020-05-12T17:23:06.148830Z",
     "start_time": "2020-05-12T17:23:06.141268Z"
    }
   },
   "outputs": [
    {
     "data": {
      "text/plain": [
       "1478"
      ]
     },
     "execution_count": 48,
     "metadata": {},
     "output_type": "execute_result"
    }
   ],
   "source": [
    "len(data[data.profit > 0])"
   ]
  },
  {
   "cell_type": "code",
   "execution_count": null,
   "metadata": {},
   "outputs": [],
   "source": [
    "answer_ls.append(1)"
   ]
  },
  {
   "cell_type": "markdown",
   "metadata": {},
   "source": [
    "# 9. Самый прибыльный фильм в 2008 году?\n",
    "Варианты ответов:\n",
    "1. Madagascar: Escape 2 Africa\ttt0479952\n",
    "2. Iron Man\ttt0371746\n",
    "3. Kung Fu Panda\ttt0441773\n",
    "4. The Dark Knight\ttt0468569\n",
    "5. Mamma Mia!\ttt0795421"
   ]
  },
  {
   "cell_type": "code",
   "execution_count": 66,
   "metadata": {
    "ExecuteTime": {
     "end_time": "2020-05-12T17:40:00.673671Z",
     "start_time": "2020-05-12T17:40:00.621663Z"
    }
   },
   "outputs": [
    {
     "data": {
      "text/html": [
       "<div>\n",
       "<style scoped>\n",
       "    .dataframe tbody tr th:only-of-type {\n",
       "        vertical-align: middle;\n",
       "    }\n",
       "\n",
       "    .dataframe tbody tr th {\n",
       "        vertical-align: top;\n",
       "    }\n",
       "\n",
       "    .dataframe thead th {\n",
       "        text-align: right;\n",
       "    }\n",
       "</style>\n",
       "<table border=\"1\" class=\"dataframe\">\n",
       "  <thead>\n",
       "    <tr style=\"text-align: right;\">\n",
       "      <th></th>\n",
       "      <th>imdb_id</th>\n",
       "      <th>popularity</th>\n",
       "      <th>budget</th>\n",
       "      <th>revenue</th>\n",
       "      <th>original_title</th>\n",
       "      <th>cast</th>\n",
       "      <th>director</th>\n",
       "      <th>tagline</th>\n",
       "      <th>overview</th>\n",
       "      <th>runtime</th>\n",
       "      <th>genres</th>\n",
       "      <th>production_companies</th>\n",
       "      <th>release_date</th>\n",
       "      <th>vote_count</th>\n",
       "      <th>vote_average</th>\n",
       "      <th>release_year</th>\n",
       "      <th>profit</th>\n",
       "    </tr>\n",
       "  </thead>\n",
       "  <tbody>\n",
       "    <tr>\n",
       "      <th>600</th>\n",
       "      <td>tt0468569</td>\n",
       "      <td>8.466668</td>\n",
       "      <td>185000000</td>\n",
       "      <td>1001921825</td>\n",
       "      <td>The Dark Knight</td>\n",
       "      <td>Christian Bale|Michael Caine|Heath Ledger|Aaro...</td>\n",
       "      <td>Christopher Nolan</td>\n",
       "      <td>Why So Serious?</td>\n",
       "      <td>Batman raises the stakes in his war on crime. ...</td>\n",
       "      <td>152</td>\n",
       "      <td>Drama|Action|Crime|Thriller</td>\n",
       "      <td>DC Comics|Legendary Pictures|Warner Bros.|Syncopy</td>\n",
       "      <td>2008-07-16</td>\n",
       "      <td>8432</td>\n",
       "      <td>8.1</td>\n",
       "      <td>2008</td>\n",
       "      <td>816921825</td>\n",
       "    </tr>\n",
       "  </tbody>\n",
       "</table>\n",
       "</div>"
      ],
      "text/plain": [
       "       imdb_id  popularity     budget     revenue   original_title  \\\n",
       "600  tt0468569    8.466668  185000000  1001921825  The Dark Knight   \n",
       "\n",
       "                                                  cast           director  \\\n",
       "600  Christian Bale|Michael Caine|Heath Ledger|Aaro...  Christopher Nolan   \n",
       "\n",
       "             tagline                                           overview  \\\n",
       "600  Why So Serious?  Batman raises the stakes in his war on crime. ...   \n",
       "\n",
       "     runtime                       genres  \\\n",
       "600      152  Drama|Action|Crime|Thriller   \n",
       "\n",
       "                                  production_companies release_date  \\\n",
       "600  DC Comics|Legendary Pictures|Warner Bros.|Syncopy   2008-07-16   \n",
       "\n",
       "     vote_count  vote_average  release_year     profit  \n",
       "600        8432           8.1          2008  816921825  "
      ]
     },
     "execution_count": 66,
     "metadata": {},
     "output_type": "execute_result"
    }
   ],
   "source": [
    "data[data.release_year == 2008].sort_values('profit', ascending = False).head(1)"
   ]
  },
  {
   "cell_type": "code",
   "execution_count": null,
   "metadata": {},
   "outputs": [],
   "source": [
    "answer_ls.append(4)"
   ]
  },
  {
   "cell_type": "markdown",
   "metadata": {},
   "source": [
    "# 10. Самый убыточный фильм за период с 2012 по 2014 (включительно)?\n",
    "Варианты ответов:\n",
    "1. Winter's Tale\ttt1837709\n",
    "2. Stolen\ttt1656186\n",
    "3. Broken City\ttt1235522\n",
    "4. Upside Down\ttt1374992\n",
    "5. The Lone Ranger\ttt1210819\n"
   ]
  },
  {
   "cell_type": "code",
   "execution_count": 8,
   "metadata": {
    "ExecuteTime": {
     "end_time": "2020-05-13T16:15:23.736565Z",
     "start_time": "2020-05-13T16:15:23.712582Z"
    }
   },
   "outputs": [
    {
     "data": {
      "text/html": [
       "<div>\n",
       "<style scoped>\n",
       "    .dataframe tbody tr th:only-of-type {\n",
       "        vertical-align: middle;\n",
       "    }\n",
       "\n",
       "    .dataframe tbody tr th {\n",
       "        vertical-align: top;\n",
       "    }\n",
       "\n",
       "    .dataframe thead th {\n",
       "        text-align: right;\n",
       "    }\n",
       "</style>\n",
       "<table border=\"1\" class=\"dataframe\">\n",
       "  <thead>\n",
       "    <tr style=\"text-align: right;\">\n",
       "      <th></th>\n",
       "      <th>imdb_id</th>\n",
       "      <th>popularity</th>\n",
       "      <th>budget</th>\n",
       "      <th>revenue</th>\n",
       "      <th>original_title</th>\n",
       "      <th>cast</th>\n",
       "      <th>director</th>\n",
       "      <th>tagline</th>\n",
       "      <th>overview</th>\n",
       "      <th>runtime</th>\n",
       "      <th>genres</th>\n",
       "      <th>production_companies</th>\n",
       "      <th>release_date</th>\n",
       "      <th>vote_count</th>\n",
       "      <th>vote_average</th>\n",
       "      <th>release_year</th>\n",
       "      <th>profit</th>\n",
       "    </tr>\n",
       "  </thead>\n",
       "  <tbody>\n",
       "    <tr>\n",
       "      <th>1246</th>\n",
       "      <td>tt1210819</td>\n",
       "      <td>1.21451</td>\n",
       "      <td>255000000</td>\n",
       "      <td>89289910</td>\n",
       "      <td>The Lone Ranger</td>\n",
       "      <td>Johnny Depp|Armie Hammer|William Fichtner|Hele...</td>\n",
       "      <td>Gore Verbinski</td>\n",
       "      <td>Never Take Off the Mask</td>\n",
       "      <td>The Texas Rangers chase down a gang of outlaws...</td>\n",
       "      <td>149</td>\n",
       "      <td>Action|Adventure|Western</td>\n",
       "      <td>Walt Disney Pictures|Jerry Bruckheimer Films|I...</td>\n",
       "      <td>2013-07-03</td>\n",
       "      <td>1607</td>\n",
       "      <td>6.0</td>\n",
       "      <td>2013</td>\n",
       "      <td>-165710090</td>\n",
       "    </tr>\n",
       "  </tbody>\n",
       "</table>\n",
       "</div>"
      ],
      "text/plain": [
       "        imdb_id  popularity     budget   revenue   original_title  \\\n",
       "1246  tt1210819     1.21451  255000000  89289910  The Lone Ranger   \n",
       "\n",
       "                                                   cast        director  \\\n",
       "1246  Johnny Depp|Armie Hammer|William Fichtner|Hele...  Gore Verbinski   \n",
       "\n",
       "                      tagline  \\\n",
       "1246  Never Take Off the Mask   \n",
       "\n",
       "                                               overview  runtime  \\\n",
       "1246  The Texas Rangers chase down a gang of outlaws...      149   \n",
       "\n",
       "                        genres  \\\n",
       "1246  Action|Adventure|Western   \n",
       "\n",
       "                                   production_companies release_date  \\\n",
       "1246  Walt Disney Pictures|Jerry Bruckheimer Films|I...   2013-07-03   \n",
       "\n",
       "      vote_count  vote_average  release_year     profit  \n",
       "1246        1607           6.0          2013 -165710090  "
      ]
     },
     "execution_count": 8,
     "metadata": {},
     "output_type": "execute_result"
    }
   ],
   "source": [
    "data.query('2012 <= release_year <= 2014').sort_values('profit').head(1)"
   ]
  },
  {
   "cell_type": "code",
   "execution_count": null,
   "metadata": {},
   "outputs": [],
   "source": [
    "answer_ls.append(5)"
   ]
  },
  {
   "cell_type": "markdown",
   "metadata": {},
   "source": [
    "# 11. Какого жанра фильмов больше всего?\n",
    "Варианты ответов:\n",
    "1. Action\n",
    "2. Adventure\n",
    "3. Drama\n",
    "4. Comedy\n",
    "5. Thriller"
   ]
  },
  {
   "cell_type": "code",
   "execution_count": 82,
   "metadata": {
    "ExecuteTime": {
     "end_time": "2020-05-12T17:59:38.545464Z",
     "start_time": "2020-05-12T17:59:38.517967Z"
    }
   },
   "outputs": [
    {
     "name": "stdout",
     "output_type": "stream",
     "text": [
      "Action 583\n",
      "Adventure 416\n",
      "Drama 782\n",
      "Comedy 683\n",
      "Thriller 597\n"
     ]
    }
   ],
   "source": [
    "print('Action', len(data[data.genres.str.contains('Action', na = False)]))\n",
    "print('Adventure', len(data[data.genres.str.contains('Adventure', na = False)]))\n",
    "print('Drama', len(data[data.genres.str.contains('Drama', na = False)]))\n",
    "print('Comedy', len(data[data.genres.str.contains('Comedy', na = False)]))\n",
    "print('Thriller', len(data[data.genres.str.contains('Thriller', na = False)]))"
   ]
  },
  {
   "cell_type": "code",
   "execution_count": null,
   "metadata": {},
   "outputs": [],
   "source": [
    "answer_ls.append(3)"
   ]
  },
  {
   "cell_type": "markdown",
   "metadata": {},
   "source": [
    "# 12. Какого жанра среди прибыльных фильмов больше всего?\n",
    "Варианты ответов:\n",
    "1. Drama\n",
    "2. Comedy\n",
    "3. Action\n",
    "4. Thriller\n",
    "5. Adventure"
   ]
  },
  {
   "cell_type": "code",
   "execution_count": 27,
   "metadata": {
    "ExecuteTime": {
     "end_time": "2020-05-13T16:39:36.167061Z",
     "start_time": "2020-05-13T16:39:36.148573Z"
    }
   },
   "outputs": [
    {
     "name": "stdout",
     "output_type": "stream",
     "text": [
      "Drama 560\n",
      "Comedy 551\n",
      "Action 444\n",
      "Thriller 446\n",
      "Adventure 337\n"
     ]
    }
   ],
   "source": [
    "data_profit = data[data.profit > 0]\n",
    "genres = 'Drama, Comedy, Action, Thriller, Adventure'.split(', ')\n",
    "\n",
    "def genres_count(df, genre):\n",
    "    count = len(df[df['genres'].str.contains(genre, na = False)])\n",
    "    return print(genre, count)\n",
    "\n",
    "for genre in genres:\n",
    "    genres_count(data_profit, genre)"
   ]
  },
  {
   "cell_type": "code",
   "execution_count": null,
   "metadata": {},
   "outputs": [],
   "source": [
    "answer_ls.append(1)"
   ]
  },
  {
   "cell_type": "markdown",
   "metadata": {},
   "source": [
    "# 13. Кто из режиссеров снял больше всего фильмов?\n",
    "Варианты ответов:\n",
    "1. Steven Spielberg\n",
    "2. Ridley Scott \n",
    "3. Steven Soderbergh\n",
    "4. Christopher Nolan\n",
    "5. Clint Eastwood"
   ]
  },
  {
   "cell_type": "code",
   "execution_count": 33,
   "metadata": {
    "ExecuteTime": {
     "end_time": "2020-05-13T16:43:54.590876Z",
     "start_time": "2020-05-13T16:43:54.579258Z"
    }
   },
   "outputs": [
    {
     "data": {
      "text/plain": [
       "count                  1890\n",
       "unique                  958\n",
       "top       Steven Soderbergh\n",
       "freq                     13\n",
       "Name: director, dtype: object"
      ]
     },
     "execution_count": 33,
     "metadata": {},
     "output_type": "execute_result"
    }
   ],
   "source": [
    "data.director.describe(include = ['O'])"
   ]
  },
  {
   "cell_type": "code",
   "execution_count": null,
   "metadata": {},
   "outputs": [],
   "source": [
    "answer_ls.append(3)"
   ]
  },
  {
   "cell_type": "markdown",
   "metadata": {},
   "source": [
    "# 14. Кто из режиссеров снял больше всего Прибыльных фильмов?\n",
    "Варианты ответов:\n",
    "1. Steven Soderbergh\n",
    "2. Clint Eastwood\n",
    "3. Steven Spielberg\n",
    "4. Ridley Scott\n",
    "5. Christopher Nolan"
   ]
  },
  {
   "cell_type": "code",
   "execution_count": 32,
   "metadata": {
    "ExecuteTime": {
     "end_time": "2020-05-13T16:43:50.856980Z",
     "start_time": "2020-05-13T16:43:50.845925Z"
    }
   },
   "outputs": [
    {
     "data": {
      "text/plain": [
       "count             1478\n",
       "unique             774\n",
       "top       Ridley Scott\n",
       "freq                12\n",
       "Name: director, dtype: object"
      ]
     },
     "execution_count": 32,
     "metadata": {},
     "output_type": "execute_result"
    }
   ],
   "source": [
    "data_profit.director.describe(include = ['O'])"
   ]
  },
  {
   "cell_type": "code",
   "execution_count": null,
   "metadata": {},
   "outputs": [],
   "source": [
    "answer_ls.append(4)"
   ]
  },
  {
   "cell_type": "markdown",
   "metadata": {},
   "source": [
    "# 15. Кто из режиссеров принес больше всего прибыли?\n",
    "Варианты ответов:\n",
    "1. Steven Spielberg\n",
    "2. Christopher Nolan\n",
    "3. David Yates\n",
    "4. James Cameron\n",
    "5. Peter Jackson\n"
   ]
  },
  {
   "cell_type": "code",
   "execution_count": 47,
   "metadata": {
    "ExecuteTime": {
     "end_time": "2020-05-13T17:04:57.089389Z",
     "start_time": "2020-05-13T17:04:57.065673Z"
    }
   },
   "outputs": [
    {
     "data": {
      "text/html": [
       "<div>\n",
       "<style scoped>\n",
       "    .dataframe tbody tr th:only-of-type {\n",
       "        vertical-align: middle;\n",
       "    }\n",
       "\n",
       "    .dataframe tbody tr th {\n",
       "        vertical-align: top;\n",
       "    }\n",
       "\n",
       "    .dataframe thead th {\n",
       "        text-align: right;\n",
       "    }\n",
       "</style>\n",
       "<table border=\"1\" class=\"dataframe\">\n",
       "  <thead>\n",
       "    <tr style=\"text-align: right;\">\n",
       "      <th></th>\n",
       "      <th>popularity</th>\n",
       "      <th>budget</th>\n",
       "      <th>revenue</th>\n",
       "      <th>runtime</th>\n",
       "      <th>vote_count</th>\n",
       "      <th>vote_average</th>\n",
       "      <th>release_year</th>\n",
       "      <th>profit</th>\n",
       "    </tr>\n",
       "    <tr>\n",
       "      <th>director</th>\n",
       "      <th></th>\n",
       "      <th></th>\n",
       "      <th></th>\n",
       "      <th></th>\n",
       "      <th></th>\n",
       "      <th></th>\n",
       "      <th></th>\n",
       "      <th></th>\n",
       "    </tr>\n",
       "  </thead>\n",
       "  <tbody>\n",
       "    <tr>\n",
       "      <th>Peter Jackson</th>\n",
       "      <td>45.679675</td>\n",
       "      <td>1288000000</td>\n",
       "      <td>6490593685</td>\n",
       "      <td>1355</td>\n",
       "      <td>31197</td>\n",
       "      <td>58.1</td>\n",
       "      <td>16059</td>\n",
       "      <td>5202593685</td>\n",
       "    </tr>\n",
       "    <tr>\n",
       "      <th>David Yates</th>\n",
       "      <td>20.506537</td>\n",
       "      <td>775000000</td>\n",
       "      <td>4154295625</td>\n",
       "      <td>567</td>\n",
       "      <td>13819</td>\n",
       "      <td>29.6</td>\n",
       "      <td>8037</td>\n",
       "      <td>3379295625</td>\n",
       "    </tr>\n",
       "    <tr>\n",
       "      <th>Christopher Nolan</th>\n",
       "      <td>61.560756</td>\n",
       "      <td>1005000000</td>\n",
       "      <td>4167548502</td>\n",
       "      <td>1135</td>\n",
       "      <td>41561</td>\n",
       "      <td>61.1</td>\n",
       "      <td>16057</td>\n",
       "      <td>3162548502</td>\n",
       "    </tr>\n",
       "    <tr>\n",
       "      <th>James Cameron</th>\n",
       "      <td>9.686149</td>\n",
       "      <td>250000000</td>\n",
       "      <td>2798546718</td>\n",
       "      <td>254</td>\n",
       "      <td>8481</td>\n",
       "      <td>13.8</td>\n",
       "      <td>4012</td>\n",
       "      <td>2548546718</td>\n",
       "    </tr>\n",
       "    <tr>\n",
       "      <th>Steven Spielberg</th>\n",
       "      <td>23.081698</td>\n",
       "      <td>937000000</td>\n",
       "      <td>3386700791</td>\n",
       "      <td>1356</td>\n",
       "      <td>12990</td>\n",
       "      <td>66.9</td>\n",
       "      <td>20064</td>\n",
       "      <td>2449700791</td>\n",
       "    </tr>\n",
       "  </tbody>\n",
       "</table>\n",
       "</div>"
      ],
      "text/plain": [
       "                   popularity      budget     revenue  runtime  vote_count  \\\n",
       "director                                                                     \n",
       "Peter Jackson       45.679675  1288000000  6490593685     1355       31197   \n",
       "David Yates         20.506537   775000000  4154295625      567       13819   \n",
       "Christopher Nolan   61.560756  1005000000  4167548502     1135       41561   \n",
       "James Cameron        9.686149   250000000  2798546718      254        8481   \n",
       "Steven Spielberg    23.081698   937000000  3386700791     1356       12990   \n",
       "\n",
       "                   vote_average  release_year      profit  \n",
       "director                                                   \n",
       "Peter Jackson              58.1         16059  5202593685  \n",
       "David Yates                29.6          8037  3379295625  \n",
       "Christopher Nolan          61.1         16057  3162548502  \n",
       "James Cameron              13.8          4012  2548546718  \n",
       "Steven Spielberg           66.9         20064  2449700791  "
      ]
     },
     "execution_count": 47,
     "metadata": {},
     "output_type": "execute_result"
    }
   ],
   "source": [
    "data[data['director'].isin(['Steven Spielberg', 'Christopher Nolan', \\\n",
    "                            'David Yates', 'James Cameron', \\\n",
    "                            'Peter Jackson'])].groupby('director').agg('sum')\\\n",
    ".sort_values('profit', ascending = False)"
   ]
  },
  {
   "cell_type": "code",
   "execution_count": null,
   "metadata": {},
   "outputs": [],
   "source": [
    "answer_ls.append(5)"
   ]
  },
  {
   "cell_type": "markdown",
   "metadata": {},
   "source": [
    "# 16. Какой актер принес больше всего прибыли?\n",
    "Варианты ответов:\n",
    "1. Emma Watson\n",
    "2. Johnny Depp\n",
    "3. Michelle Rodriguez\n",
    "4. Orlando Bloom\n",
    "5. Rupert Grint"
   ]
  },
  {
   "cell_type": "code",
   "execution_count": 78,
   "metadata": {
    "ExecuteTime": {
     "end_time": "2020-05-13T17:47:59.031337Z",
     "start_time": "2020-05-13T17:47:59.012717Z"
    }
   },
   "outputs": [
    {
     "name": "stdout",
     "output_type": "stream",
     "text": [
      "6666245597 Emma Watson\n",
      "4776417000 Johnny Depp\n",
      "4608031235 Michelle Rodriguez\n",
      "5148578162 Orlando Bloom\n",
      "6408638290 Rupert Grint\n"
     ]
    }
   ],
   "source": [
    "data[data.cast.str.contains('Emma Watson', na = False)]\n",
    "actors = 'Emma Watson, Johnny Depp, Michelle Rodriguez, Orlando Bloom, Rupert Grint'\\\n",
    ".split(', ')\n",
    "\n",
    "def actor_profit(df, actor):\n",
    "    profit = df[df.cast.str.contains(actor, na = False)].profit.sum()\n",
    "    return print(profit, actor)\n",
    "\n",
    "\n",
    "for actor in actors:\n",
    "    actor_profit(data, actor)"
   ]
  },
  {
   "cell_type": "code",
   "execution_count": null,
   "metadata": {},
   "outputs": [],
   "source": [
    "answer_ls.append(1)"
   ]
  },
  {
   "cell_type": "markdown",
   "metadata": {},
   "source": [
    "# 17. Какой актер принес меньше всего прибыли в 2012 году?\n",
    "Варианты ответов:\n",
    "1. Nicolas Cage\n",
    "2. Danny Huston\n",
    "3. Kirsten Dunst\n",
    "4. Jim Sturgess\n",
    "5. Sami Gayle"
   ]
  },
  {
   "cell_type": "code",
   "execution_count": 119,
   "metadata": {
    "ExecuteTime": {
     "end_time": "2020-05-13T18:15:54.505274Z",
     "start_time": "2020-05-13T18:15:54.486567Z"
    }
   },
   "outputs": [
    {
     "name": "stdout",
     "output_type": "stream",
     "text": [
      "-32893443 Nicolas Cage\n",
      "-32893443 Danny Huston\n",
      "-68109207 Kirsten Dunst\n",
      "-23410657 Jim Sturgess\n",
      "-32893443 Sami Gayle\n"
     ]
    }
   ],
   "source": [
    "actors = 'Nicolas Cage, Danny Huston, Kirsten Dunst, Jim Sturgess, Sami Gayle'\\\n",
    ".split(', ')\n",
    "\n",
    "def actor_profit_2012(df, actor):\n",
    "    profit = df[(df.cast.str.contains(actor, na = False)) &\\\n",
    "               (df.release_year == 2012)].profit.sum()\n",
    "    return print(profit, actor)\n",
    "\n",
    "for actor in actors:\n",
    "    actor_profit_2012(data, actor)"
   ]
  },
  {
   "cell_type": "code",
   "execution_count": null,
   "metadata": {},
   "outputs": [],
   "source": [
    "answer_ls.append(3)"
   ]
  },
  {
   "cell_type": "markdown",
   "metadata": {},
   "source": [
    "# 18. Какой актер снялся в большем количестве высокобюджетных фильмов? (в фильмах где бюджет выше среднего по данной выборке)\n",
    "Варианты ответов:\n",
    "1. Tom Cruise\n",
    "2. Mark Wahlberg \n",
    "3. Matt Damon\n",
    "4. Angelina Jolie\n",
    "5. Adam Sandler"
   ]
  },
  {
   "cell_type": "code",
   "execution_count": 122,
   "metadata": {
    "ExecuteTime": {
     "end_time": "2020-05-13T18:16:29.288556Z",
     "start_time": "2020-05-13T18:16:29.268541Z"
    }
   },
   "outputs": [
    {
     "name": "stdout",
     "output_type": "stream",
     "text": [
      "15 Tom Cruise\n",
      "14 Mark Wahlberg\n",
      "18 Matt Damon\n",
      "16 Angelina Jolie\n",
      "17 Adam Sandler\n"
     ]
    }
   ],
   "source": [
    "actors = 'Tom Cruise, Mark Wahlberg, Matt Damon, Angelina Jolie, Adam Sandler'\\\n",
    ".split(', ')\n",
    "actors_profit = []\n",
    "\n",
    "def actor_high_budget(df, actor):\n",
    "    count = len(df[(df.cast.str.contains(actor, na = False)) &\\\n",
    "               (df.budget > df.budget.mean())])\n",
    "    return print(count, actor)\n",
    "\n",
    "for actor in actors:\n",
    "    actor_high_budget(data, actor)"
   ]
  },
  {
   "cell_type": "code",
   "execution_count": null,
   "metadata": {},
   "outputs": [],
   "source": [
    "answer_ls.append(3)"
   ]
  },
  {
   "cell_type": "markdown",
   "metadata": {},
   "source": [
    "# 19. В фильмах какого жанра больше всего снимался Nicolas Cage?  \n",
    "Варианты ответа:\n",
    "1. Drama\n",
    "2. Action\n",
    "3. Thriller\n",
    "4. Adventure\n",
    "5. Crime"
   ]
  },
  {
   "cell_type": "code",
   "execution_count": 127,
   "metadata": {
    "ExecuteTime": {
     "end_time": "2020-05-13T18:29:37.586600Z",
     "start_time": "2020-05-13T18:29:37.562271Z"
    }
   },
   "outputs": [
    {
     "name": "stdout",
     "output_type": "stream",
     "text": [
      "12 Drama\n",
      "17 Action\n",
      "15 Thriller\n",
      "7 Adventure\n",
      "10 Crime\n"
     ]
    }
   ],
   "source": [
    "genres = 'Drama, Action, Thriller, Adventure, Crime'.split(', ')\n",
    "\n",
    "def genre_Cage(df, genre):\n",
    "    count = len(df[(df.cast.str.contains('Nicolas Cage', na = False)) &\\\n",
    "                  (df.genres.str.contains(genre, na = False))])\n",
    "    return print(count, genre)\n",
    "\n",
    "\n",
    "for genre in genres:\n",
    "    genre_Cage(data, genre)"
   ]
  },
  {
   "cell_type": "code",
   "execution_count": null,
   "metadata": {},
   "outputs": [],
   "source": [
    "answer_ls.append(2)"
   ]
  },
  {
   "cell_type": "markdown",
   "metadata": {},
   "source": [
    "# 20. Какая студия сняла больше всего фильмов?\n",
    "Варианты ответа:\n",
    "1. Universal Pictures (Universal)\n",
    "2. Paramount Pictures\n",
    "3. Columbia Pictures\n",
    "4. Warner Bros\n",
    "5. Twentieth Century Fox Film Corporation"
   ]
  },
  {
   "cell_type": "code",
   "execution_count": 142,
   "metadata": {
    "ExecuteTime": {
     "end_time": "2020-05-13T18:39:16.015282Z",
     "start_time": "2020-05-13T18:39:15.997411Z"
    }
   },
   "outputs": [
    {
     "name": "stdout",
     "output_type": "stream",
     "text": [
      "185 Universal\n",
      "122 Paramount Pictures\n",
      "163 Columbia Pictures\n",
      "183 Warner Bros\n",
      "109 Twentieth Century Fox Film Corporation\n"
     ]
    }
   ],
   "source": [
    "studios = [\"Universal\",\n",
    "          \"Paramount Pictures\",\n",
    "           \"Columbia Pictures\",\n",
    "           \"Warner Bros\",\n",
    "           \"Twentieth Century Fox Film Corporation\"\n",
    "          ]\n",
    "\n",
    "def count_studio(df, studio):\n",
    "    count = len(df[df.production_companies.str.contains(studio, na = False)])\n",
    "    print(count, studio)\n",
    "\n",
    "\n",
    "for studio in studios:\n",
    "    count_studio(data, studio)"
   ]
  },
  {
   "cell_type": "code",
   "execution_count": null,
   "metadata": {},
   "outputs": [],
   "source": [
    "answer_ls.append(1)"
   ]
  },
  {
   "cell_type": "markdown",
   "metadata": {},
   "source": [
    "# 21. Какая студия сняла больше всего фильмов в 2015 году?\n",
    "Варианты ответа:\n",
    "1. Universal Pictures\n",
    "2. Paramount Pictures\n",
    "3. Columbia Pictures\n",
    "4. Warner Bros\n",
    "5. Twentieth Century Fox Film Corporation"
   ]
  },
  {
   "cell_type": "code",
   "execution_count": 143,
   "metadata": {
    "ExecuteTime": {
     "end_time": "2020-05-14T08:25:24.189057Z",
     "start_time": "2020-05-14T08:25:24.080248Z"
    }
   },
   "outputs": [
    {
     "name": "stdout",
     "output_type": "stream",
     "text": [
      "11 Universal Pictures\n",
      "7 Paramount Pictures\n",
      "7 Columbia Pictures\n",
      "12 Warner Bros\n",
      "8 Twentieth Century Fox Film Corporation\n"
     ]
    }
   ],
   "source": [
    "studios = [\"Universal Pictures\",\n",
    "          \"Paramount Pictures\",\n",
    "           \"Columbia Pictures\",\n",
    "           \"Warner Bros\",\n",
    "           \"Twentieth Century Fox Film Corporation\"\n",
    "          ]\n",
    "\n",
    "def studios_2015(df, studio):\n",
    "    count = len(df[(df.production_companies.str.contains(studio, na = False)) \\\n",
    "              & (df.release_year == 2015)])\n",
    "    return print(count, studio)\n",
    "\n",
    "\n",
    "for studio in studios:\n",
    "    studios_2015(data, studio)"
   ]
  },
  {
   "cell_type": "code",
   "execution_count": null,
   "metadata": {},
   "outputs": [],
   "source": [
    "answer_ls.append(4)"
   ]
  },
  {
   "cell_type": "markdown",
   "metadata": {},
   "source": [
    "# 22. Какая студия заработала больше всего денег в жанре комедий за все время?\n",
    "Варианты ответа:\n",
    "1. Warner Bros\n",
    "2. Universal Pictures (Universal)\n",
    "3. Columbia Pictures\n",
    "4. Paramount Pictures\n",
    "5. Walt Disney"
   ]
  },
  {
   "cell_type": "code",
   "execution_count": 148,
   "metadata": {
    "ExecuteTime": {
     "end_time": "2020-05-14T08:34:34.904107Z",
     "start_time": "2020-05-14T08:34:34.876630Z"
    }
   },
   "outputs": [
    {
     "name": "stdout",
     "output_type": "stream",
     "text": [
      "9130.349034 Universal\n",
      "3055.625722 Paramount Pictures\n",
      "7161.805266 Columbia Pictures\n",
      "4370.928916 Warner Bros\n",
      "7975.933215 Walt Disney\n"
     ]
    }
   ],
   "source": [
    "studios = [\"Universal\",\n",
    "          \"Paramount Pictures\",\n",
    "           \"Columbia Pictures\",\n",
    "           \"Warner Bros\",\n",
    "           \"Walt Disney\"\n",
    "          ]\n",
    "\n",
    "def studio_comedy_profit(df, studio):\n",
    "    profit = df[(df.production_companies.str.contains(studio, na = False))\\\n",
    "               & (df.genres.str.contains('Comedy', na = False))].profit.sum()\n",
    "    return print(profit/10**6, studio)\n",
    "\n",
    "\n",
    "for studio in studios:\n",
    "    studio_comedy_profit(data, studio)"
   ]
  },
  {
   "cell_type": "code",
   "execution_count": null,
   "metadata": {},
   "outputs": [],
   "source": [
    "answer_ls.append(2)"
   ]
  },
  {
   "cell_type": "markdown",
   "metadata": {},
   "source": [
    "# 23. Какая студия заработала больше всего денег в 2012 году?\n",
    "Варианты ответа:\n",
    "1. Universal Pictures (Universal)\n",
    "2. Warner Bros\n",
    "3. Columbia Pictures\n",
    "4. Paramount Pictures\n",
    "5. Lucasfilm"
   ]
  },
  {
   "cell_type": "code",
   "execution_count": 149,
   "metadata": {
    "ExecuteTime": {
     "end_time": "2020-05-14T08:38:33.808340Z",
     "start_time": "2020-05-14T08:38:33.782353Z"
    }
   },
   "outputs": [
    {
     "name": "stdout",
     "output_type": "stream",
     "text": [
      "1981.011579 Universal\n",
      "410.726715 Paramount Pictures\n",
      "2501.406608 Columbia Pictures\n",
      "1258.020056 Warner Bros\n",
      "-7.634623 Lucasfilm\n"
     ]
    }
   ],
   "source": [
    "studios = [\"Universal\",\n",
    "          \"Paramount Pictures\",\n",
    "           \"Columbia Pictures\",\n",
    "           \"Warner Bros\",\n",
    "           \"Lucasfilm\"\n",
    "          ]\n",
    "\n",
    "def studio_profit_2012(df, studio):\n",
    "    profit = df[(df.production_companies.str.contains(studio, na = False))\\\n",
    "               & (df.release_year == 2012)].profit.sum()\n",
    "    return print(profit/10**6, studio)\n",
    "\n",
    "\n",
    "for studio in studios:\n",
    "    studio_profit_2012(data, studio)"
   ]
  },
  {
   "cell_type": "code",
   "execution_count": null,
   "metadata": {},
   "outputs": [],
   "source": [
    "answer_ls.append(3)"
   ]
  },
  {
   "cell_type": "markdown",
   "metadata": {},
   "source": [
    "# 24. Самый убыточный фильм от Paramount Pictures\n",
    "Варианты ответа:\n",
    "\n",
    "1. K-19: The Widowmaker tt0267626\n",
    "2. Next tt0435705\n",
    "3. Twisted tt0315297\n",
    "4. The Love Guru tt0811138\n",
    "5. The Fighter tt0964517"
   ]
  },
  {
   "cell_type": "code",
   "execution_count": 157,
   "metadata": {
    "ExecuteTime": {
     "end_time": "2020-05-14T08:47:22.716403Z",
     "start_time": "2020-05-14T08:47:22.691176Z"
    }
   },
   "outputs": [
    {
     "data": {
      "text/html": [
       "<div>\n",
       "<style scoped>\n",
       "    .dataframe tbody tr th:only-of-type {\n",
       "        vertical-align: middle;\n",
       "    }\n",
       "\n",
       "    .dataframe tbody tr th {\n",
       "        vertical-align: top;\n",
       "    }\n",
       "\n",
       "    .dataframe thead th {\n",
       "        text-align: right;\n",
       "    }\n",
       "</style>\n",
       "<table border=\"1\" class=\"dataframe\">\n",
       "  <thead>\n",
       "    <tr style=\"text-align: right;\">\n",
       "      <th></th>\n",
       "      <th>imdb_id</th>\n",
       "      <th>popularity</th>\n",
       "      <th>budget</th>\n",
       "      <th>revenue</th>\n",
       "      <th>original_title</th>\n",
       "      <th>cast</th>\n",
       "      <th>director</th>\n",
       "      <th>tagline</th>\n",
       "      <th>overview</th>\n",
       "      <th>runtime</th>\n",
       "      <th>genres</th>\n",
       "      <th>production_companies</th>\n",
       "      <th>release_date</th>\n",
       "      <th>vote_count</th>\n",
       "      <th>vote_average</th>\n",
       "      <th>release_year</th>\n",
       "      <th>profit</th>\n",
       "    </tr>\n",
       "  </thead>\n",
       "  <tbody>\n",
       "    <tr>\n",
       "      <th>926</th>\n",
       "      <td>tt0267626</td>\n",
       "      <td>0.72233</td>\n",
       "      <td>100000000</td>\n",
       "      <td>35168966</td>\n",
       "      <td>K-19: The Widowmaker</td>\n",
       "      <td>Harrison Ford|Liam Neeson|Peter Sarsgaard|Joss...</td>\n",
       "      <td>Kathryn Bigelow</td>\n",
       "      <td>Fate has found its hero.</td>\n",
       "      <td>When Russia's first nuclear submarine malfunct...</td>\n",
       "      <td>138</td>\n",
       "      <td>Thriller|Drama|History</td>\n",
       "      <td>Paramount Pictures|Intermedia Films|National G...</td>\n",
       "      <td>2002-07-19</td>\n",
       "      <td>146</td>\n",
       "      <td>6.0</td>\n",
       "      <td>2002</td>\n",
       "      <td>-64831034</td>\n",
       "    </tr>\n",
       "  </tbody>\n",
       "</table>\n",
       "</div>"
      ],
      "text/plain": [
       "       imdb_id  popularity     budget   revenue        original_title  \\\n",
       "926  tt0267626     0.72233  100000000  35168966  K-19: The Widowmaker   \n",
       "\n",
       "                                                  cast         director  \\\n",
       "926  Harrison Ford|Liam Neeson|Peter Sarsgaard|Joss...  Kathryn Bigelow   \n",
       "\n",
       "                      tagline  \\\n",
       "926  Fate has found its hero.   \n",
       "\n",
       "                                              overview  runtime  \\\n",
       "926  When Russia's first nuclear submarine malfunct...      138   \n",
       "\n",
       "                     genres  \\\n",
       "926  Thriller|Drama|History   \n",
       "\n",
       "                                  production_companies release_date  \\\n",
       "926  Paramount Pictures|Intermedia Films|National G...   2002-07-19   \n",
       "\n",
       "     vote_count  vote_average  release_year    profit  \n",
       "926         146           6.0          2002 -64831034  "
      ]
     },
     "execution_count": 157,
     "metadata": {},
     "output_type": "execute_result"
    }
   ],
   "source": [
    "data[data.production_companies.str.contains(\"Paramount Pictures\", na = False)]\\\n",
    ".sort_values('profit').head(1)"
   ]
  },
  {
   "cell_type": "code",
   "execution_count": null,
   "metadata": {},
   "outputs": [],
   "source": [
    "answer_ls.append(1)"
   ]
  },
  {
   "cell_type": "markdown",
   "metadata": {},
   "source": [
    "# 25. Какой Самый прибыльный год (заработали больше всего)?\n",
    "Варианты ответа:\n",
    "1. 2014\n",
    "2. 2008\n",
    "3. 2012\n",
    "4. 2002\n",
    "5. 2015"
   ]
  },
  {
   "cell_type": "code",
   "execution_count": 160,
   "metadata": {
    "ExecuteTime": {
     "end_time": "2020-05-14T08:51:52.577995Z",
     "start_time": "2020-05-14T08:51:52.557518Z"
    }
   },
   "outputs": [
    {
     "data": {
      "text/html": [
       "<div>\n",
       "<style scoped>\n",
       "    .dataframe tbody tr th:only-of-type {\n",
       "        vertical-align: middle;\n",
       "    }\n",
       "\n",
       "    .dataframe tbody tr th {\n",
       "        vertical-align: top;\n",
       "    }\n",
       "\n",
       "    .dataframe thead th {\n",
       "        text-align: right;\n",
       "    }\n",
       "</style>\n",
       "<table border=\"1\" class=\"dataframe\">\n",
       "  <thead>\n",
       "    <tr style=\"text-align: right;\">\n",
       "      <th></th>\n",
       "      <th>popularity</th>\n",
       "      <th>budget</th>\n",
       "      <th>revenue</th>\n",
       "      <th>runtime</th>\n",
       "      <th>vote_count</th>\n",
       "      <th>vote_average</th>\n",
       "      <th>profit</th>\n",
       "    </tr>\n",
       "    <tr>\n",
       "      <th>release_year</th>\n",
       "      <th></th>\n",
       "      <th></th>\n",
       "      <th></th>\n",
       "      <th></th>\n",
       "      <th></th>\n",
       "      <th></th>\n",
       "      <th></th>\n",
       "    </tr>\n",
       "  </thead>\n",
       "  <tbody>\n",
       "    <tr>\n",
       "      <th>2015</th>\n",
       "      <td>412.757717</td>\n",
       "      <td>6780630004</td>\n",
       "      <td>25449202382</td>\n",
       "      <td>13355</td>\n",
       "      <td>143377</td>\n",
       "      <td>755.2</td>\n",
       "      <td>18668572378</td>\n",
       "    </tr>\n",
       "    <tr>\n",
       "      <th>2014</th>\n",
       "      <td>374.517350</td>\n",
       "      <td>7008050000</td>\n",
       "      <td>23405862953</td>\n",
       "      <td>13444</td>\n",
       "      <td>155491</td>\n",
       "      <td>774.5</td>\n",
       "      <td>16397812953</td>\n",
       "    </tr>\n",
       "    <tr>\n",
       "      <th>2012</th>\n",
       "      <td>194.340559</td>\n",
       "      <td>7002000000</td>\n",
       "      <td>23079001687</td>\n",
       "      <td>12145</td>\n",
       "      <td>150430</td>\n",
       "      <td>682.1</td>\n",
       "      <td>16077001687</td>\n",
       "    </tr>\n",
       "    <tr>\n",
       "      <th>2008</th>\n",
       "      <td>158.907759</td>\n",
       "      <td>6588900000</td>\n",
       "      <td>18252781990</td>\n",
       "      <td>12979</td>\n",
       "      <td>84574</td>\n",
       "      <td>731.1</td>\n",
       "      <td>11663881990</td>\n",
       "    </tr>\n",
       "    <tr>\n",
       "      <th>2002</th>\n",
       "      <td>127.017597</td>\n",
       "      <td>5134000000</td>\n",
       "      <td>14136361487</td>\n",
       "      <td>11528</td>\n",
       "      <td>54743</td>\n",
       "      <td>653.1</td>\n",
       "      <td>9002361487</td>\n",
       "    </tr>\n",
       "  </tbody>\n",
       "</table>\n",
       "</div>"
      ],
      "text/plain": [
       "              popularity      budget      revenue  runtime  vote_count  \\\n",
       "release_year                                                             \n",
       "2015          412.757717  6780630004  25449202382    13355      143377   \n",
       "2014          374.517350  7008050000  23405862953    13444      155491   \n",
       "2012          194.340559  7002000000  23079001687    12145      150430   \n",
       "2008          158.907759  6588900000  18252781990    12979       84574   \n",
       "2002          127.017597  5134000000  14136361487    11528       54743   \n",
       "\n",
       "              vote_average       profit  \n",
       "release_year                             \n",
       "2015                 755.2  18668572378  \n",
       "2014                 774.5  16397812953  \n",
       "2012                 682.1  16077001687  \n",
       "2008                 731.1  11663881990  \n",
       "2002                 653.1   9002361487  "
      ]
     },
     "execution_count": 160,
     "metadata": {},
     "output_type": "execute_result"
    }
   ],
   "source": [
    "data[data['release_year'].isin([2014, 2008, 2012, 2002, 2015])]\\\n",
    ".groupby('release_year').agg('sum').sort_values('profit', ascending = False)"
   ]
  },
  {
   "cell_type": "code",
   "execution_count": null,
   "metadata": {},
   "outputs": [],
   "source": [
    "answer_ls.append(5)"
   ]
  },
  {
   "cell_type": "markdown",
   "metadata": {},
   "source": [
    "# 26. Какой Самый прибыльный год для студии Warner Bros?\n",
    "Варианты ответа:\n",
    "1. 2014\n",
    "2. 2008\n",
    "3. 2012\n",
    "4. 2010\n",
    "5. 2015"
   ]
  },
  {
   "cell_type": "code",
   "execution_count": 165,
   "metadata": {
    "ExecuteTime": {
     "end_time": "2020-05-14T16:59:28.758367Z",
     "start_time": "2020-05-14T16:59:28.728258Z"
    }
   },
   "outputs": [
    {
     "data": {
      "text/html": [
       "<div>\n",
       "<style scoped>\n",
       "    .dataframe tbody tr th:only-of-type {\n",
       "        vertical-align: middle;\n",
       "    }\n",
       "\n",
       "    .dataframe tbody tr th {\n",
       "        vertical-align: top;\n",
       "    }\n",
       "\n",
       "    .dataframe thead th {\n",
       "        text-align: right;\n",
       "    }\n",
       "</style>\n",
       "<table border=\"1\" class=\"dataframe\">\n",
       "  <thead>\n",
       "    <tr style=\"text-align: right;\">\n",
       "      <th></th>\n",
       "      <th>popularity</th>\n",
       "      <th>budget</th>\n",
       "      <th>revenue</th>\n",
       "      <th>runtime</th>\n",
       "      <th>vote_count</th>\n",
       "      <th>vote_average</th>\n",
       "      <th>profit</th>\n",
       "    </tr>\n",
       "    <tr>\n",
       "      <th>release_year</th>\n",
       "      <th></th>\n",
       "      <th></th>\n",
       "      <th></th>\n",
       "      <th></th>\n",
       "      <th></th>\n",
       "      <th></th>\n",
       "      <th></th>\n",
       "    </tr>\n",
       "  </thead>\n",
       "  <tbody>\n",
       "    <tr>\n",
       "      <th>2014</th>\n",
       "      <td>63.903623</td>\n",
       "      <td>947600000</td>\n",
       "      <td>3243064519</td>\n",
       "      <td>1576</td>\n",
       "      <td>24855</td>\n",
       "      <td>88.9</td>\n",
       "      <td>2295464519</td>\n",
       "    </tr>\n",
       "    <tr>\n",
       "      <th>2008</th>\n",
       "      <td>23.986384</td>\n",
       "      <td>916000000</td>\n",
       "      <td>3050595031</td>\n",
       "      <td>1366</td>\n",
       "      <td>17455</td>\n",
       "      <td>72.0</td>\n",
       "      <td>2134595031</td>\n",
       "    </tr>\n",
       "    <tr>\n",
       "      <th>2010</th>\n",
       "      <td>26.441327</td>\n",
       "      <td>1034000000</td>\n",
       "      <td>3008712985</td>\n",
       "      <td>1421</td>\n",
       "      <td>20286</td>\n",
       "      <td>79.6</td>\n",
       "      <td>1974712985</td>\n",
       "    </tr>\n",
       "    <tr>\n",
       "      <th>2012</th>\n",
       "      <td>12.593044</td>\n",
       "      <td>611500000</td>\n",
       "      <td>1869520056</td>\n",
       "      <td>579</td>\n",
       "      <td>11729</td>\n",
       "      <td>30.0</td>\n",
       "      <td>1258020056</td>\n",
       "    </tr>\n",
       "    <tr>\n",
       "      <th>2015</th>\n",
       "      <td>30.133961</td>\n",
       "      <td>820800003</td>\n",
       "      <td>1691168351</td>\n",
       "      <td>1358</td>\n",
       "      <td>11574</td>\n",
       "      <td>75.9</td>\n",
       "      <td>870368348</td>\n",
       "    </tr>\n",
       "  </tbody>\n",
       "</table>\n",
       "</div>"
      ],
      "text/plain": [
       "              popularity      budget     revenue  runtime  vote_count  \\\n",
       "release_year                                                            \n",
       "2014           63.903623   947600000  3243064519     1576       24855   \n",
       "2008           23.986384   916000000  3050595031     1366       17455   \n",
       "2010           26.441327  1034000000  3008712985     1421       20286   \n",
       "2012           12.593044   611500000  1869520056      579       11729   \n",
       "2015           30.133961   820800003  1691168351     1358       11574   \n",
       "\n",
       "              vote_average      profit  \n",
       "release_year                            \n",
       "2014                  88.9  2295464519  \n",
       "2008                  72.0  2134595031  \n",
       "2010                  79.6  1974712985  \n",
       "2012                  30.0  1258020056  \n",
       "2015                  75.9   870368348  "
      ]
     },
     "execution_count": 165,
     "metadata": {},
     "output_type": "execute_result"
    }
   ],
   "source": [
    "data[(data['release_year'].isin([2014, 2008, 2012, 2010, 2015])) & \n",
    "      (data.production_companies.str.contains('Warner Bros', na = False))]\\\n",
    ".groupby('release_year').agg('sum').sort_values('profit', ascending = False)"
   ]
  },
  {
   "cell_type": "code",
   "execution_count": null,
   "metadata": {},
   "outputs": [],
   "source": [
    "answer_ls.append(1)"
   ]
  },
  {
   "cell_type": "markdown",
   "metadata": {},
   "source": [
    "# 27. В каком месяце за все годы суммарно вышло больше всего фильмов?\n",
    "Варианты ответа:\n",
    "1. Январь\n",
    "2. Июнь\n",
    "3. Декабрь\n",
    "4. Сентябрь\n",
    "5. Май"
   ]
  },
  {
   "cell_type": "code",
   "execution_count": 190,
   "metadata": {
    "ExecuteTime": {
     "end_time": "2020-05-14T17:56:18.366584Z",
     "start_time": "2020-05-14T17:56:18.356534Z"
    }
   },
   "outputs": [
    {
     "data": {
      "text/plain": [
       "release_month\n",
       "1     110\n",
       "5     140\n",
       "6     147\n",
       "9     227\n",
       "12    191\n",
       "Name: imdb_id, dtype: int64"
      ]
     },
     "execution_count": 190,
     "metadata": {},
     "output_type": "execute_result"
    }
   ],
   "source": [
    "data[data.release_month.isin([1, 5, 6, 9, 12])].groupby(by = 'release_month')\\\n",
    "['imdb_id'].count()"
   ]
  },
  {
   "cell_type": "code",
   "execution_count": null,
   "metadata": {},
   "outputs": [],
   "source": [
    "answer_ls.append(4)"
   ]
  },
  {
   "cell_type": "markdown",
   "metadata": {},
   "source": [
    "# 28. Сколько суммарно вышло фильмов летом? (за июнь, июль, август)\n",
    "Варианты ответа:\n",
    "1. 345\n",
    "2. 450\n",
    "3. 478\n",
    "4. 523\n",
    "5. 381"
   ]
  },
  {
   "cell_type": "code",
   "execution_count": 192,
   "metadata": {
    "ExecuteTime": {
     "end_time": "2020-05-14T17:58:44.664642Z",
     "start_time": "2020-05-14T17:58:44.654086Z"
    }
   },
   "outputs": [
    {
     "data": {
      "text/plain": [
       "450"
      ]
     },
     "execution_count": 192,
     "metadata": {},
     "output_type": "execute_result"
    }
   ],
   "source": [
    "len(data[data.release_month.isin([6, 7, 8])])"
   ]
  },
  {
   "cell_type": "code",
   "execution_count": null,
   "metadata": {},
   "outputs": [],
   "source": [
    "answer_ls.append(2)"
   ]
  },
  {
   "cell_type": "markdown",
   "metadata": {},
   "source": [
    "# 29. Какой режисер выпускает (суммарно по годам) больше всего фильмов зимой?\n",
    "Варианты ответов:\n",
    "1. Steven Soderbergh\n",
    "2. Christopher Nolan\n",
    "3. Clint Eastwood\n",
    "4. Ridley Scott\n",
    "5. Peter Jackson"
   ]
  },
  {
   "cell_type": "code",
   "execution_count": 195,
   "metadata": {
    "ExecuteTime": {
     "end_time": "2020-05-14T18:31:35.757213Z",
     "start_time": "2020-05-14T18:31:35.722402Z"
    }
   },
   "outputs": [
    {
     "name": "stdout",
     "output_type": "stream",
     "text": [
      "5 Steven Soderbergh\n",
      "3 Christopher Nolan\n",
      "9 Clint Eastwood\n",
      "5 Ridley Scott\n",
      "8 Peter Jackson\n"
     ]
    }
   ],
   "source": [
    "directors = [\"Steven Soderbergh\",\n",
    "             \"Christopher Nolan\",\n",
    "             \"Clint Eastwood\",\n",
    "             \"Ridley Scott\",\n",
    "             \"Peter Jackson\"\n",
    "            ]\n",
    "\n",
    "def winter_director(df, director):\n",
    "    count = len(df[(df.release_month.isin([10, 11, 12])) &\\\n",
    "                  (df.director == director)])\n",
    "    return print(count, director)\n",
    "\n",
    "\n",
    "for director in directors:\n",
    "    winter_director(data, director)"
   ]
  },
  {
   "cell_type": "code",
   "execution_count": null,
   "metadata": {},
   "outputs": [],
   "source": [
    "answer_ls.append(3)"
   ]
  },
  {
   "cell_type": "markdown",
   "metadata": {},
   "source": [
    "# 30. Какой месяц чаще всего по годам самый прибыльный?\n",
    "Варианты ответа:\n",
    "1. Январь\n",
    "2. Июнь\n",
    "3. Декабрь\n",
    "4. Сентябрь\n",
    "5. Май"
   ]
  },
  {
   "cell_type": "code",
   "execution_count": 198,
   "metadata": {
    "ExecuteTime": {
     "end_time": "2020-05-14T18:37:44.425251Z",
     "start_time": "2020-05-14T18:37:44.399938Z"
    }
   },
   "outputs": [
    {
     "data": {
      "text/html": [
       "<div>\n",
       "<style scoped>\n",
       "    .dataframe tbody tr th:only-of-type {\n",
       "        vertical-align: middle;\n",
       "    }\n",
       "\n",
       "    .dataframe tbody tr th {\n",
       "        vertical-align: top;\n",
       "    }\n",
       "\n",
       "    .dataframe thead th {\n",
       "        text-align: right;\n",
       "    }\n",
       "</style>\n",
       "<table border=\"1\" class=\"dataframe\">\n",
       "  <thead>\n",
       "    <tr style=\"text-align: right;\">\n",
       "      <th></th>\n",
       "      <th>popularity</th>\n",
       "      <th>budget</th>\n",
       "      <th>revenue</th>\n",
       "      <th>runtime</th>\n",
       "      <th>vote_count</th>\n",
       "      <th>vote_average</th>\n",
       "      <th>release_year</th>\n",
       "      <th>profit</th>\n",
       "    </tr>\n",
       "    <tr>\n",
       "      <th>release_month</th>\n",
       "      <th></th>\n",
       "      <th></th>\n",
       "      <th></th>\n",
       "      <th></th>\n",
       "      <th></th>\n",
       "      <th></th>\n",
       "      <th></th>\n",
       "      <th></th>\n",
       "    </tr>\n",
       "  </thead>\n",
       "  <tbody>\n",
       "    <tr>\n",
       "      <th>6</th>\n",
       "      <td>284.103375</td>\n",
       "      <td>11871700000</td>\n",
       "      <td>39422962500</td>\n",
       "      <td>16092</td>\n",
       "      <td>171386</td>\n",
       "      <td>893.6</td>\n",
       "      <td>295091</td>\n",
       "      <td>27551262500</td>\n",
       "    </tr>\n",
       "    <tr>\n",
       "      <th>12</th>\n",
       "      <td>336.434496</td>\n",
       "      <td>12222800000</td>\n",
       "      <td>38785871474</td>\n",
       "      <td>23048</td>\n",
       "      <td>173700</td>\n",
       "      <td>1212.8</td>\n",
       "      <td>383400</td>\n",
       "      <td>26563071474</td>\n",
       "    </tr>\n",
       "    <tr>\n",
       "      <th>5</th>\n",
       "      <td>286.094123</td>\n",
       "      <td>11358600531</td>\n",
       "      <td>36398116672</td>\n",
       "      <td>15927</td>\n",
       "      <td>163287</td>\n",
       "      <td>883.1</td>\n",
       "      <td>281139</td>\n",
       "      <td>25039516141</td>\n",
       "    </tr>\n",
       "    <tr>\n",
       "      <th>9</th>\n",
       "      <td>270.547870</td>\n",
       "      <td>7309800000</td>\n",
       "      <td>18188721041</td>\n",
       "      <td>24652</td>\n",
       "      <td>124971</td>\n",
       "      <td>1433.2</td>\n",
       "      <td>455925</td>\n",
       "      <td>10878921041</td>\n",
       "    </tr>\n",
       "    <tr>\n",
       "      <th>1</th>\n",
       "      <td>151.252935</td>\n",
       "      <td>3923500000</td>\n",
       "      <td>9320385454</td>\n",
       "      <td>11292</td>\n",
       "      <td>63453</td>\n",
       "      <td>642.3</td>\n",
       "      <td>220988</td>\n",
       "      <td>5396885454</td>\n",
       "    </tr>\n",
       "  </tbody>\n",
       "</table>\n",
       "</div>"
      ],
      "text/plain": [
       "               popularity       budget      revenue  runtime  vote_count  \\\n",
       "release_month                                                              \n",
       "6              284.103375  11871700000  39422962500    16092      171386   \n",
       "12             336.434496  12222800000  38785871474    23048      173700   \n",
       "5              286.094123  11358600531  36398116672    15927      163287   \n",
       "9              270.547870   7309800000  18188721041    24652      124971   \n",
       "1              151.252935   3923500000   9320385454    11292       63453   \n",
       "\n",
       "               vote_average  release_year       profit  \n",
       "release_month                                           \n",
       "6                     893.6        295091  27551262500  \n",
       "12                   1212.8        383400  26563071474  \n",
       "5                     883.1        281139  25039516141  \n",
       "9                    1433.2        455925  10878921041  \n",
       "1                     642.3        220988   5396885454  "
      ]
     },
     "execution_count": 198,
     "metadata": {},
     "output_type": "execute_result"
    }
   ],
   "source": [
    "data[data.release_month.isin([1, 5, 6, 9, 12])].groupby('release_month')\\\n",
    ".agg('sum').sort_values('profit', ascending = False)"
   ]
  },
  {
   "cell_type": "code",
   "execution_count": null,
   "metadata": {},
   "outputs": [],
   "source": [
    "answer_ls.append(2)"
   ]
  },
  {
   "cell_type": "markdown",
   "metadata": {},
   "source": [
    "# 31. Названия фильмов какой студии в среднем самые длинные по количеству символов?\n",
    "Варианты ответа:\n",
    "1. Universal Pictures (Universal)\n",
    "2. Warner Bros\n",
    "3. Jim Henson Company, The\n",
    "4. Paramount Pictures\n",
    "5. Four By Two Productions"
   ]
  },
  {
   "cell_type": "code",
   "execution_count": 238,
   "metadata": {
    "ExecuteTime": {
     "end_time": "2020-05-15T07:56:29.441284Z",
     "start_time": "2020-05-15T07:56:29.417778Z"
    }
   },
   "outputs": [
    {
     "name": "stdout",
     "output_type": "stream",
     "text": [
      "14.76 Universal\n",
      "15.25 Warner Bros\n",
      "59.0 Jim Henson Company, The\n",
      "17.03 Paramount Pictures\n",
      "83.0 Four By Two Productions\n"
     ]
    }
   ],
   "source": [
    "studios = [\"Universal\",\n",
    "           \"Warner Bros\",\n",
    "           \"Jim Henson Company, The\",\n",
    "           \"Paramount Pictures\",\n",
    "           \"Four By Two Productions\"]\n",
    "\n",
    "def mean_length_titles(df, studio):\n",
    "    length = df[df['production_companies'].str.contains(studio, na = False)]\\\n",
    "    .length_title.mean()\n",
    "    return print(round(length, 2), studio)\n",
    "\n",
    "\n",
    "for studio in studios:\n",
    "    mean_length_titles(data, studio)"
   ]
  },
  {
   "cell_type": "code",
   "execution_count": null,
   "metadata": {},
   "outputs": [],
   "source": [
    "answer_ls.append(5)"
   ]
  },
  {
   "cell_type": "markdown",
   "metadata": {},
   "source": [
    "# 32. Названия фильмов какой студии в среднем самые длинные по количеству слов?\n",
    "Варианты ответа:\n",
    "1. Universal Pictures (Universal)\n",
    "2. Warner Bros\n",
    "3. Jim Henson Company, The\n",
    "4. Paramount Pictures\n",
    "5. Four By Two Productions"
   ]
  },
  {
   "cell_type": "code",
   "execution_count": 280,
   "metadata": {
    "ExecuteTime": {
     "end_time": "2020-05-15T09:03:30.017708Z",
     "start_time": "2020-05-15T09:03:29.995694Z"
    }
   },
   "outputs": [
    {
     "name": "stdout",
     "output_type": "stream",
     "text": [
      "2.66 Universal\n",
      "2.8 Warner Bros\n",
      "10.0 Jim Henson Company, The\n",
      "2.86 Paramount Pictures\n",
      "12.0 Four By Two Productions\n"
     ]
    }
   ],
   "source": [
    "studios = [\"Universal\",\n",
    "           \"Warner Bros\",\n",
    "           \"Jim Henson Company, The\",\n",
    "           \"Paramount Pictures\",\n",
    "           \"Four By Two Productions\"]\n",
    "\n",
    "def mean_word_count_titles(df, studio):\n",
    "    word_count = df[df['production_companies'].str.contains(studio, na = False)]\\\n",
    "    .word_count_title.mean()\n",
    "    return print(round(word_count, 2), studio)\n",
    "\n",
    "\n",
    "for studio in studios:\n",
    "    mean_word_count_titles(data, studio)"
   ]
  },
  {
   "cell_type": "code",
   "execution_count": null,
   "metadata": {},
   "outputs": [],
   "source": [
    "answer_ls.append(5)"
   ]
  },
  {
   "cell_type": "markdown",
   "metadata": {},
   "source": [
    "# 33. Сколько разных слов используется в названиях фильмов?(без учета регистра)\n",
    "Варианты ответа:\n",
    "1. 6540\n",
    "2. 1002\n",
    "3. 2461\n",
    "4. 28304\n",
    "5. 3432"
   ]
  },
  {
   "cell_type": "code",
   "execution_count": 153,
   "metadata": {
    "ExecuteTime": {
     "end_time": "2020-05-16T09:46:57.839080Z",
     "start_time": "2020-05-16T09:46:55.296833Z"
    }
   },
   "outputs": [
    {
     "data": {
      "text/plain": [
       "'all'"
      ]
     },
     "metadata": {},
     "output_type": "display_data"
    },
    {
     "data": {
      "text/plain": [
       "2331"
      ]
     },
     "metadata": {},
     "output_type": "display_data"
    },
    {
     "data": {
      "text/plain": [
       "'D'"
      ]
     },
     "metadata": {},
     "output_type": "display_data"
    },
    {
     "data": {
      "text/plain": [
       "word    2284\n",
       "dtype: int64"
      ]
     },
     "metadata": {},
     "output_type": "display_data"
    },
    {
     "data": {
      "text/plain": [
       "'d'"
      ]
     },
     "metadata": {},
     "output_type": "display_data"
    },
    {
     "data": {
      "text/plain": [
       "word    52\n",
       "dtype: int64"
      ]
     },
     "metadata": {},
     "output_type": "display_data"
    }
   ],
   "source": [
    "title_word_list = pd.DataFrame(columns = ['word'])\n",
    "\n",
    "for i in data['word_title']:\n",
    "    word = pd.concat([pd.DataFrame([k], columns = ['word']) for k in i],\n",
    "                    ignore_index = True)\n",
    "    title_word_list = pd.concat([title_word_list, word], ignore_index = True)\n",
    "\n",
    "title_word_list.word = word_list.word.apply(lambda x: str(x).lower())\n",
    "\n",
    "display('all', title_word_list.word.nunique())\n",
    "display('D', title_word_list[title_word_list.word.str.contains('\\D')].nunique())\n",
    "display('d', title_word_list[title_word_list.word.str.contains('\\d')].nunique())\n"
   ]
  },
  {
   "cell_type": "code",
   "execution_count": 112,
   "metadata": {
    "ExecuteTime": {
     "end_time": "2020-05-16T08:45:28.501448Z",
     "start_time": "2020-05-16T08:45:25.939439Z"
    }
   },
   "outputs": [
    {
     "data": {
      "text/plain": [
       "'all'"
      ]
     },
     "metadata": {},
     "output_type": "display_data"
    },
    {
     "data": {
      "text/plain": [
       "2325"
      ]
     },
     "metadata": {},
     "output_type": "display_data"
    },
    {
     "data": {
      "text/plain": [
       "'D'"
      ]
     },
     "metadata": {},
     "output_type": "display_data"
    },
    {
     "data": {
      "text/plain": [
       "word    2279\n",
       "dtype: int64"
      ]
     },
     "metadata": {},
     "output_type": "display_data"
    },
    {
     "data": {
      "text/plain": [
       "'d'"
      ]
     },
     "metadata": {},
     "output_type": "display_data"
    },
    {
     "data": {
      "text/plain": [
       "word    51\n",
       "dtype: int64"
      ]
     },
     "metadata": {},
     "output_type": "display_data"
    }
   ],
   "source": [
    "title_word_list = pd.DataFrame(columns = ['word'])\n",
    "\n",
    "for i in data['word_title2']:\n",
    "    word = pd.concat([pd.DataFrame([k], columns = ['word']) for k in i],\n",
    "                    ignore_index = True)\n",
    "    title_word_list = pd.concat([title_word_list, word], ignore_index = True)\n",
    "\n",
    "title_word_list.word = word_list.word.apply(lambda x: str(x).lower())\n",
    "\n",
    "display('all', title_word_list.word.nunique())\n",
    "display('D', title_word_list[title_word_list.word.str.contains('\\D')].nunique())\n",
    "display('d', title_word_list[title_word_list.word.str.contains('\\d')].nunique())\n"
   ]
  },
  {
   "cell_type": "code",
   "execution_count": 108,
   "metadata": {
    "ExecuteTime": {
     "end_time": "2020-05-16T08:41:42.777886Z",
     "start_time": "2020-05-16T08:41:42.769490Z"
    }
   },
   "outputs": [
    {
     "data": {
      "text/html": [
       "<div>\n",
       "<style scoped>\n",
       "    .dataframe tbody tr th:only-of-type {\n",
       "        vertical-align: middle;\n",
       "    }\n",
       "\n",
       "    .dataframe tbody tr th {\n",
       "        vertical-align: top;\n",
       "    }\n",
       "\n",
       "    .dataframe thead th {\n",
       "        text-align: right;\n",
       "    }\n",
       "</style>\n",
       "<table border=\"1\" class=\"dataframe\">\n",
       "  <thead>\n",
       "    <tr style=\"text-align: right;\">\n",
       "      <th></th>\n",
       "      <th>col</th>\n",
       "    </tr>\n",
       "  </thead>\n",
       "  <tbody>\n",
       "    <tr>\n",
       "      <th>0</th>\n",
       "      <td>hi:</td>\n",
       "    </tr>\n",
       "    <tr>\n",
       "      <th>1</th>\n",
       "      <td>7</td>\n",
       "    </tr>\n",
       "    <tr>\n",
       "      <th>2</th>\n",
       "      <td>8</td>\n",
       "    </tr>\n",
       "    <tr>\n",
       "      <th>3</th>\n",
       "      <td>kek</td>\n",
       "    </tr>\n",
       "    <tr>\n",
       "      <th>4</th>\n",
       "      <td>lol</td>\n",
       "    </tr>\n",
       "    <tr>\n",
       "      <th>5</th>\n",
       "      <td>6</td>\n",
       "    </tr>\n",
       "    <tr>\n",
       "      <th>6</th>\n",
       "      <td>5</td>\n",
       "    </tr>\n",
       "    <tr>\n",
       "      <th>7</th>\n",
       "      <td>4</td>\n",
       "    </tr>\n",
       "    <tr>\n",
       "      <th>8</th>\n",
       "      <td>3</td>\n",
       "    </tr>\n",
       "    <tr>\n",
       "      <th>9</th>\n",
       "      <td>3</td>\n",
       "    </tr>\n",
       "    <tr>\n",
       "      <th>10</th>\n",
       "      <td>hi</td>\n",
       "    </tr>\n",
       "    <tr>\n",
       "      <th>11</th>\n",
       "      <td>hi</td>\n",
       "    </tr>\n",
       "    <tr>\n",
       "      <th>12</th>\n",
       "      <td>11</td>\n",
       "    </tr>\n",
       "    <tr>\n",
       "      <th>13</th>\n",
       "      <td>lol</td>\n",
       "    </tr>\n",
       "    <tr>\n",
       "      <th>14</th>\n",
       "      <td>11</td>\n",
       "    </tr>\n",
       "    <tr>\n",
       "      <th>15</th>\n",
       "      <td>pop</td>\n",
       "    </tr>\n",
       "    <tr>\n",
       "      <th>16</th>\n",
       "      <td>pop</td>\n",
       "    </tr>\n",
       "  </tbody>\n",
       "</table>\n",
       "</div>"
      ],
      "text/plain": [
       "    col\n",
       "0   hi:\n",
       "1     7\n",
       "2     8\n",
       "3   kek\n",
       "4   lol\n",
       "5     6\n",
       "6     5\n",
       "7     4\n",
       "8     3\n",
       "9     3\n",
       "10   hi\n",
       "11   hi\n",
       "12   11\n",
       "13  lol\n",
       "14   11\n",
       "15  pop\n",
       "16  pop"
      ]
     },
     "execution_count": 108,
     "metadata": {},
     "output_type": "execute_result"
    }
   ],
   "source": [
    "test = pd.DataFrame({'col': \"hi:,7,8,kek,lol,6,5,4,3,3,hi,hi,11,lol,11,pop,pop\".split(',')})\n",
    "test"
   ]
  },
  {
   "cell_type": "code",
   "execution_count": 109,
   "metadata": {
    "ExecuteTime": {
     "end_time": "2020-05-16T08:41:47.038913Z",
     "start_time": "2020-05-16T08:41:47.019161Z"
    }
   },
   "outputs": [
    {
     "data": {
      "text/plain": [
       "'all'"
      ]
     },
     "metadata": {},
     "output_type": "display_data"
    },
    {
     "data": {
      "text/plain": [
       "12"
      ]
     },
     "metadata": {},
     "output_type": "display_data"
    },
    {
     "data": {
      "text/plain": [
       "'digital'"
      ]
     },
     "metadata": {},
     "output_type": "display_data"
    },
    {
     "data": {
      "text/plain": [
       "col    7\n",
       "dtype: int64"
      ]
     },
     "metadata": {},
     "output_type": "display_data"
    },
    {
     "data": {
      "text/plain": [
       "'not digital'"
      ]
     },
     "metadata": {},
     "output_type": "display_data"
    },
    {
     "data": {
      "text/plain": [
       "col    5\n",
       "dtype: int64"
      ]
     },
     "metadata": {},
     "output_type": "display_data"
    }
   ],
   "source": [
    "display('all', test.col.nunique())\n",
    "display('digital', test[test.col.str.contains('\\d')].nunique())\n",
    "display('not digital', test[test.col.str.contains('\\D')].nunique())"
   ]
  },
  {
   "cell_type": "code",
   "execution_count": null,
   "metadata": {},
   "outputs": [],
   "source": [
    "answer_ls.append(1)"
   ]
  },
  {
   "cell_type": "markdown",
   "metadata": {},
   "source": [
    "# 34. Какие фильмы входят в 1 процент лучших по рейтингу?\n",
    "Варианты ответа:\n",
    "1. Inside Out, Gone Girl, 12 Years a Slave\n",
    "2. BloodRayne, The Adventures of Rocky & Bullwinkle\n",
    "3. The Lord of the Rings: The Return of the King\n",
    "4. 300, Lucky Number Slevin"
   ]
  },
  {
   "cell_type": "code",
   "execution_count": null,
   "metadata": {},
   "outputs": [],
   "source": [
    "answer_ls.append(1)"
   ]
  },
  {
   "cell_type": "markdown",
   "metadata": {},
   "source": [
    "# 35. Какие актеры чаще всего снимаются в одном фильме вместе\n",
    "Варианты ответа:\n",
    "1. Johnny Depp & Helena Bonham Carter\n",
    "2. Hugh Jackman & Ian McKellen\n",
    "3. Vin Diesel & Paul Walker\n",
    "4. Adam Sandler & Kevin James\n",
    "5. Daniel Radcliffe & Rupert Grint"
   ]
  },
  {
   "cell_type": "code",
   "execution_count": null,
   "metadata": {},
   "outputs": [],
   "source": [
    "answer_ls.append(1)"
   ]
  },
  {
   "cell_type": "markdown",
   "metadata": {},
   "source": [
    "# 36. У какого из режиссеров выше вероятность выпустить фильм в прибыли? (5 баллов)101\n",
    "Варианты ответа:\n",
    "1. Quentin Tarantino\n",
    "2. Steven Soderbergh\n",
    "3. Robert Rodriguez\n",
    "4. Christopher Nolan\n",
    "5. Clint Eastwood"
   ]
  },
  {
   "cell_type": "code",
   "execution_count": null,
   "metadata": {},
   "outputs": [],
   "source": [
    "answer_ls.append(1)"
   ]
  },
  {
   "cell_type": "markdown",
   "metadata": {},
   "source": [
    "# Submission"
   ]
  },
  {
   "cell_type": "code",
   "execution_count": 6,
   "metadata": {},
   "outputs": [
    {
     "data": {
      "text/plain": [
       "0"
      ]
     },
     "execution_count": 6,
     "metadata": {},
     "output_type": "execute_result"
    }
   ],
   "source": [
    "len(answer_ls)"
   ]
  },
  {
   "cell_type": "code",
   "execution_count": 5,
   "metadata": {},
   "outputs": [
    {
     "data": {
      "text/html": [
       "<div>\n",
       "<style scoped>\n",
       "    .dataframe tbody tr th:only-of-type {\n",
       "        vertical-align: middle;\n",
       "    }\n",
       "\n",
       "    .dataframe tbody tr th {\n",
       "        vertical-align: top;\n",
       "    }\n",
       "\n",
       "    .dataframe thead th {\n",
       "        text-align: right;\n",
       "    }\n",
       "</style>\n",
       "<table border=\"1\" class=\"dataframe\">\n",
       "  <thead>\n",
       "    <tr style=\"text-align: right;\">\n",
       "      <th></th>\n",
       "      <th>Id</th>\n",
       "      <th>Answer</th>\n",
       "    </tr>\n",
       "  </thead>\n",
       "  <tbody>\n",
       "  </tbody>\n",
       "</table>\n",
       "</div>"
      ],
      "text/plain": [
       "Empty DataFrame\n",
       "Columns: [Id, Answer]\n",
       "Index: []"
      ]
     },
     "execution_count": 5,
     "metadata": {},
     "output_type": "execute_result"
    }
   ],
   "source": [
    "pd.DataFrame({'Id':range(1,len(answer_ls)+1), 'Answer':answer_ls}, columns=['Id', 'Answer'])"
   ]
  },
  {
   "cell_type": "code",
   "execution_count": null,
   "metadata": {},
   "outputs": [],
   "source": []
  }
 ],
 "metadata": {
  "kernelspec": {
   "display_name": "Python 3",
   "language": "python",
   "name": "python3"
  },
  "language_info": {
   "codemirror_mode": {
    "name": "ipython",
    "version": 3
   },
   "file_extension": ".py",
   "mimetype": "text/x-python",
   "name": "python",
   "nbconvert_exporter": "python",
   "pygments_lexer": "ipython3",
   "version": "3.7.6"
  },
  "toc": {
   "base_numbering": 1,
   "nav_menu": {},
   "number_sections": false,
   "sideBar": true,
   "skip_h1_title": false,
   "title_cell": "Table of Contents",
   "title_sidebar": "Contents",
   "toc_cell": false,
   "toc_position": {},
   "toc_section_display": true,
   "toc_window_display": false
  }
 },
 "nbformat": 4,
 "nbformat_minor": 4
}
